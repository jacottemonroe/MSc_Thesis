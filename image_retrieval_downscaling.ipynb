{
 "cells": [
  {
   "cell_type": "markdown",
   "id": "f0db397b",
   "metadata": {},
   "source": [
    "# MSc Thesis \n",
    "# Jacotte Monroe"
   ]
  },
  {
   "cell_type": "markdown",
   "id": "5651d372",
   "metadata": {},
   "source": [
    "Code that retrieves automatically the MODIS and Landsat scenes of interest and loads them. "
   ]
  },
  {
   "cell_type": "markdown",
   "id": "31ba570c",
   "metadata": {},
   "source": [
    "## Importing and initializing "
   ]
  },
  {
   "cell_type": "code",
   "execution_count": 1,
   "id": "b459d81d-0bd6-4a66-a3a7-598bef8a0002",
   "metadata": {},
   "outputs": [
    {
     "data": {
      "text/plain": [
       "True"
      ]
     },
     "execution_count": 1,
     "metadata": {},
     "output_type": "execute_result"
    }
   ],
   "source": [
    "import ee\n",
    "ee.Authenticate()"
   ]
  },
  {
   "cell_type": "code",
   "execution_count": 2,
   "id": "7753d218",
   "metadata": {},
   "outputs": [],
   "source": [
    "import ee\n",
    "import geemap\n",
    "import os\n",
    "import math\n",
    "import pandas as pd\n",
    "\n",
    "ee.Initialize()"
   ]
  },
  {
   "cell_type": "markdown",
   "id": "e2b74252-b27b-41d7-860e-f8a5d44fd53a",
   "metadata": {},
   "source": [
    "## To Change"
   ]
  },
  {
   "cell_type": "code",
   "execution_count": 3,
   "id": "1b768d6c-c952-4f08-b632-59d88806ce18",
   "metadata": {},
   "outputs": [
    {
     "data": {
      "text/html": [
       "\n",
       "            <style>\n",
       "                .geemap-dark {\n",
       "                    --jp-widgets-color: white;\n",
       "                    --jp-widgets-label-color: white;\n",
       "                    --jp-ui-font-color1: white;\n",
       "                    --jp-layout-color2: #454545;\n",
       "                    background-color: #383838;\n",
       "                }\n",
       "                    \n",
       "                .geemap-dark .jupyter-button {\n",
       "                    --jp-layout-color3: #383838;\n",
       "                }\n",
       "                \n",
       "                .geemap-colab {\n",
       "                    background-color: var(--colab-primary-surface-color, white);\n",
       "                }\n",
       "                    \n",
       "                .geemap-colab .jupyter-button {\n",
       "                    --jp-layout-color3: var(--colab-primary-surface-color, white);\n",
       "                }\n",
       "            </style>\n",
       "            "
      ],
      "text/plain": [
       "<IPython.core.display.HTML object>"
      ]
     },
     "metadata": {},
     "output_type": "display_data"
    }
   ],
   "source": [
    "# define correct week \n",
    "week = '2300'\n",
    "\n",
    "# define type of operation --> '' or 'cloudmasked'\n",
    "#operation_m = 'cloudmasked/'\n",
    "#operation_l = 'cloudmasked/'\n",
    "operation_m_image = '/image/'\n",
    "operation_m_mask = '/mask/'\n",
    "operation_l_image = '/image/'\n",
    "operation_l_mask = '/mask/'\n",
    "\n",
    "# define landsat buffer (days) to make sure there are enough Landsat images \n",
    "l8_buffer = ee.Number(30)"
   ]
  },
  {
   "cell_type": "markdown",
   "id": "f5d05ec0",
   "metadata": {},
   "source": [
    "## Set-up"
   ]
  },
  {
   "cell_type": "code",
   "execution_count": 4,
   "id": "4a865392-74a8-4202-bfb6-d56b93857376",
   "metadata": {},
   "outputs": [
    {
     "data": {
      "text/html": [
       "\n",
       "            <style>\n",
       "                .geemap-dark {\n",
       "                    --jp-widgets-color: white;\n",
       "                    --jp-widgets-label-color: white;\n",
       "                    --jp-ui-font-color1: white;\n",
       "                    --jp-layout-color2: #454545;\n",
       "                    background-color: #383838;\n",
       "                }\n",
       "                    \n",
       "                .geemap-dark .jupyter-button {\n",
       "                    --jp-layout-color3: #383838;\n",
       "                }\n",
       "                \n",
       "                .geemap-colab {\n",
       "                    background-color: var(--colab-primary-surface-color, white);\n",
       "                }\n",
       "                    \n",
       "                .geemap-colab .jupyter-button {\n",
       "                    --jp-layout-color3: var(--colab-primary-surface-color, white);\n",
       "                }\n",
       "            </style>\n",
       "            "
      ],
      "text/plain": [
       "<IPython.core.display.HTML object>"
      ]
     },
     "metadata": {},
     "output_type": "display_data"
    }
   ],
   "source": [
    "# load extent look up table \n",
    "extents_lut = pd.read_csv('data/step_extents/random_paths/LA26_step_ex_w' + week + '.csv')\n",
    "\n",
    "# get largest extent from last row of look up table \n",
    "large_extent = extents_lut.iloc[-1]"
   ]
  },
  {
   "cell_type": "code",
   "execution_count": 5,
   "id": "75e7720b",
   "metadata": {},
   "outputs": [
    {
     "data": {
      "text/html": [
       "\n",
       "            <style>\n",
       "                .geemap-dark {\n",
       "                    --jp-widgets-color: white;\n",
       "                    --jp-widgets-label-color: white;\n",
       "                    --jp-ui-font-color1: white;\n",
       "                    --jp-layout-color2: #454545;\n",
       "                    background-color: #383838;\n",
       "                }\n",
       "                    \n",
       "                .geemap-dark .jupyter-button {\n",
       "                    --jp-layout-color3: #383838;\n",
       "                }\n",
       "                \n",
       "                .geemap-colab {\n",
       "                    background-color: var(--colab-primary-surface-color, white);\n",
       "                }\n",
       "                    \n",
       "                .geemap-colab .jupyter-button {\n",
       "                    --jp-layout-color3: var(--colab-primary-surface-color, white);\n",
       "                }\n",
       "            </style>\n",
       "            "
      ],
      "text/plain": [
       "<IPython.core.display.HTML object>"
      ]
     },
     "metadata": {},
     "output_type": "display_data"
    }
   ],
   "source": [
    "# retrieve date range from table \n",
    "# note: previous week needed to calculate the rate of NDVI change\n",
    "start_date = ee.Date(large_extent.loc['start_date_prev_week'], 'Africa/Maputo') #ee.Date('2014-01-14') # '2014-02-15'\n",
    "end_date = ee.Date(large_extent.loc['end_date'], 'Africa/Maputo') #ee.Date('2014-02-18') # '2012-02-17'"
   ]
  },
  {
   "cell_type": "code",
   "execution_count": 6,
   "id": "ae1cc282-1e54-48f2-a50d-d2e4b3fa880c",
   "metadata": {},
   "outputs": [
    {
     "data": {
      "text/html": [
       "\n",
       "            <style>\n",
       "                .geemap-dark {\n",
       "                    --jp-widgets-color: white;\n",
       "                    --jp-widgets-label-color: white;\n",
       "                    --jp-ui-font-color1: white;\n",
       "                    --jp-layout-color2: #454545;\n",
       "                    background-color: #383838;\n",
       "                }\n",
       "                    \n",
       "                .geemap-dark .jupyter-button {\n",
       "                    --jp-layout-color3: #383838;\n",
       "                }\n",
       "                \n",
       "                .geemap-colab {\n",
       "                    background-color: var(--colab-primary-surface-color, white);\n",
       "                }\n",
       "                    \n",
       "                .geemap-colab .jupyter-button {\n",
       "                    --jp-layout-color3: var(--colab-primary-surface-color, white);\n",
       "                }\n",
       "            </style>\n",
       "            "
      ],
      "text/plain": [
       "<IPython.core.display.HTML object>"
      ]
     },
     "metadata": {},
     "output_type": "display_data"
    }
   ],
   "source": [
    "# create large extent (region) geometry \n",
    "large_extent_coords = [[[large_extent.loc['xmin'], large_extent.loc['ymin']],\n",
    "                        [large_extent.loc['xmin'], large_extent.loc['ymax']],\n",
    "                        [large_extent.loc['xmax'], large_extent.loc['ymax']],\n",
    "                        [large_extent.loc['xmax'], large_extent.loc['ymin']]]]\n",
    "\n",
    "large_region = ee.Geometry.Polygon(large_extent_coords, proj = 'EPSG:32733', evenOdd = False)"
   ]
  },
  {
   "cell_type": "code",
   "execution_count": 7,
   "id": "d5988387",
   "metadata": {},
   "outputs": [
    {
     "data": {
      "text/html": [
       "\n",
       "            <style>\n",
       "                .geemap-dark {\n",
       "                    --jp-widgets-color: white;\n",
       "                    --jp-widgets-label-color: white;\n",
       "                    --jp-ui-font-color1: white;\n",
       "                    --jp-layout-color2: #454545;\n",
       "                    background-color: #383838;\n",
       "                }\n",
       "                    \n",
       "                .geemap-dark .jupyter-button {\n",
       "                    --jp-layout-color3: #383838;\n",
       "                }\n",
       "                \n",
       "                .geemap-colab {\n",
       "                    background-color: var(--colab-primary-surface-color, white);\n",
       "                }\n",
       "                    \n",
       "                .geemap-colab .jupyter-button {\n",
       "                    --jp-layout-color3: var(--colab-primary-surface-color, white);\n",
       "                }\n",
       "            </style>\n",
       "            "
      ],
      "text/plain": [
       "<IPython.core.display.HTML object>"
      ]
     },
     "metadata": {},
     "output_type": "display_data"
    }
   ],
   "source": [
    "# load Etosha National Park study area\n",
    "enp = ee.FeatureCollection('WCMC/WDPA/current/polygons') \\\n",
    "        .filter(ee.Filter.eq('ORIG_NAME', 'Etosha'))\n",
    "\n",
    "# turn ENP study area into a geometry\n",
    "enp_geom = enp.geometry()"
   ]
  },
  {
   "cell_type": "code",
   "execution_count": 8,
   "id": "590427d6",
   "metadata": {},
   "outputs": [
    {
     "data": {
      "text/html": [
       "\n",
       "            <style>\n",
       "                .geemap-dark {\n",
       "                    --jp-widgets-color: white;\n",
       "                    --jp-widgets-label-color: white;\n",
       "                    --jp-ui-font-color1: white;\n",
       "                    --jp-layout-color2: #454545;\n",
       "                    background-color: #383838;\n",
       "                }\n",
       "                    \n",
       "                .geemap-dark .jupyter-button {\n",
       "                    --jp-layout-color3: #383838;\n",
       "                }\n",
       "                \n",
       "                .geemap-colab {\n",
       "                    background-color: var(--colab-primary-surface-color, white);\n",
       "                }\n",
       "                    \n",
       "                .geemap-colab .jupyter-button {\n",
       "                    --jp-layout-color3: var(--colab-primary-surface-color, white);\n",
       "                }\n",
       "            </style>\n",
       "            "
      ],
      "text/plain": [
       "<IPython.core.display.HTML object>"
      ]
     },
     "metadata": {},
     "output_type": "display_data"
    }
   ],
   "source": [
    "# define sample study area \n",
    "# note: sample area is smaller than original sample area because of Landsat data size limit when exporting \n",
    "sample_area = ee.Geometry.Polygon(\n",
    "        [[[15.457215604955591, -18.68807168881119],\n",
    "          [15.457215604955591, -19.120709491695354],\n",
    "          [15.939240751439966, -19.120709491695354],\n",
    "          [15.939240751439966, -18.68807168881119]]], None)"
   ]
  },
  {
   "cell_type": "code",
   "execution_count": 9,
   "id": "d4cc792d-e6a8-485e-bf20-22121599333c",
   "metadata": {},
   "outputs": [
    {
     "data": {
      "text/html": [
       "\n",
       "            <style>\n",
       "                .geemap-dark {\n",
       "                    --jp-widgets-color: white;\n",
       "                    --jp-widgets-label-color: white;\n",
       "                    --jp-ui-font-color1: white;\n",
       "                    --jp-layout-color2: #454545;\n",
       "                    background-color: #383838;\n",
       "                }\n",
       "                    \n",
       "                .geemap-dark .jupyter-button {\n",
       "                    --jp-layout-color3: #383838;\n",
       "                }\n",
       "                \n",
       "                .geemap-colab {\n",
       "                    background-color: var(--colab-primary-surface-color, white);\n",
       "                }\n",
       "                    \n",
       "                .geemap-colab .jupyter-button {\n",
       "                    --jp-layout-color3: var(--colab-primary-surface-color, white);\n",
       "                }\n",
       "            </style>\n",
       "            "
      ],
      "text/plain": [
       "<IPython.core.display.HTML object>"
      ]
     },
     "metadata": {},
     "output_type": "display_data"
    }
   ],
   "source": [
    "# get output folder path for MODIS images\n",
    "# source: https://github.com/gee-community/geemap/blob/master/examples/notebooks/11_export_image.ipynb\n",
    "#out_dir_m = os.path.join(os.path.expanduser('~'), 'Documents/MSc_Thesis/data/modis/' + operation_m + week)\n",
    "#out_dir_l8 = os.path.join(os.path.expanduser('~'), 'Documents/MSc_Thesis/data/l8/' + operation_l + week)\n",
    "\n",
    "out_dir_m_image = os.path.join(os.path.expanduser('~'), 'Documents/MSc_Thesis/data/modis/' + week + operation_m_image)\n",
    "out_dir_m_mask = os.path.join(os.path.expanduser('~'), 'Documents/MSc_Thesis/data/modis/' + week + operation_m_mask)\n",
    "out_dir_l_image = os.path.join(os.path.expanduser('~'), 'Documents/MSc_Thesis/data/l8/' + week + operation_l_image)\n",
    "out_dir_l_mask = os.path.join(os.path.expanduser('~'), 'Documents/MSc_Thesis/data/l8/' + week + operation_l_mask)"
   ]
  },
  {
   "cell_type": "markdown",
   "id": "1c6f422b",
   "metadata": {},
   "source": [
    "## Dataset retrieval"
   ]
  },
  {
   "cell_type": "code",
   "execution_count": 10,
   "id": "719fab98",
   "metadata": {},
   "outputs": [
    {
     "data": {
      "text/html": [
       "\n",
       "            <style>\n",
       "                .geemap-dark {\n",
       "                    --jp-widgets-color: white;\n",
       "                    --jp-widgets-label-color: white;\n",
       "                    --jp-ui-font-color1: white;\n",
       "                    --jp-layout-color2: #454545;\n",
       "                    background-color: #383838;\n",
       "                }\n",
       "                    \n",
       "                .geemap-dark .jupyter-button {\n",
       "                    --jp-layout-color3: #383838;\n",
       "                }\n",
       "                \n",
       "                .geemap-colab {\n",
       "                    background-color: var(--colab-primary-surface-color, white);\n",
       "                }\n",
       "                    \n",
       "                .geemap-colab .jupyter-button {\n",
       "                    --jp-layout-color3: var(--colab-primary-surface-color, white);\n",
       "                }\n",
       "            </style>\n",
       "            "
      ],
      "text/plain": [
       "<IPython.core.display.HTML object>"
      ]
     },
     "metadata": {},
     "output_type": "display_data"
    }
   ],
   "source": [
    "## Landsat 8 \n",
    "# note: ee.List should also normally include 180 (removed it for this sampled study area)\n",
    "# source: https://developers.google.com/earth-engine/apidocs/ee-date-advance#colab-python\n",
    "# note: can't filter bounds with large_region until have reprojected image collections (meantime use enp_geom)\n",
    "l8 = ee.ImageCollection('LANDSAT/LC08/C02/T1_L2') \\\n",
    "        .filterDate(start_date.advance(l8_buffer.multiply(-1), 'day'), end_date.advance(l8_buffer, 'day')) \\\n",
    "        .filterBounds(enp_geom) "
   ]
  },
  {
   "cell_type": "code",
   "execution_count": 11,
   "id": "ff8b337d",
   "metadata": {},
   "outputs": [
    {
     "data": {
      "text/html": [
       "\n",
       "            <style>\n",
       "                .geemap-dark {\n",
       "                    --jp-widgets-color: white;\n",
       "                    --jp-widgets-label-color: white;\n",
       "                    --jp-ui-font-color1: white;\n",
       "                    --jp-layout-color2: #454545;\n",
       "                    background-color: #383838;\n",
       "                }\n",
       "                    \n",
       "                .geemap-dark .jupyter-button {\n",
       "                    --jp-layout-color3: #383838;\n",
       "                }\n",
       "                \n",
       "                .geemap-colab {\n",
       "                    background-color: var(--colab-primary-surface-color, white);\n",
       "                }\n",
       "                    \n",
       "                .geemap-colab .jupyter-button {\n",
       "                    --jp-layout-color3: var(--colab-primary-surface-color, white);\n",
       "                }\n",
       "            </style>\n",
       "            "
      ],
      "text/plain": [
       "<IPython.core.display.HTML object>"
      ]
     },
     "metadata": {},
     "output_type": "display_data"
    }
   ],
   "source": [
    "## MODIS daily 250m\n",
    "#alternative to filterDate: filter(ee.Filter.inList('system:index', l8_dates)) \\\n",
    "modis_250 = ee.ImageCollection('MODIS/061/MOD09GQ') \\\n",
    "    .filterDate(start_date, end_date) \\\n",
    "    .filterBounds(enp_geom)\n",
    "\n",
    "# import MODIS 500m dataset (contains information for cloudmasking)\n",
    "modis_500 = ee.ImageCollection('MODIS/006/MOD09GA') \\\n",
    "        .filterDate(start_date, end_date) \\\n",
    "        .filterBounds(enp_geom)"
   ]
  },
  {
   "cell_type": "code",
   "execution_count": 12,
   "id": "95b51783-a7ad-43d6-8ce8-031c1e04f5bd",
   "metadata": {},
   "outputs": [
    {
     "data": {
      "text/html": [
       "\n",
       "            <style>\n",
       "                .geemap-dark {\n",
       "                    --jp-widgets-color: white;\n",
       "                    --jp-widgets-label-color: white;\n",
       "                    --jp-ui-font-color1: white;\n",
       "                    --jp-layout-color2: #454545;\n",
       "                    background-color: #383838;\n",
       "                }\n",
       "                    \n",
       "                .geemap-dark .jupyter-button {\n",
       "                    --jp-layout-color3: #383838;\n",
       "                }\n",
       "                \n",
       "                .geemap-colab {\n",
       "                    background-color: var(--colab-primary-surface-color, white);\n",
       "                }\n",
       "                    \n",
       "                .geemap-colab .jupyter-button {\n",
       "                    --jp-layout-color3: var(--colab-primary-surface-color, white);\n",
       "                }\n",
       "            </style>\n",
       "            "
      ],
      "text/plain": [
       "<IPython.core.display.HTML object>"
      ]
     },
     "metadata": {},
     "output_type": "display_data"
    }
   ],
   "source": [
    "# combine datasets\n",
    "# pixel with certain MODIS 500m value can be selected for MODIS 250m \n",
    "# source: https://gis.stackexchange.com/questions/308456/get-a-mask-for-modis-250m-mod09gq-using-modis-500m-mod09ga-in-google-earth\n",
    "modis_combined = modis_500.combine(modis_250)\n",
    "\n",
    "# new name of MODIS 250m bands (to avoid having two of similar name)\n",
    "modisBands = ['sur_refl_b01_1', 'sur_refl_b02_1']\n",
    "renamedBands = ['red', 'nir']"
   ]
  },
  {
   "cell_type": "markdown",
   "id": "94474ae3",
   "metadata": {},
   "source": [
    "## Functions"
   ]
  },
  {
   "cell_type": "code",
   "execution_count": 13,
   "id": "e67a7a26-a20f-41ee-8c72-752445271be8",
   "metadata": {},
   "outputs": [
    {
     "data": {
      "text/html": [
       "\n",
       "            <style>\n",
       "                .geemap-dark {\n",
       "                    --jp-widgets-color: white;\n",
       "                    --jp-widgets-label-color: white;\n",
       "                    --jp-ui-font-color1: white;\n",
       "                    --jp-layout-color2: #454545;\n",
       "                    background-color: #383838;\n",
       "                }\n",
       "                    \n",
       "                .geemap-dark .jupyter-button {\n",
       "                    --jp-layout-color3: #383838;\n",
       "                }\n",
       "                \n",
       "                .geemap-colab {\n",
       "                    background-color: var(--colab-primary-surface-color, white);\n",
       "                }\n",
       "                    \n",
       "                .geemap-colab .jupyter-button {\n",
       "                    --jp-layout-color3: var(--colab-primary-surface-color, white);\n",
       "                }\n",
       "            </style>\n",
       "            "
      ],
      "text/plain": [
       "<IPython.core.display.HTML object>"
      ]
     },
     "metadata": {},
     "output_type": "display_data"
    }
   ],
   "source": [
    "# function to extract and combined relevant QA band bits/flags \n",
    "# source: https://mygeoblog.com/2017/09/08/modis-cloud-masking/\n",
    "def getQABits(image, start_bit, end_bit, band_name):\n",
    "    pattern = 0\n",
    "    \n",
    "    # for each bit/flag of the QA band --> assign new value to its bits \n",
    "    # so each flag will have a different value and the pixel will be the sum of all flags \n",
    "    for i in range(start_bit, end_bit):\n",
    "        pattern += math.pow(2,i)\n",
    "    # return single band image of extracted QA bits\n",
    "    # source: https://developers.google.com/earth-engine/apidocs/ee-image-bitwiseand\n",
    "    return image.select([0], [band_name]) \\\n",
    "                .bitwiseAnd(pattern) \\\n",
    "                .rightShift(start_bit)"
   ]
  },
  {
   "cell_type": "code",
   "execution_count": 14,
   "id": "253add5e-6ab2-4e62-bada-2c9f3c41dbf3",
   "metadata": {},
   "outputs": [
    {
     "data": {
      "text/html": [
       "\n",
       "            <style>\n",
       "                .geemap-dark {\n",
       "                    --jp-widgets-color: white;\n",
       "                    --jp-widgets-label-color: white;\n",
       "                    --jp-ui-font-color1: white;\n",
       "                    --jp-layout-color2: #454545;\n",
       "                    background-color: #383838;\n",
       "                }\n",
       "                    \n",
       "                .geemap-dark .jupyter-button {\n",
       "                    --jp-layout-color3: #383838;\n",
       "                }\n",
       "                \n",
       "                .geemap-colab {\n",
       "                    background-color: var(--colab-primary-surface-color, white);\n",
       "                }\n",
       "                    \n",
       "                .geemap-colab .jupyter-button {\n",
       "                    --jp-layout-color3: var(--colab-primary-surface-color, white);\n",
       "                }\n",
       "            </style>\n",
       "            "
      ],
      "text/plain": [
       "<IPython.core.display.HTML object>"
      ]
     },
     "metadata": {},
     "output_type": "display_data"
    }
   ],
   "source": [
    "# function to mask out cloudy pixels \n",
    "# source: https://gis.stackexchange.com/questions/308456/get-a-mask-for-modis-250m-mod09gq-using-modis-500m-mod09ga-in-google-earth\n",
    "# source: https://mygeoblog.com/2017/09/08/modis-cloud-masking/\n",
    "def maskCloudsMODIS(image):\n",
    "    # selects the MODIS 500m QA band \n",
    "    QA = image.select('state_1km')\n",
    "\n",
    "    # creates a cloud&shadow flag from specified bits --> in this case: 'Cloud state' and 'Cloud shadow'\n",
    "    pixelQuality = getQABits(QA, 0, 2, 'cloud_and_shadow_quality_flag')\n",
    "\n",
    "    # returns mask of cloudy landsat pixels --> cloudy pixels have value = -9999\n",
    "    # source: https://gis.stackexchange.com/questions/319404/setting-masked-pixel-value-in-google-earth-engine-image-export\n",
    "    return image.updateMask(pixelQuality.eq(0)).Not().Not().unmask(0)\n",
    "\n",
    "\n",
    "def maskCloudsLandsat8(image):\n",
    "    # selects the pixel quality band \n",
    "    QA = image.select('QA_PIXEL')\n",
    "\n",
    "    # creates cloud&shadow flags from specified bits --> in this case: 'Cloud confidence' and 'Cloud shadow confidence'\n",
    "    cloudConfidence = getQABits(QA, 8, 9, 'cloud_confidence_flag')\n",
    "    shadowConfidence = getQABits(QA, 11, 11, 'shadow_confidence_flag')\n",
    "\n",
    "    # returns mask of cloudy landsat pixels --> cloudy pixels have value = -9999\n",
    "    # source: https://gis.stackexchange.com/questions/319404/setting-masked-pixel-value-in-google-earth-engine-image-export\n",
    "    return image.updateMask(shadowConfidence.eq(0)).updateMask(cloudConfidence.eq(1)).Not().Not().unmask(0)\n"
   ]
  },
  {
   "cell_type": "code",
   "execution_count": 15,
   "id": "62f3e358",
   "metadata": {},
   "outputs": [
    {
     "data": {
      "text/html": [
       "\n",
       "            <style>\n",
       "                .geemap-dark {\n",
       "                    --jp-widgets-color: white;\n",
       "                    --jp-widgets-label-color: white;\n",
       "                    --jp-ui-font-color1: white;\n",
       "                    --jp-layout-color2: #454545;\n",
       "                    background-color: #383838;\n",
       "                }\n",
       "                    \n",
       "                .geemap-dark .jupyter-button {\n",
       "                    --jp-layout-color3: #383838;\n",
       "                }\n",
       "                \n",
       "                .geemap-colab {\n",
       "                    background-color: var(--colab-primary-surface-color, white);\n",
       "                }\n",
       "                    \n",
       "                .geemap-colab .jupyter-button {\n",
       "                    --jp-layout-color3: var(--colab-primary-surface-color, white);\n",
       "                }\n",
       "            </style>\n",
       "            "
      ],
      "text/plain": [
       "<IPython.core.display.HTML object>"
      ]
     },
     "metadata": {},
     "output_type": "display_data"
    }
   ],
   "source": [
    "# define landsat scaling factor\n",
    "def applyScaleFactors(image): \n",
    "    opticalBands = image.select('SR_B.').multiply(0.0000275).add(-0.2)\n",
    "    return image.addBands(opticalBands, None, True)"
   ]
  },
  {
   "cell_type": "code",
   "execution_count": 16,
   "id": "0e27b3e3",
   "metadata": {},
   "outputs": [
    {
     "data": {
      "text/html": [
       "\n",
       "            <style>\n",
       "                .geemap-dark {\n",
       "                    --jp-widgets-color: white;\n",
       "                    --jp-widgets-label-color: white;\n",
       "                    --jp-ui-font-color1: white;\n",
       "                    --jp-layout-color2: #454545;\n",
       "                    background-color: #383838;\n",
       "                }\n",
       "                    \n",
       "                .geemap-dark .jupyter-button {\n",
       "                    --jp-layout-color3: #383838;\n",
       "                }\n",
       "                \n",
       "                .geemap-colab {\n",
       "                    background-color: var(--colab-primary-surface-color, white);\n",
       "                }\n",
       "                    \n",
       "                .geemap-colab .jupyter-button {\n",
       "                    --jp-layout-color3: var(--colab-primary-surface-color, white);\n",
       "                }\n",
       "            </style>\n",
       "            "
      ],
      "text/plain": [
       "<IPython.core.display.HTML object>"
      ]
     },
     "metadata": {},
     "output_type": "display_data"
    }
   ],
   "source": [
    "# function to reproject (32733 if want Namibia coordinates, but elephant fixes are in 4326)\n",
    "def reprojectLandsat(image): \n",
    "    return image.reproject('EPSG:32733', None, 30)\n",
    "\n",
    "def reprojectModis(image):\n",
    "    return image.reproject('EPSG:32733', None, 250)\n"
   ]
  },
  {
   "cell_type": "code",
   "execution_count": 17,
   "id": "d4bca1b3",
   "metadata": {},
   "outputs": [
    {
     "data": {
      "text/html": [
       "\n",
       "            <style>\n",
       "                .geemap-dark {\n",
       "                    --jp-widgets-color: white;\n",
       "                    --jp-widgets-label-color: white;\n",
       "                    --jp-ui-font-color1: white;\n",
       "                    --jp-layout-color2: #454545;\n",
       "                    background-color: #383838;\n",
       "                }\n",
       "                    \n",
       "                .geemap-dark .jupyter-button {\n",
       "                    --jp-layout-color3: #383838;\n",
       "                }\n",
       "                \n",
       "                .geemap-colab {\n",
       "                    background-color: var(--colab-primary-surface-color, white);\n",
       "                }\n",
       "                    \n",
       "                .geemap-colab .jupyter-button {\n",
       "                    --jp-layout-color3: var(--colab-primary-surface-color, white);\n",
       "                }\n",
       "            </style>\n",
       "            "
      ],
      "text/plain": [
       "<IPython.core.display.HTML object>"
      ]
     },
     "metadata": {},
     "output_type": "display_data"
    }
   ],
   "source": [
    "# function to clip image to study area\n",
    "def clipToAOI(image): \n",
    "    result = image.clip(large_region)\n",
    "    return result.copyProperties(image, ['system:id'])"
   ]
  },
  {
   "cell_type": "code",
   "execution_count": 18,
   "id": "3b251a77-f2eb-43f1-9596-e6d8e43a9561",
   "metadata": {},
   "outputs": [
    {
     "data": {
      "text/html": [
       "\n",
       "            <style>\n",
       "                .geemap-dark {\n",
       "                    --jp-widgets-color: white;\n",
       "                    --jp-widgets-label-color: white;\n",
       "                    --jp-ui-font-color1: white;\n",
       "                    --jp-layout-color2: #454545;\n",
       "                    background-color: #383838;\n",
       "                }\n",
       "                    \n",
       "                .geemap-dark .jupyter-button {\n",
       "                    --jp-layout-color3: #383838;\n",
       "                }\n",
       "                \n",
       "                .geemap-colab {\n",
       "                    background-color: var(--colab-primary-surface-color, white);\n",
       "                }\n",
       "                    \n",
       "                .geemap-colab .jupyter-button {\n",
       "                    --jp-layout-color3: var(--colab-primary-surface-color, white);\n",
       "                }\n",
       "            </style>\n",
       "            "
      ],
      "text/plain": [
       "<IPython.core.display.HTML object>"
      ]
     },
     "metadata": {},
     "output_type": "display_data"
    }
   ],
   "source": [
    "# function to calculate NDVI --> NOT NEEDED\n",
    "def addNDVI(image): \n",
    "    ndvi = image.normalizedDifference(['nir', 'red']).rename('NDVI')\n",
    "    return image.addBands(ndvi)"
   ]
  },
  {
   "cell_type": "markdown",
   "id": "b0689e52-5eb3-4d13-af2f-ca056f67f66d",
   "metadata": {},
   "source": [
    "## Cloudmasking MODIS images"
   ]
  },
  {
   "cell_type": "code",
   "execution_count": 19,
   "id": "cf9bb138-4154-4149-9e95-ace1378e7ea4",
   "metadata": {},
   "outputs": [
    {
     "data": {
      "text/html": [
       "\n",
       "            <style>\n",
       "                .geemap-dark {\n",
       "                    --jp-widgets-color: white;\n",
       "                    --jp-widgets-label-color: white;\n",
       "                    --jp-ui-font-color1: white;\n",
       "                    --jp-layout-color2: #454545;\n",
       "                    background-color: #383838;\n",
       "                }\n",
       "                    \n",
       "                .geemap-dark .jupyter-button {\n",
       "                    --jp-layout-color3: #383838;\n",
       "                }\n",
       "                \n",
       "                .geemap-colab {\n",
       "                    background-color: var(--colab-primary-surface-color, white);\n",
       "                }\n",
       "                    \n",
       "                .geemap-colab .jupyter-button {\n",
       "                    --jp-layout-color3: var(--colab-primary-surface-color, white);\n",
       "                }\n",
       "            </style>\n",
       "            "
      ],
      "text/plain": [
       "<IPython.core.display.HTML object>"
      ]
     },
     "metadata": {},
     "output_type": "display_data"
    }
   ],
   "source": [
    "# create cloud free MODIS 250m dataset \n",
    "# source: https://mygeoblog.com/2017/09/08/modis-cloud-masking/ \n",
    "# source: https://gis.stackexchange.com/questions/308456/get-a-mask-for-modis-250m-mod09gq-using-modis-500m-mod09ga-in-google-earth\n",
    "\n",
    "#modis_cloudFree = modis_combined.map(maskCloudsMODIS).select(modisBands, renamedBands)\n",
    "\n",
    "#l8_cloudFree = l8.map(maskCloudsLandsat8)\n",
    "\n",
    "modis_cloudMask = modis_combined.map(maskCloudsMODIS).select(modisBands, renamedBands)\n",
    "\n",
    "l8_cloudMask = l8.map(maskCloudsLandsat8).select(['SR_B1'])"
   ]
  },
  {
   "cell_type": "markdown",
   "id": "ba108abe-2284-4f94-bb48-144aab083c06",
   "metadata": {},
   "source": [
    "## Rescale Landsat bands and remove band 1"
   ]
  },
  {
   "cell_type": "code",
   "execution_count": 20,
   "id": "471ec319-e8d8-457f-9abc-815a0850e759",
   "metadata": {},
   "outputs": [
    {
     "data": {
      "text/html": [
       "\n",
       "            <style>\n",
       "                .geemap-dark {\n",
       "                    --jp-widgets-color: white;\n",
       "                    --jp-widgets-label-color: white;\n",
       "                    --jp-ui-font-color1: white;\n",
       "                    --jp-layout-color2: #454545;\n",
       "                    background-color: #383838;\n",
       "                }\n",
       "                    \n",
       "                .geemap-dark .jupyter-button {\n",
       "                    --jp-layout-color3: #383838;\n",
       "                }\n",
       "                \n",
       "                .geemap-colab {\n",
       "                    background-color: var(--colab-primary-surface-color, white);\n",
       "                }\n",
       "                    \n",
       "                .geemap-colab .jupyter-button {\n",
       "                    --jp-layout-color3: var(--colab-primary-surface-color, white);\n",
       "                }\n",
       "            </style>\n",
       "            "
      ],
      "text/plain": [
       "<IPython.core.display.HTML object>"
      ]
     },
     "metadata": {},
     "output_type": "display_data"
    }
   ],
   "source": [
    "# apply scaling factor \n",
    "#l8_scaled = l8_cloudFree.map(applyScaleFactors).select(['SR_B.'])\n",
    "l8_scaled = l8.map(applyScaleFactors).select(['SR_B.'])"
   ]
  },
  {
   "cell_type": "code",
   "execution_count": 21,
   "id": "9c173127-bf91-43a9-a514-41d05f32c050",
   "metadata": {},
   "outputs": [
    {
     "data": {
      "text/html": [
       "\n",
       "            <style>\n",
       "                .geemap-dark {\n",
       "                    --jp-widgets-color: white;\n",
       "                    --jp-widgets-label-color: white;\n",
       "                    --jp-ui-font-color1: white;\n",
       "                    --jp-layout-color2: #454545;\n",
       "                    background-color: #383838;\n",
       "                }\n",
       "                    \n",
       "                .geemap-dark .jupyter-button {\n",
       "                    --jp-layout-color3: #383838;\n",
       "                }\n",
       "                \n",
       "                .geemap-colab {\n",
       "                    background-color: var(--colab-primary-surface-color, white);\n",
       "                }\n",
       "                    \n",
       "                .geemap-colab .jupyter-button {\n",
       "                    --jp-layout-color3: var(--colab-primary-surface-color, white);\n",
       "                }\n",
       "            </style>\n",
       "            "
      ],
      "text/plain": [
       "<IPython.core.display.HTML object>"
      ]
     },
     "metadata": {},
     "output_type": "display_data"
    }
   ],
   "source": [
    "# remove B1 from Landsat 8 image collection \n",
    "# source: https://developers.google.com/earth-engine/apidocs/ee-list-remove\n",
    "l8_scaled = l8_scaled.select(ee.List(l8_scaled.first().bandNames().getInfo()).remove('SR_B1'))"
   ]
  },
  {
   "cell_type": "markdown",
   "id": "d336e537",
   "metadata": {},
   "source": [
    "## Reproject and Clip"
   ]
  },
  {
   "cell_type": "code",
   "execution_count": 22,
   "id": "7a61e02f",
   "metadata": {},
   "outputs": [
    {
     "data": {
      "text/html": [
       "\n",
       "            <style>\n",
       "                .geemap-dark {\n",
       "                    --jp-widgets-color: white;\n",
       "                    --jp-widgets-label-color: white;\n",
       "                    --jp-ui-font-color1: white;\n",
       "                    --jp-layout-color2: #454545;\n",
       "                    background-color: #383838;\n",
       "                }\n",
       "                    \n",
       "                .geemap-dark .jupyter-button {\n",
       "                    --jp-layout-color3: #383838;\n",
       "                }\n",
       "                \n",
       "                .geemap-colab {\n",
       "                    background-color: var(--colab-primary-surface-color, white);\n",
       "                }\n",
       "                    \n",
       "                .geemap-colab .jupyter-button {\n",
       "                    --jp-layout-color3: var(--colab-primary-surface-color, white);\n",
       "                }\n",
       "            </style>\n",
       "            "
      ],
      "text/plain": [
       "<IPython.core.display.HTML object>"
      ]
     },
     "metadata": {},
     "output_type": "display_data"
    }
   ],
   "source": [
    "# apply reprojection \n",
    "# cloudmasked\n",
    "#modis_reproj = modis_cloudFree.map(reprojectModis)\n",
    "# no cloudmask\n",
    "#modis_250 = modis_250.select(['sur_refl_b02', 'sur_refl_b01'], ['nir', 'red'])\n",
    "#modis_reproj = modis_cloudFree.map(reprojectModis)\n",
    "#l8_reproj = l8_scaled.map(reprojectLandsat)\n",
    "\n",
    "modis_reproj_i = modis_250.map(reprojectModis).select(['sur.'])\n",
    "modis_reproj_m = modis_cloudMask.map(reprojectModis).select(['red'])\n",
    "l8_reproj_i = l8_scaled.map(reprojectLandsat)\n",
    "l8_reproj_m = l8_cloudMask.map(reprojectLandsat)"
   ]
  },
  {
   "cell_type": "code",
   "execution_count": 23,
   "id": "827a556b",
   "metadata": {},
   "outputs": [
    {
     "data": {
      "text/html": [
       "\n",
       "            <style>\n",
       "                .geemap-dark {\n",
       "                    --jp-widgets-color: white;\n",
       "                    --jp-widgets-label-color: white;\n",
       "                    --jp-ui-font-color1: white;\n",
       "                    --jp-layout-color2: #454545;\n",
       "                    background-color: #383838;\n",
       "                }\n",
       "                    \n",
       "                .geemap-dark .jupyter-button {\n",
       "                    --jp-layout-color3: #383838;\n",
       "                }\n",
       "                \n",
       "                .geemap-colab {\n",
       "                    background-color: var(--colab-primary-surface-color, white);\n",
       "                }\n",
       "                    \n",
       "                .geemap-colab .jupyter-button {\n",
       "                    --jp-layout-color3: var(--colab-primary-surface-color, white);\n",
       "                }\n",
       "            </style>\n",
       "            "
      ],
      "text/plain": [
       "<IPython.core.display.HTML object>"
      ]
     },
     "metadata": {},
     "output_type": "display_data"
    }
   ],
   "source": [
    "# apply clipping function \n",
    "#modis_clipped = modis_reproj.map(clipToAOI)\n",
    "#l8_clipped = l8_reproj.map(clipToAOI)\n",
    "\n",
    "modis_clipped_i = modis_reproj_i.map(clipToAOI)\n",
    "modis_clipped_m = modis_reproj_m.map(clipToAOI)\n",
    "l8_clipped_i = l8_reproj_i.map(clipToAOI)\n",
    "l8_clipped_m = l8_reproj_m.map(clipToAOI)"
   ]
  },
  {
   "cell_type": "code",
   "execution_count": 25,
   "id": "acfb3b8b-7a55-45e0-ad51-6aea3fc01d88",
   "metadata": {},
   "outputs": [
    {
     "data": {
      "text/html": [
       "\n",
       "            <style>\n",
       "                .geemap-dark {\n",
       "                    --jp-widgets-color: white;\n",
       "                    --jp-widgets-label-color: white;\n",
       "                    --jp-ui-font-color1: white;\n",
       "                    --jp-layout-color2: #454545;\n",
       "                    background-color: #383838;\n",
       "                }\n",
       "                    \n",
       "                .geemap-dark .jupyter-button {\n",
       "                    --jp-layout-color3: #383838;\n",
       "                }\n",
       "                \n",
       "                .geemap-colab {\n",
       "                    background-color: var(--colab-primary-surface-color, white);\n",
       "                }\n",
       "                    \n",
       "                .geemap-colab .jupyter-button {\n",
       "                    --jp-layout-color3: var(--colab-primary-surface-color, white);\n",
       "                }\n",
       "            </style>\n",
       "            "
      ],
      "text/plain": [
       "<IPython.core.display.HTML object>"
      ]
     },
     "metadata": {},
     "output_type": "display_data"
    }
   ],
   "source": [
    "# calculate NDVI for MODIS --> CAN REMOVE DONT NEED THIS\n",
    "#modis_ndvi = modis_clipped.map(addNDVI).select(['NDVI'])"
   ]
  },
  {
   "cell_type": "markdown",
   "id": "3219a219",
   "metadata": {},
   "source": [
    "## Visualize"
   ]
  },
  {
   "cell_type": "code",
   "execution_count": 18,
   "id": "73c56a1d",
   "metadata": {},
   "outputs": [
    {
     "data": {
      "text/html": [
       "\n",
       "            <style>\n",
       "                .geemap-dark {\n",
       "                    --jp-widgets-color: white;\n",
       "                    --jp-widgets-label-color: white;\n",
       "                    --jp-ui-font-color1: white;\n",
       "                    --jp-layout-color2: #454545;\n",
       "                    background-color: #383838;\n",
       "                }\n",
       "                    \n",
       "                .geemap-dark .jupyter-button {\n",
       "                    --jp-layout-color3: #383838;\n",
       "                }\n",
       "                \n",
       "                .geemap-colab {\n",
       "                    background-color: var(--colab-primary-surface-color, white);\n",
       "                }\n",
       "                    \n",
       "                .geemap-colab .jupyter-button {\n",
       "                    --jp-layout-color3: var(--colab-primary-surface-color, white);\n",
       "                }\n",
       "            </style>\n",
       "            "
      ],
      "text/plain": [
       "<IPython.core.display.HTML object>"
      ]
     },
     "metadata": {},
     "output_type": "display_data"
    }
   ],
   "source": [
    "# define visualization parameters\n",
    "visualization_modis = {\n",
    "  'min': -100.0,\n",
    "  'max': 8000.0,\n",
    "  'bands': ['nir', 'nir', 'red'],\n",
    "}\n",
    "\n",
    "visualization_l8 = {\n",
    "  'bands': ['SR_B4', 'SR_B3', 'SR_B2'],\n",
    "  'min': 8000,\n",
    "  'max': 20000,\n",
    "}\n",
    "\n",
    "visualization_l8_scaled = {\n",
    "  'bands': ['SR_B4', 'SR_B3', 'SR_B2'],\n",
    "  'min': 0,\n",
    "  'max': 0.5,\n",
    "}"
   ]
  },
  {
   "cell_type": "code",
   "execution_count": 27,
   "id": "60391ee8",
   "metadata": {},
   "outputs": [
    {
     "data": {
      "text/html": [
       "\n",
       "            <style>\n",
       "                .geemap-dark {\n",
       "                    --jp-widgets-color: white;\n",
       "                    --jp-widgets-label-color: white;\n",
       "                    --jp-ui-font-color1: white;\n",
       "                    --jp-layout-color2: #454545;\n",
       "                    background-color: #383838;\n",
       "                }\n",
       "                    \n",
       "                .geemap-dark .jupyter-button {\n",
       "                    --jp-layout-color3: #383838;\n",
       "                }\n",
       "                \n",
       "                .geemap-colab {\n",
       "                    background-color: var(--colab-primary-surface-color, white);\n",
       "                }\n",
       "                    \n",
       "                .geemap-colab .jupyter-button {\n",
       "                    --jp-layout-color3: var(--colab-primary-surface-color, white);\n",
       "                }\n",
       "            </style>\n",
       "            "
      ],
      "text/plain": [
       "<IPython.core.display.HTML object>"
      ]
     },
     "metadata": {},
     "output_type": "display_data"
    },
    {
     "data": {
      "application/vnd.jupyter.widget-view+json": {
       "model_id": "a68c31b506454741a2898bd920e021ed",
       "version_major": 2,
       "version_minor": 0
      },
      "text/plain": [
       "Map(center=[0, 0], controls=(WidgetControl(options=['position', 'transparent_bg'], widget=SearchDataGUI(childr…"
      ]
     },
     "execution_count": 27,
     "metadata": {},
     "output_type": "execute_result"
    }
   ],
   "source": [
    "# initialization and set up of the map\n",
    "Map = geemap.Map()\n",
    "#Map.add_ee_layer(enp, None, 'Etosha National Park')\n",
    "#Map.add_layer(sample_area, None, 'Sample AOI')\n",
    "#Map.add_layer(l8_scaled.first(), visualization_l8_scaled, 'L8 Scaled')\n",
    "l8_vis = l8_clipped_m.filterDate('2014-02-16', '2014-02-17')\n",
    "Map.add_layer(l8_vis, {}, 'Mask l8')\n",
    "#Map.add_layer(modis, visualization_modis, 'MODIS final Jan 19')\n",
    "Map.centerObject(enp_geom)\n",
    "\n",
    "# Show the map\n",
    "Map"
   ]
  },
  {
   "cell_type": "markdown",
   "id": "47f12511",
   "metadata": {},
   "source": [
    "## Export data"
   ]
  },
  {
   "cell_type": "code",
   "execution_count": 30,
   "id": "3c994a03",
   "metadata": {},
   "outputs": [
    {
     "data": {
      "text/html": [
       "\n",
       "            <style>\n",
       "                .geemap-dark {\n",
       "                    --jp-widgets-color: white;\n",
       "                    --jp-widgets-label-color: white;\n",
       "                    --jp-ui-font-color1: white;\n",
       "                    --jp-layout-color2: #454545;\n",
       "                    background-color: #383838;\n",
       "                }\n",
       "                    \n",
       "                .geemap-dark .jupyter-button {\n",
       "                    --jp-layout-color3: #383838;\n",
       "                }\n",
       "                \n",
       "                .geemap-colab {\n",
       "                    background-color: var(--colab-primary-surface-color, white);\n",
       "                }\n",
       "                    \n",
       "                .geemap-colab .jupyter-button {\n",
       "                    --jp-layout-color3: var(--colab-primary-surface-color, white);\n",
       "                }\n",
       "            </style>\n",
       "            "
      ],
      "text/plain": [
       "<IPython.core.display.HTML object>"
      ]
     },
     "metadata": {},
     "output_type": "display_data"
    },
    {
     "name": "stdout",
     "output_type": "stream",
     "text": [
      "Total number of images: 20\n",
      "\n",
      "Exporting 1/20: /home/osboxes/Documents/MSc_Thesis/data/l8/2300/image/LC08_178073_20140108.tif\n",
      "Generating URL ...\n",
      "An error occurred while downloading.\n",
      "Image.clipToBoundsAndScale: The geometry for image clipping must not be empty.\n",
      "\n",
      "\n",
      "Exporting 2/20: /home/osboxes/Documents/MSc_Thesis/data/l8/2300/image/LC08_178073_20140124.tif\n",
      "Generating URL ...\n",
      "An error occurred while downloading.\n",
      "Image.clipToBoundsAndScale: The geometry for image clipping must not be empty.\n",
      "\n",
      "\n",
      "Exporting 3/20: /home/osboxes/Documents/MSc_Thesis/data/l8/2300/image/LC08_178074_20140108.tif\n",
      "Generating URL ...\n",
      "An error occurred while downloading.\n",
      "Image.clipToBoundsAndScale: The geometry for image clipping must not be empty.\n",
      "\n",
      "\n",
      "Exporting 4/20: /home/osboxes/Documents/MSc_Thesis/data/l8/2300/image/LC08_178074_20140124.tif\n",
      "Generating URL ...\n",
      "An error occurred while downloading.\n",
      "Image.clipToBoundsAndScale: The geometry for image clipping must not be empty.\n",
      "\n",
      "\n",
      "Exporting 5/20: /home/osboxes/Documents/MSc_Thesis/data/l8/2300/image/LC08_179073_20131230.tif\n",
      "Generating URL ...\n",
      "Downloading data from https://earthengine.googleapis.com/v1/projects/earthengine-legacy/thumbnails/065160223890b4ecc39c4e40380b5d21-4925118f3a91f847712e625c729090c1:getPixels\n",
      "Please wait ...\n",
      "Data downloaded to /home/osboxes/Documents/MSc_Thesis/data/l8/2300/image/LC08_179073_20131230.tif\n",
      "\n",
      "\n",
      "Exporting 6/20: /home/osboxes/Documents/MSc_Thesis/data/l8/2300/image/LC08_179073_20140115.tif\n",
      "Generating URL ...\n",
      "Downloading data from https://earthengine.googleapis.com/v1/projects/earthengine-legacy/thumbnails/7cbbf02a58ae048b3b8b4a5e0d81e574-6e2b0682999ca471e91212e5eea5c9f7:getPixels\n",
      "Please wait ...\n",
      "Data downloaded to /home/osboxes/Documents/MSc_Thesis/data/l8/2300/image/LC08_179073_20140115.tif\n",
      "\n",
      "\n",
      "Exporting 7/20: /home/osboxes/Documents/MSc_Thesis/data/l8/2300/image/LC08_179073_20140131.tif\n",
      "Generating URL ...\n",
      "Downloading data from https://earthengine.googleapis.com/v1/projects/earthengine-legacy/thumbnails/f606d8758f3c718575856bd8045ec4c0-7ddacaeec5eae5f8fd7cff400ecae067:getPixels\n",
      "Please wait ...\n",
      "Data downloaded to /home/osboxes/Documents/MSc_Thesis/data/l8/2300/image/LC08_179073_20140131.tif\n",
      "\n",
      "\n",
      "Exporting 8/20: /home/osboxes/Documents/MSc_Thesis/data/l8/2300/image/LC08_179073_20140216.tif\n",
      "Generating URL ...\n",
      "Downloading data from https://earthengine.googleapis.com/v1/projects/earthengine-legacy/thumbnails/0f1940cd4e5afacd729879f16858b1a4-534ff9c14600369c6a7f44abd8b04c43:getPixels\n",
      "Please wait ...\n",
      "Data downloaded to /home/osboxes/Documents/MSc_Thesis/data/l8/2300/image/LC08_179073_20140216.tif\n",
      "\n",
      "\n",
      "Exporting 9/20: /home/osboxes/Documents/MSc_Thesis/data/l8/2300/image/LC08_179074_20131230.tif\n",
      "Generating URL ...\n",
      "An error occurred while downloading.\n",
      "Image.clipToBoundsAndScale: The geometry for image clipping must not be empty.\n",
      "\n",
      "\n",
      "Exporting 10/20: /home/osboxes/Documents/MSc_Thesis/data/l8/2300/image/LC08_179074_20140115.tif\n",
      "Generating URL ...\n",
      "An error occurred while downloading.\n",
      "Image.clipToBoundsAndScale: The geometry for image clipping must not be empty.\n",
      "\n",
      "\n",
      "Exporting 11/20: /home/osboxes/Documents/MSc_Thesis/data/l8/2300/image/LC08_179074_20140131.tif\n",
      "Generating URL ...\n",
      "An error occurred while downloading.\n",
      "Image.clipToBoundsAndScale: The geometry for image clipping must not be empty.\n",
      "\n",
      "\n",
      "Exporting 12/20: /home/osboxes/Documents/MSc_Thesis/data/l8/2300/image/LC08_179074_20140216.tif\n",
      "Generating URL ...\n",
      "An error occurred while downloading.\n",
      "Image.clipToBoundsAndScale: The geometry for image clipping must not be empty.\n",
      "\n",
      "\n",
      "Exporting 13/20: /home/osboxes/Documents/MSc_Thesis/data/l8/2300/image/LC08_180073_20140106.tif\n",
      "Generating URL ...\n",
      "An error occurred while downloading.\n",
      "Image.clipToBoundsAndScale: The geometry for image clipping must not be empty.\n",
      "\n",
      "\n",
      "Exporting 14/20: /home/osboxes/Documents/MSc_Thesis/data/l8/2300/image/LC08_180073_20140122.tif\n",
      "Generating URL ...\n",
      "An error occurred while downloading.\n",
      "Image.clipToBoundsAndScale: The geometry for image clipping must not be empty.\n",
      "\n",
      "\n",
      "Exporting 15/20: /home/osboxes/Documents/MSc_Thesis/data/l8/2300/image/LC08_180073_20140207.tif\n",
      "Generating URL ...\n",
      "An error occurred while downloading.\n",
      "Image.clipToBoundsAndScale: The geometry for image clipping must not be empty.\n",
      "\n",
      "\n",
      "Exporting 16/20: /home/osboxes/Documents/MSc_Thesis/data/l8/2300/image/LC08_180073_20140223.tif\n",
      "Generating URL ...\n",
      "An error occurred while downloading.\n",
      "Image.clipToBoundsAndScale: The geometry for image clipping must not be empty.\n",
      "\n",
      "\n",
      "Exporting 17/20: /home/osboxes/Documents/MSc_Thesis/data/l8/2300/image/LC08_180074_20140106.tif\n",
      "Generating URL ...\n",
      "An error occurred while downloading.\n",
      "Image.clipToBoundsAndScale: The geometry for image clipping must not be empty.\n",
      "\n",
      "\n",
      "Exporting 18/20: /home/osboxes/Documents/MSc_Thesis/data/l8/2300/image/LC08_180074_20140122.tif\n",
      "Generating URL ...\n",
      "An error occurred while downloading.\n",
      "Image.clipToBoundsAndScale: The geometry for image clipping must not be empty.\n",
      "\n",
      "\n",
      "Exporting 19/20: /home/osboxes/Documents/MSc_Thesis/data/l8/2300/image/LC08_180074_20140207.tif\n",
      "Generating URL ...\n",
      "An error occurred while downloading.\n",
      "Image.clipToBoundsAndScale: The geometry for image clipping must not be empty.\n",
      "\n",
      "\n",
      "Exporting 20/20: /home/osboxes/Documents/MSc_Thesis/data/l8/2300/image/LC08_180074_20140223.tif\n",
      "Generating URL ...\n",
      "An error occurred while downloading.\n",
      "Image.clipToBoundsAndScale: The geometry for image clipping must not be empty.\n",
      "\n",
      "\n",
      "Total number of images: 20\n",
      "\n",
      "Exporting 1/20: /home/osboxes/Documents/MSc_Thesis/data/l8/2300/mask/LC08_178073_20140108.tif\n",
      "Generating URL ...\n",
      "An error occurred while downloading.\n",
      "Image.clipToBoundsAndScale: The geometry for image clipping must not be empty.\n",
      "\n",
      "\n",
      "Exporting 2/20: /home/osboxes/Documents/MSc_Thesis/data/l8/2300/mask/LC08_178073_20140124.tif\n",
      "Generating URL ...\n",
      "An error occurred while downloading.\n",
      "Image.clipToBoundsAndScale: The geometry for image clipping must not be empty.\n",
      "\n",
      "\n",
      "Exporting 3/20: /home/osboxes/Documents/MSc_Thesis/data/l8/2300/mask/LC08_178074_20140108.tif\n",
      "Generating URL ...\n",
      "An error occurred while downloading.\n",
      "Image.clipToBoundsAndScale: The geometry for image clipping must not be empty.\n",
      "\n",
      "\n",
      "Exporting 4/20: /home/osboxes/Documents/MSc_Thesis/data/l8/2300/mask/LC08_178074_20140124.tif\n",
      "Generating URL ...\n",
      "An error occurred while downloading.\n",
      "Image.clipToBoundsAndScale: The geometry for image clipping must not be empty.\n",
      "\n",
      "\n",
      "Exporting 5/20: /home/osboxes/Documents/MSc_Thesis/data/l8/2300/mask/LC08_179073_20131230.tif\n",
      "Generating URL ...\n",
      "Downloading data from https://earthengine.googleapis.com/v1/projects/earthengine-legacy/thumbnails/3666cb605fab9eb541ddfc67edceb9ff-d3ed8f200882f0deef4eb0980c47335b:getPixels\n",
      "Please wait ...\n",
      "Data downloaded to /home/osboxes/Documents/MSc_Thesis/data/l8/2300/mask/LC08_179073_20131230.tif\n",
      "\n",
      "\n",
      "Exporting 6/20: /home/osboxes/Documents/MSc_Thesis/data/l8/2300/mask/LC08_179073_20140115.tif\n",
      "Generating URL ...\n",
      "Downloading data from https://earthengine.googleapis.com/v1/projects/earthengine-legacy/thumbnails/aa554762aeaaa0948705f34037a14a6c-7d5770670bb270cfe422d21c1d6a11ea:getPixels\n",
      "Please wait ...\n",
      "Data downloaded to /home/osboxes/Documents/MSc_Thesis/data/l8/2300/mask/LC08_179073_20140115.tif\n",
      "\n",
      "\n",
      "Exporting 7/20: /home/osboxes/Documents/MSc_Thesis/data/l8/2300/mask/LC08_179073_20140131.tif\n",
      "Generating URL ...\n",
      "Downloading data from https://earthengine.googleapis.com/v1/projects/earthengine-legacy/thumbnails/7e4a5f302a9b4ad36df6e471d7cef4ad-8fafc55ac12d146e2406b823ed7a182e:getPixels\n",
      "Please wait ...\n",
      "Data downloaded to /home/osboxes/Documents/MSc_Thesis/data/l8/2300/mask/LC08_179073_20140131.tif\n",
      "\n",
      "\n",
      "Exporting 8/20: /home/osboxes/Documents/MSc_Thesis/data/l8/2300/mask/LC08_179073_20140216.tif\n",
      "Generating URL ...\n",
      "Downloading data from https://earthengine.googleapis.com/v1/projects/earthengine-legacy/thumbnails/24d700e28f8a24e8d40a13e0cc70c82a-e3ccb7de2433eba7d86590babf6e7390:getPixels\n",
      "Please wait ...\n",
      "Data downloaded to /home/osboxes/Documents/MSc_Thesis/data/l8/2300/mask/LC08_179073_20140216.tif\n",
      "\n",
      "\n",
      "Exporting 9/20: /home/osboxes/Documents/MSc_Thesis/data/l8/2300/mask/LC08_179074_20131230.tif\n",
      "Generating URL ...\n",
      "An error occurred while downloading.\n",
      "Image.clipToBoundsAndScale: The geometry for image clipping must not be empty.\n",
      "\n",
      "\n",
      "Exporting 10/20: /home/osboxes/Documents/MSc_Thesis/data/l8/2300/mask/LC08_179074_20140115.tif\n",
      "Generating URL ...\n",
      "An error occurred while downloading.\n",
      "Image.clipToBoundsAndScale: The geometry for image clipping must not be empty.\n",
      "\n",
      "\n",
      "Exporting 11/20: /home/osboxes/Documents/MSc_Thesis/data/l8/2300/mask/LC08_179074_20140131.tif\n",
      "Generating URL ...\n",
      "An error occurred while downloading.\n",
      "Image.clipToBoundsAndScale: The geometry for image clipping must not be empty.\n",
      "\n",
      "\n",
      "Exporting 12/20: /home/osboxes/Documents/MSc_Thesis/data/l8/2300/mask/LC08_179074_20140216.tif\n",
      "Generating URL ...\n",
      "An error occurred while downloading.\n",
      "Image.clipToBoundsAndScale: The geometry for image clipping must not be empty.\n",
      "\n",
      "\n",
      "Exporting 13/20: /home/osboxes/Documents/MSc_Thesis/data/l8/2300/mask/LC08_180073_20140106.tif\n",
      "Generating URL ...\n",
      "An error occurred while downloading.\n",
      "Image.clipToBoundsAndScale: The geometry for image clipping must not be empty.\n",
      "\n",
      "\n",
      "Exporting 14/20: /home/osboxes/Documents/MSc_Thesis/data/l8/2300/mask/LC08_180073_20140122.tif\n",
      "Generating URL ...\n",
      "An error occurred while downloading.\n",
      "Image.clipToBoundsAndScale: The geometry for image clipping must not be empty.\n",
      "\n",
      "\n",
      "Exporting 15/20: /home/osboxes/Documents/MSc_Thesis/data/l8/2300/mask/LC08_180073_20140207.tif\n",
      "Generating URL ...\n",
      "An error occurred while downloading.\n",
      "Image.clipToBoundsAndScale: The geometry for image clipping must not be empty.\n",
      "\n",
      "\n",
      "Exporting 16/20: /home/osboxes/Documents/MSc_Thesis/data/l8/2300/mask/LC08_180073_20140223.tif\n",
      "Generating URL ...\n",
      "An error occurred while downloading.\n",
      "Image.clipToBoundsAndScale: The geometry for image clipping must not be empty.\n",
      "\n",
      "\n",
      "Exporting 17/20: /home/osboxes/Documents/MSc_Thesis/data/l8/2300/mask/LC08_180074_20140106.tif\n",
      "Generating URL ...\n",
      "An error occurred while downloading.\n",
      "Image.clipToBoundsAndScale: The geometry for image clipping must not be empty.\n",
      "\n",
      "\n",
      "Exporting 18/20: /home/osboxes/Documents/MSc_Thesis/data/l8/2300/mask/LC08_180074_20140122.tif\n",
      "Generating URL ...\n",
      "An error occurred while downloading.\n",
      "Image.clipToBoundsAndScale: The geometry for image clipping must not be empty.\n",
      "\n",
      "\n",
      "Exporting 19/20: /home/osboxes/Documents/MSc_Thesis/data/l8/2300/mask/LC08_180074_20140207.tif\n",
      "Generating URL ...\n",
      "An error occurred while downloading.\n",
      "Image.clipToBoundsAndScale: The geometry for image clipping must not be empty.\n",
      "\n",
      "\n",
      "Exporting 20/20: /home/osboxes/Documents/MSc_Thesis/data/l8/2300/mask/LC08_180074_20140223.tif\n",
      "Generating URL ...\n",
      "An error occurred while downloading.\n",
      "Image.clipToBoundsAndScale: The geometry for image clipping must not be empty.\n",
      "\n",
      "\n"
     ]
    }
   ],
   "source": [
    "# export Landsat image collection to local repository \n",
    "# source: https://github.com/gee-community/geemap/blob/master/examples/notebooks/11_export_image.ipynb\n",
    "\n",
    "#### attempt\n",
    "#l8_scaledA = l8.map(applyScaleFactors).select(['QA_PIXEL', 'SR_B.'])\n",
    "#l8_scaledAb = l8_scaledA.select(ee.List(l8_scaled.first().bandNames().getInfo()).remove('SR_B1'))\n",
    "#l8_reprojA = l8_scaledAb.map(reprojectLandsat)\n",
    "#l8_clippedA = l8_reprojA.map(clipToAOI)\n",
    "\n",
    "#print(l8.first().bandNames().getInfo())\n",
    "\n",
    "# export image --> check out_dir \n",
    "\n",
    "# loop over the image collection to export all images \n",
    "# note: can't use a function (map) with the export function (client-side conflicts), so use for loop instead\n",
    "# source: https://gis.stackexchange.com/questions/231333/selecting-every-image-of-collection-using-google-earth-engine\n",
    "# source: https://gis.stackexchange.com/questions/445976/get-a-specific-number-of-images-from-a-sorted-image-collection-in-google-earth-e\n",
    "#listOfImages = l8_clipped.toList(l8_clipped.size());\n",
    "\n",
    "#for i in range(int(ee.Number.format(l8_clipped.size().subtract(1)).getInfo())): \n",
    "#    image = ee.Image((listOfImages.get(ee.Number(i))))\n",
    "#    image_name = image.get('system:index').getInfo()\n",
    "#    filename = os.path.join(out_dir_l8, image_name +'.tif')\n",
    "#    geemap.ee_export_image(image.unmask(), filename = filename, scale = 30, region = large_region, file_per_band = False)\n",
    "#    print(str(i) + '. image exported')\n",
    "    \n",
    "geemap.ee_export_image_collection(l8_clipped_i, out_dir = out_dir_l_image)\n",
    "geemap.ee_export_image_collection(l8_clipped_m, out_dir = out_dir_l_mask)\n",
    "\n",
    "# export cloud mask of landsat 8 --> check out_dir\n",
    "#geemap.ee_export_image_collection(l8_mask_clipped, out_dir = out_dir_l8)"
   ]
  },
  {
   "cell_type": "code",
   "execution_count": 32,
   "id": "deaba1df",
   "metadata": {},
   "outputs": [
    {
     "data": {
      "text/html": [
       "\n",
       "            <style>\n",
       "                .geemap-dark {\n",
       "                    --jp-widgets-color: white;\n",
       "                    --jp-widgets-label-color: white;\n",
       "                    --jp-ui-font-color1: white;\n",
       "                    --jp-layout-color2: #454545;\n",
       "                    background-color: #383838;\n",
       "                }\n",
       "                    \n",
       "                .geemap-dark .jupyter-button {\n",
       "                    --jp-layout-color3: #383838;\n",
       "                }\n",
       "                \n",
       "                .geemap-colab {\n",
       "                    background-color: var(--colab-primary-surface-color, white);\n",
       "                }\n",
       "                    \n",
       "                .geemap-colab .jupyter-button {\n",
       "                    --jp-layout-color3: var(--colab-primary-surface-color, white);\n",
       "                }\n",
       "            </style>\n",
       "            "
      ],
      "text/plain": [
       "<IPython.core.display.HTML object>"
      ]
     },
     "metadata": {},
     "output_type": "display_data"
    },
    {
     "name": "stdout",
     "output_type": "stream",
     "text": [
      "Total number of images: 14\n",
      "\n",
      "Exporting 1/14: /home/osboxes/Documents/MSc_Thesis/data/modis/cloudmasked/2300/2014_01_23.tif\n",
      "Generating URL ...\n",
      "Downloading data from https://earthengine.googleapis.com/v1/projects/earthengine-legacy/thumbnails/66d9da7ca8375b06c2dae72ff2150698-adda37f25c6c0737c9f299d355e7391d:getPixels\n",
      "Please wait ...\n",
      "Data downloaded to /home/osboxes/Documents/MSc_Thesis/data/modis/cloudmasked/2300/2014_01_23.tif\n",
      "\n",
      "\n",
      "Exporting 2/14: /home/osboxes/Documents/MSc_Thesis/data/modis/cloudmasked/2300/2014_01_24.tif\n",
      "Generating URL ...\n",
      "Downloading data from https://earthengine.googleapis.com/v1/projects/earthengine-legacy/thumbnails/c040f60bf2613dd53449269b74a3a1ec-87dac983d118fecbcefe4b5794a51837:getPixels\n",
      "Please wait ...\n",
      "Data downloaded to /home/osboxes/Documents/MSc_Thesis/data/modis/cloudmasked/2300/2014_01_24.tif\n",
      "\n",
      "\n",
      "Exporting 3/14: /home/osboxes/Documents/MSc_Thesis/data/modis/cloudmasked/2300/2014_01_25.tif\n",
      "Generating URL ...\n",
      "Downloading data from https://earthengine.googleapis.com/v1/projects/earthengine-legacy/thumbnails/ac249a1ba7e8b01275c15767e0cbe676-843c58783b86ba98079f76716b55078e:getPixels\n",
      "Please wait ...\n",
      "Data downloaded to /home/osboxes/Documents/MSc_Thesis/data/modis/cloudmasked/2300/2014_01_25.tif\n",
      "\n",
      "\n",
      "Exporting 4/14: /home/osboxes/Documents/MSc_Thesis/data/modis/cloudmasked/2300/2014_01_26.tif\n",
      "Generating URL ...\n",
      "Downloading data from https://earthengine.googleapis.com/v1/projects/earthengine-legacy/thumbnails/0ec54f7b697b815c1adf8f8106fa9428-118c6d09d027d9f2fc927efd1521ed9c:getPixels\n",
      "Please wait ...\n",
      "Data downloaded to /home/osboxes/Documents/MSc_Thesis/data/modis/cloudmasked/2300/2014_01_26.tif\n",
      "\n",
      "\n",
      "Exporting 5/14: /home/osboxes/Documents/MSc_Thesis/data/modis/cloudmasked/2300/2014_01_27.tif\n",
      "Generating URL ...\n",
      "Downloading data from https://earthengine.googleapis.com/v1/projects/earthengine-legacy/thumbnails/810084be8afe8c47e72bfc728a716098-339758517d94da0e9730cd9ed6335653:getPixels\n",
      "Please wait ...\n",
      "Data downloaded to /home/osboxes/Documents/MSc_Thesis/data/modis/cloudmasked/2300/2014_01_27.tif\n",
      "\n",
      "\n",
      "Exporting 6/14: /home/osboxes/Documents/MSc_Thesis/data/modis/cloudmasked/2300/2014_01_28.tif\n",
      "Generating URL ...\n",
      "Downloading data from https://earthengine.googleapis.com/v1/projects/earthengine-legacy/thumbnails/f9c1c11bdce38977dc0a7c46e7947c29-55ee8327392473e954200d565bec1c06:getPixels\n",
      "Please wait ...\n",
      "Data downloaded to /home/osboxes/Documents/MSc_Thesis/data/modis/cloudmasked/2300/2014_01_28.tif\n",
      "\n",
      "\n",
      "Exporting 7/14: /home/osboxes/Documents/MSc_Thesis/data/modis/cloudmasked/2300/2014_01_29.tif\n",
      "Generating URL ...\n",
      "Downloading data from https://earthengine.googleapis.com/v1/projects/earthengine-legacy/thumbnails/bdfbd263bcb21319cb082a0fc6f26237-4c8d0b29ce3629e2c764d2ab3048f161:getPixels\n",
      "Please wait ...\n",
      "Data downloaded to /home/osboxes/Documents/MSc_Thesis/data/modis/cloudmasked/2300/2014_01_29.tif\n",
      "\n",
      "\n",
      "Exporting 8/14: /home/osboxes/Documents/MSc_Thesis/data/modis/cloudmasked/2300/2014_01_30.tif\n",
      "Generating URL ...\n",
      "Downloading data from https://earthengine.googleapis.com/v1/projects/earthengine-legacy/thumbnails/fd85e1be3622176723ff750119631730-ae58167040769a3e92f31a1108102c89:getPixels\n",
      "Please wait ...\n",
      "Data downloaded to /home/osboxes/Documents/MSc_Thesis/data/modis/cloudmasked/2300/2014_01_30.tif\n",
      "\n",
      "\n",
      "Exporting 9/14: /home/osboxes/Documents/MSc_Thesis/data/modis/cloudmasked/2300/2014_01_31.tif\n",
      "Generating URL ...\n",
      "Downloading data from https://earthengine.googleapis.com/v1/projects/earthengine-legacy/thumbnails/d07f30e8c4d336936385eb4f49cad3de-0159e79b9a4aa9f4e2c15aa2135cf0be:getPixels\n",
      "Please wait ...\n",
      "Data downloaded to /home/osboxes/Documents/MSc_Thesis/data/modis/cloudmasked/2300/2014_01_31.tif\n",
      "\n",
      "\n",
      "Exporting 10/14: /home/osboxes/Documents/MSc_Thesis/data/modis/cloudmasked/2300/2014_02_01.tif\n",
      "Generating URL ...\n",
      "Downloading data from https://earthengine.googleapis.com/v1/projects/earthengine-legacy/thumbnails/768382d5c9955e69f164b351789ba24f-40faba6ec02833d054c08bde0b0f6fe3:getPixels\n",
      "Please wait ...\n",
      "Data downloaded to /home/osboxes/Documents/MSc_Thesis/data/modis/cloudmasked/2300/2014_02_01.tif\n",
      "\n",
      "\n",
      "Exporting 11/14: /home/osboxes/Documents/MSc_Thesis/data/modis/cloudmasked/2300/2014_02_02.tif\n",
      "Generating URL ...\n",
      "Downloading data from https://earthengine.googleapis.com/v1/projects/earthengine-legacy/thumbnails/d233684173199464c0d46d0300d11361-361e5363bdb1a62cc9d407345ff5d6d9:getPixels\n",
      "Please wait ...\n",
      "Data downloaded to /home/osboxes/Documents/MSc_Thesis/data/modis/cloudmasked/2300/2014_02_02.tif\n",
      "\n",
      "\n",
      "Exporting 12/14: /home/osboxes/Documents/MSc_Thesis/data/modis/cloudmasked/2300/2014_02_03.tif\n",
      "Generating URL ...\n",
      "Downloading data from https://earthengine.googleapis.com/v1/projects/earthengine-legacy/thumbnails/9319d5f74373826e4d32f34a886f42f7-c5aa0c094f5bd3ed09243625e1577d88:getPixels\n",
      "Please wait ...\n",
      "Data downloaded to /home/osboxes/Documents/MSc_Thesis/data/modis/cloudmasked/2300/2014_02_03.tif\n",
      "\n",
      "\n",
      "Exporting 13/14: /home/osboxes/Documents/MSc_Thesis/data/modis/cloudmasked/2300/2014_02_04.tif\n",
      "Generating URL ...\n",
      "Downloading data from https://earthengine.googleapis.com/v1/projects/earthengine-legacy/thumbnails/c72b4332c7515ec1dc1c801d50511001-a325a91b8b3331a28964356abd1c142c:getPixels\n",
      "Please wait ...\n",
      "Data downloaded to /home/osboxes/Documents/MSc_Thesis/data/modis/cloudmasked/2300/2014_02_04.tif\n",
      "\n",
      "\n",
      "Exporting 14/14: /home/osboxes/Documents/MSc_Thesis/data/modis/cloudmasked/2300/2014_02_05.tif\n",
      "Generating URL ...\n",
      "Downloading data from https://earthengine.googleapis.com/v1/projects/earthengine-legacy/thumbnails/ad6dce4846b391b05a24fc07a09d18d9-b0ff41f7999c2ba55621c0f90d951b45:getPixels\n",
      "Please wait ...\n",
      "Data downloaded to /home/osboxes/Documents/MSc_Thesis/data/modis/cloudmasked/2300/2014_02_05.tif\n",
      "\n",
      "\n"
     ]
    }
   ],
   "source": [
    "# filter MODIS dates to only take dates of interest, exclude images that were used for gap filling (if gap filled)\n",
    "#modis = ee.ImageCollection(modis_ndvi).filterDate(start_date, end_date)\n",
    "\n",
    "# export MODIS image collection to local repository \n",
    "# source: https://github.com/gee-community/geemap/blob/master/examples/notebooks/11_export_image.ipynb\n",
    "geemap.ee_export_image_collection(modis_clipped, out_dir = out_dir_m)"
   ]
  },
  {
   "cell_type": "code",
   "execution_count": null,
   "id": "53ab2feb-496b-4f55-8ec3-92566120bcf3",
   "metadata": {},
   "outputs": [],
   "source": []
  }
 ],
 "metadata": {
  "kernelspec": {
   "display_name": "Python 3 (ipykernel)",
   "language": "python",
   "name": "python3"
  },
  "language_info": {
   "codemirror_mode": {
    "name": "ipython",
    "version": 3
   },
   "file_extension": ".py",
   "mimetype": "text/x-python",
   "name": "python",
   "nbconvert_exporter": "python",
   "pygments_lexer": "ipython3",
   "version": "3.10.13"
  }
 },
 "nbformat": 4,
 "nbformat_minor": 5
}
