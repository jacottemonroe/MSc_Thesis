{
 "cells": [
  {
   "cell_type": "markdown",
   "id": "f0db397b",
   "metadata": {},
   "source": [
    "# MSc Thesis \n",
    "# Jacotte Monroe"
   ]
  },
  {
   "cell_type": "markdown",
   "id": "5651d372",
   "metadata": {},
   "source": [
    "Code that retrieves automatically the MODIS scenes for each day of elephant steps. "
   ]
  },
  {
   "cell_type": "markdown",
   "id": "31ba570c",
   "metadata": {},
   "source": [
    "## Importing and initializing "
   ]
  },
  {
   "cell_type": "code",
   "execution_count": 3,
   "id": "62484cf2-4f91-4a44-99f6-b5799adb6595",
   "metadata": {},
   "outputs": [
    {
     "data": {
      "text/html": [
       "\n",
       "            <style>\n",
       "                .geemap-dark {\n",
       "                    --jp-widgets-color: white;\n",
       "                    --jp-widgets-label-color: white;\n",
       "                    --jp-ui-font-color1: white;\n",
       "                    --jp-layout-color2: #454545;\n",
       "                    background-color: #383838;\n",
       "                }\n",
       "                    \n",
       "                .geemap-dark .jupyter-button {\n",
       "                    --jp-layout-color3: #383838;\n",
       "                }\n",
       "                \n",
       "                .geemap-colab {\n",
       "                    background-color: var(--colab-primary-surface-color, white);\n",
       "                }\n",
       "                    \n",
       "                .geemap-colab .jupyter-button {\n",
       "                    --jp-layout-color3: var(--colab-primary-surface-color, white);\n",
       "                }\n",
       "            </style>\n",
       "            "
      ],
      "text/plain": [
       "<IPython.core.display.HTML object>"
      ]
     },
     "metadata": {},
     "output_type": "display_data"
    },
    {
     "data": {
      "text/html": [
       "<p>To authorize access needed by Earth Engine, open the following\n",
       "        URL in a web browser and follow the instructions:</p>\n",
       "        <p><a href=https://code.earthengine.google.com/client-auth?scopes=https%3A//www.googleapis.com/auth/earthengine%20https%3A//www.googleapis.com/auth/cloud-platform%20https%3A//www.googleapis.com/auth/devstorage.full_control&request_id=39rb23isdZzNJDA6mJuozSSl8EDmw5kwSR3QbGXcKno&tc=eoPcsn3-YEIgxRNVjOFsbR1YzubRnHlwgFoXSipjUWA&cc=A1TrM25utWBjWBFBWxN3rzSPwD3OisnSZe83BotmS8A>https://code.earthengine.google.com/client-auth?scopes=https%3A//www.googleapis.com/auth/earthengine%20https%3A//www.googleapis.com/auth/cloud-platform%20https%3A//www.googleapis.com/auth/devstorage.full_control&request_id=39rb23isdZzNJDA6mJuozSSl8EDmw5kwSR3QbGXcKno&tc=eoPcsn3-YEIgxRNVjOFsbR1YzubRnHlwgFoXSipjUWA&cc=A1TrM25utWBjWBFBWxN3rzSPwD3OisnSZe83BotmS8A</a></p>\n",
       "        <p>The authorization workflow will generate a code, which you should paste in the box below.</p>\n",
       "        "
      ],
      "text/plain": [
       "<IPython.core.display.HTML object>"
      ]
     },
     "metadata": {},
     "output_type": "display_data"
    },
    {
     "name": "stdin",
     "output_type": "stream",
     "text": [
      "Enter verification code:  4/1AfJohXnpt0YLTUv8SOesJ2GsmI8wnE5Ye5huOGtjaieHZEEeDTfzemkeChY\n"
     ]
    },
    {
     "name": "stdout",
     "output_type": "stream",
     "text": [
      "\n",
      "Successfully saved authorization token.\n"
     ]
    }
   ],
   "source": [
    "ee.Authenticate()"
   ]
  },
  {
   "cell_type": "code",
   "execution_count": 4,
   "id": "7753d218",
   "metadata": {},
   "outputs": [
    {
     "data": {
      "text/html": [
       "\n",
       "            <style>\n",
       "                .geemap-dark {\n",
       "                    --jp-widgets-color: white;\n",
       "                    --jp-widgets-label-color: white;\n",
       "                    --jp-ui-font-color1: white;\n",
       "                    --jp-layout-color2: #454545;\n",
       "                    background-color: #383838;\n",
       "                }\n",
       "                    \n",
       "                .geemap-dark .jupyter-button {\n",
       "                    --jp-layout-color3: #383838;\n",
       "                }\n",
       "                \n",
       "                .geemap-colab {\n",
       "                    background-color: var(--colab-primary-surface-color, white);\n",
       "                }\n",
       "                    \n",
       "                .geemap-colab .jupyter-button {\n",
       "                    --jp-layout-color3: var(--colab-primary-surface-color, white);\n",
       "                }\n",
       "            </style>\n",
       "            "
      ],
      "text/plain": [
       "<IPython.core.display.HTML object>"
      ]
     },
     "metadata": {},
     "output_type": "display_data"
    }
   ],
   "source": [
    "import ee\n",
    "import geemap\n",
    "import os\n",
    "import pandas as pd\n",
    "\n",
    "ee.Initialize()"
   ]
  },
  {
   "cell_type": "markdown",
   "id": "f5d05ec0",
   "metadata": {},
   "source": [
    "## Set-up"
   ]
  },
  {
   "cell_type": "code",
   "execution_count": 5,
   "id": "d5988387",
   "metadata": {},
   "outputs": [
    {
     "data": {
      "text/html": [
       "\n",
       "            <style>\n",
       "                .geemap-dark {\n",
       "                    --jp-widgets-color: white;\n",
       "                    --jp-widgets-label-color: white;\n",
       "                    --jp-ui-font-color1: white;\n",
       "                    --jp-layout-color2: #454545;\n",
       "                    background-color: #383838;\n",
       "                }\n",
       "                    \n",
       "                .geemap-dark .jupyter-button {\n",
       "                    --jp-layout-color3: #383838;\n",
       "                }\n",
       "                \n",
       "                .geemap-colab {\n",
       "                    background-color: var(--colab-primary-surface-color, white);\n",
       "                }\n",
       "                    \n",
       "                .geemap-colab .jupyter-button {\n",
       "                    --jp-layout-color3: var(--colab-primary-surface-color, white);\n",
       "                }\n",
       "            </style>\n",
       "            "
      ],
      "text/plain": [
       "<IPython.core.display.HTML object>"
      ]
     },
     "metadata": {},
     "output_type": "display_data"
    }
   ],
   "source": [
    "# load Etosha National Park study area\n",
    "enp = ee.FeatureCollection('WCMC/WDPA/current/polygons') \\\n",
    "        .filter(ee.Filter.eq('ORIG_NAME', 'Etosha'))\n",
    "\n",
    "# turn ENP study area into a geometry\n",
    "enp_geom = enp.geometry()"
   ]
  },
  {
   "cell_type": "code",
   "execution_count": 6,
   "id": "44d48b54",
   "metadata": {},
   "outputs": [
    {
     "data": {
      "text/html": [
       "\n",
       "            <style>\n",
       "                .geemap-dark {\n",
       "                    --jp-widgets-color: white;\n",
       "                    --jp-widgets-label-color: white;\n",
       "                    --jp-ui-font-color1: white;\n",
       "                    --jp-layout-color2: #454545;\n",
       "                    background-color: #383838;\n",
       "                }\n",
       "                    \n",
       "                .geemap-dark .jupyter-button {\n",
       "                    --jp-layout-color3: #383838;\n",
       "                }\n",
       "                \n",
       "                .geemap-colab {\n",
       "                    background-color: var(--colab-primary-surface-color, white);\n",
       "                }\n",
       "                    \n",
       "                .geemap-colab .jupyter-button {\n",
       "                    --jp-layout-color3: var(--colab-primary-surface-color, white);\n",
       "                }\n",
       "            </style>\n",
       "            "
      ],
      "text/plain": [
       "<IPython.core.display.HTML object>"
      ]
     },
     "metadata": {},
     "output_type": "display_data"
    }
   ],
   "source": [
    "# load extent look up table \n",
    "extents_lut = pd.read_csv('data/step_extents/LA2_step_ex_w2027.csv')"
   ]
  },
  {
   "cell_type": "code",
   "execution_count": 7,
   "id": "88920f40",
   "metadata": {},
   "outputs": [
    {
     "data": {
      "text/html": [
       "\n",
       "            <style>\n",
       "                .geemap-dark {\n",
       "                    --jp-widgets-color: white;\n",
       "                    --jp-widgets-label-color: white;\n",
       "                    --jp-ui-font-color1: white;\n",
       "                    --jp-layout-color2: #454545;\n",
       "                    background-color: #383838;\n",
       "                }\n",
       "                    \n",
       "                .geemap-dark .jupyter-button {\n",
       "                    --jp-layout-color3: #383838;\n",
       "                }\n",
       "                \n",
       "                .geemap-colab {\n",
       "                    background-color: var(--colab-primary-surface-color, white);\n",
       "                }\n",
       "                    \n",
       "                .geemap-colab .jupyter-button {\n",
       "                    --jp-layout-color3: var(--colab-primary-surface-color, white);\n",
       "                }\n",
       "            </style>\n",
       "            "
      ],
      "text/plain": [
       "<IPython.core.display.HTML object>"
      ]
     },
     "metadata": {},
     "output_type": "display_data"
    }
   ],
   "source": [
    "# get output folder paths for current MODIS images and images from week prior\n",
    "# source: https://github.com/gee-community/geemap/blob/master/examples/notebooks/11_export_image.ipynb\n",
    "out_dir = os.path.join(os.path.expanduser('~'), 'Documents/MSc_Thesis/data/modis_ssf')\n",
    "out_dir_lag = os.path.join(os.path.expanduser('~'), 'Documents/MSc_Thesis/data/modis_ssf/lag')"
   ]
  },
  {
   "cell_type": "markdown",
   "id": "94474ae3",
   "metadata": {},
   "source": [
    "## Functions"
   ]
  },
  {
   "cell_type": "code",
   "execution_count": 8,
   "id": "d4bca1b3",
   "metadata": {},
   "outputs": [
    {
     "data": {
      "text/html": [
       "\n",
       "            <style>\n",
       "                .geemap-dark {\n",
       "                    --jp-widgets-color: white;\n",
       "                    --jp-widgets-label-color: white;\n",
       "                    --jp-ui-font-color1: white;\n",
       "                    --jp-layout-color2: #454545;\n",
       "                    background-color: #383838;\n",
       "                }\n",
       "                    \n",
       "                .geemap-dark .jupyter-button {\n",
       "                    --jp-layout-color3: #383838;\n",
       "                }\n",
       "                \n",
       "                .geemap-colab {\n",
       "                    background-color: var(--colab-primary-surface-color, white);\n",
       "                }\n",
       "                    \n",
       "                .geemap-colab .jupyter-button {\n",
       "                    --jp-layout-color3: var(--colab-primary-surface-color, white);\n",
       "                }\n",
       "            </style>\n",
       "            "
      ],
      "text/plain": [
       "<IPython.core.display.HTML object>"
      ]
     },
     "metadata": {},
     "output_type": "display_data"
    }
   ],
   "source": [
    "# function to clip image to study area\n",
    "def clipToAOI(image): \n",
    "    result = image.clip(bbox)\n",
    "    return result.copyProperties(image, ['system:id'])"
   ]
  },
  {
   "cell_type": "code",
   "execution_count": 9,
   "id": "0e27b3e3",
   "metadata": {},
   "outputs": [
    {
     "data": {
      "text/html": [
       "\n",
       "            <style>\n",
       "                .geemap-dark {\n",
       "                    --jp-widgets-color: white;\n",
       "                    --jp-widgets-label-color: white;\n",
       "                    --jp-ui-font-color1: white;\n",
       "                    --jp-layout-color2: #454545;\n",
       "                    background-color: #383838;\n",
       "                }\n",
       "                    \n",
       "                .geemap-dark .jupyter-button {\n",
       "                    --jp-layout-color3: #383838;\n",
       "                }\n",
       "                \n",
       "                .geemap-colab {\n",
       "                    background-color: var(--colab-primary-surface-color, white);\n",
       "                }\n",
       "                    \n",
       "                .geemap-colab .jupyter-button {\n",
       "                    --jp-layout-color3: var(--colab-primary-surface-color, white);\n",
       "                }\n",
       "            </style>\n",
       "            "
      ],
      "text/plain": [
       "<IPython.core.display.HTML object>"
      ]
     },
     "metadata": {},
     "output_type": "display_data"
    }
   ],
   "source": [
    "# function to reproject (32733 if want Namibia coordinates, but elephant fixes are in 4326)\n",
    "def reprojectModis(image):\n",
    "    return image.reproject('EPSG:4326', None, 250)\n"
   ]
  },
  {
   "cell_type": "code",
   "execution_count": 14,
   "id": "69221a53-e424-4bc0-8eb9-9efe3582409f",
   "metadata": {},
   "outputs": [
    {
     "data": {
      "text/html": [
       "\n",
       "            <style>\n",
       "                .geemap-dark {\n",
       "                    --jp-widgets-color: white;\n",
       "                    --jp-widgets-label-color: white;\n",
       "                    --jp-ui-font-color1: white;\n",
       "                    --jp-layout-color2: #454545;\n",
       "                    background-color: #383838;\n",
       "                }\n",
       "                    \n",
       "                .geemap-dark .jupyter-button {\n",
       "                    --jp-layout-color3: #383838;\n",
       "                }\n",
       "                \n",
       "                .geemap-colab {\n",
       "                    background-color: var(--colab-primary-surface-color, white);\n",
       "                }\n",
       "                    \n",
       "                .geemap-colab .jupyter-button {\n",
       "                    --jp-layout-color3: var(--colab-primary-surface-color, white);\n",
       "                }\n",
       "            </style>\n",
       "            "
      ],
      "text/plain": [
       "<IPython.core.display.HTML object>"
      ]
     },
     "metadata": {},
     "output_type": "display_data"
    }
   ],
   "source": [
    "# function to calculate NDVI \n",
    "def addNDVI(image): \n",
    "    ndvi = image.normalizedDifference(['sur_refl_b02', 'sur_refl_b01']).rename('NDVI')\n",
    "    return image.addBands(ndvi)"
   ]
  },
  {
   "cell_type": "markdown",
   "id": "3219a219",
   "metadata": {},
   "source": [
    "## Visualization Parameters"
   ]
  },
  {
   "cell_type": "code",
   "execution_count": 10,
   "id": "73c56a1d",
   "metadata": {},
   "outputs": [
    {
     "data": {
      "text/html": [
       "\n",
       "            <style>\n",
       "                .geemap-dark {\n",
       "                    --jp-widgets-color: white;\n",
       "                    --jp-widgets-label-color: white;\n",
       "                    --jp-ui-font-color1: white;\n",
       "                    --jp-layout-color2: #454545;\n",
       "                    background-color: #383838;\n",
       "                }\n",
       "                    \n",
       "                .geemap-dark .jupyter-button {\n",
       "                    --jp-layout-color3: #383838;\n",
       "                }\n",
       "                \n",
       "                .geemap-colab {\n",
       "                    background-color: var(--colab-primary-surface-color, white);\n",
       "                }\n",
       "                    \n",
       "                .geemap-colab .jupyter-button {\n",
       "                    --jp-layout-color3: var(--colab-primary-surface-color, white);\n",
       "                }\n",
       "            </style>\n",
       "            "
      ],
      "text/plain": [
       "<IPython.core.display.HTML object>"
      ]
     },
     "metadata": {},
     "output_type": "display_data"
    }
   ],
   "source": [
    "# define visualization parameters\n",
    "visualization_modis = {\n",
    "  'min': -100.0,\n",
    "  'max': 8000.0,\n",
    "  'bands': ['sur_refl_b02', 'sur_refl_b02', 'sur_refl_b01'],\n",
    "}"
   ]
  },
  {
   "cell_type": "code",
   "execution_count": 23,
   "id": "86ef791b",
   "metadata": {},
   "outputs": [],
   "source": [
    "# initialization and set up of the map\n",
    "Map = geemap.Map()\n",
    "Map.centerObject(enp_geom)\n",
    "Map.add_layer(enp_geom, None, 'Etosha National Park')\n",
    "#Map"
   ]
  },
  {
   "cell_type": "markdown",
   "id": "71c502a7",
   "metadata": {},
   "source": [
    "## Loop"
   ]
  },
  {
   "cell_type": "code",
   "execution_count": 16,
   "id": "df21c7ba",
   "metadata": {},
   "outputs": [
    {
     "data": {
      "text/html": [
       "\n",
       "            <style>\n",
       "                .geemap-dark {\n",
       "                    --jp-widgets-color: white;\n",
       "                    --jp-widgets-label-color: white;\n",
       "                    --jp-ui-font-color1: white;\n",
       "                    --jp-layout-color2: #454545;\n",
       "                    background-color: #383838;\n",
       "                }\n",
       "                    \n",
       "                .geemap-dark .jupyter-button {\n",
       "                    --jp-layout-color3: #383838;\n",
       "                }\n",
       "                \n",
       "                .geemap-colab {\n",
       "                    background-color: var(--colab-primary-surface-color, white);\n",
       "                }\n",
       "                    \n",
       "                .geemap-colab .jupyter-button {\n",
       "                    --jp-layout-color3: var(--colab-primary-surface-color, white);\n",
       "                }\n",
       "            </style>\n",
       "            "
      ],
      "text/plain": [
       "<IPython.core.display.HTML object>"
      ]
     },
     "metadata": {},
     "output_type": "display_data"
    },
    {
     "name": "stdout",
     "output_type": "stream",
     "text": [
      "Total number of images: 1\n",
      "\n",
      "Exporting 1/1: /home/osboxes/Documents/MSc_Thesis/data/modis_ssf/2008_11_06.tif\n",
      "Generating URL ...\n",
      "Downloading data from https://earthengine.googleapis.com/v1/projects/earthengine-legacy/thumbnails/ec4ac76f552428db8b0b8aacb5c096e7-b24dcc931257d334190a7639909ba95e:getPixels\n",
      "Please wait ...\n",
      "Data downloaded to /home/osboxes/Documents/MSc_Thesis/data/modis_ssf/2008_11_06.tif\n",
      "\n",
      "\n",
      "Total number of images: 1\n",
      "\n",
      "Exporting 1/1: /home/osboxes/Documents/MSc_Thesis/data/modis_ssf/lag/2008_10_30.tif\n",
      "Generating URL ...\n",
      "Downloading data from https://earthengine.googleapis.com/v1/projects/earthengine-legacy/thumbnails/7e2ddcf3c0826109f42663d0d30879db-5646a35428591d3e393d30e0541804c1:getPixels\n",
      "Please wait ...\n",
      "Data downloaded to /home/osboxes/Documents/MSc_Thesis/data/modis_ssf/lag/2008_10_30.tif\n",
      "\n",
      "\n",
      "Total number of images: 1\n",
      "\n",
      "Exporting 1/1: /home/osboxes/Documents/MSc_Thesis/data/modis_ssf/2008_11_07.tif\n",
      "Generating URL ...\n",
      "Downloading data from https://earthengine.googleapis.com/v1/projects/earthengine-legacy/thumbnails/1578943c49deffc1f0d632fb39f4c774-1cf3d3fb716f8e93289f2bcab2f8ffca:getPixels\n",
      "Please wait ...\n",
      "Data downloaded to /home/osboxes/Documents/MSc_Thesis/data/modis_ssf/2008_11_07.tif\n",
      "\n",
      "\n",
      "Total number of images: 1\n",
      "\n",
      "Exporting 1/1: /home/osboxes/Documents/MSc_Thesis/data/modis_ssf/lag/2008_10_31.tif\n",
      "Generating URL ...\n",
      "Downloading data from https://earthengine.googleapis.com/v1/projects/earthengine-legacy/thumbnails/2c03066f5165bc01013379a3f34f2644-6c023832175e06918f27a718da2c959d:getPixels\n",
      "Please wait ...\n",
      "Data downloaded to /home/osboxes/Documents/MSc_Thesis/data/modis_ssf/lag/2008_10_31.tif\n",
      "\n",
      "\n",
      "Total number of images: 1\n",
      "\n",
      "Exporting 1/1: /home/osboxes/Documents/MSc_Thesis/data/modis_ssf/2008_11_08.tif\n",
      "Generating URL ...\n",
      "Downloading data from https://earthengine.googleapis.com/v1/projects/earthengine-legacy/thumbnails/addc1d565fb8d9bb04a0701c2a33cfc2-afab92373ceb03bc4a36f2df4fc225f4:getPixels\n",
      "Please wait ...\n",
      "Data downloaded to /home/osboxes/Documents/MSc_Thesis/data/modis_ssf/2008_11_08.tif\n",
      "\n",
      "\n",
      "Total number of images: 1\n",
      "\n",
      "Exporting 1/1: /home/osboxes/Documents/MSc_Thesis/data/modis_ssf/lag/2008_11_01.tif\n",
      "Generating URL ...\n",
      "Downloading data from https://earthengine.googleapis.com/v1/projects/earthengine-legacy/thumbnails/61ed75673288f27098d4e9e75fb0c1f8-9ca3d0073f51d96abca0bd28c2a89918:getPixels\n",
      "Please wait ...\n",
      "Data downloaded to /home/osboxes/Documents/MSc_Thesis/data/modis_ssf/lag/2008_11_01.tif\n",
      "\n",
      "\n",
      "Total number of images: 1\n",
      "\n",
      "Exporting 1/1: /home/osboxes/Documents/MSc_Thesis/data/modis_ssf/2008_11_09.tif\n",
      "Generating URL ...\n",
      "Downloading data from https://earthengine.googleapis.com/v1/projects/earthengine-legacy/thumbnails/2fa60f3bde2ce3e61416da2e2b3450b1-94d8be8610d08c22b37a83385738159c:getPixels\n",
      "Please wait ...\n",
      "Data downloaded to /home/osboxes/Documents/MSc_Thesis/data/modis_ssf/2008_11_09.tif\n",
      "\n",
      "\n",
      "Total number of images: 1\n",
      "\n",
      "Exporting 1/1: /home/osboxes/Documents/MSc_Thesis/data/modis_ssf/lag/2008_11_02.tif\n",
      "Generating URL ...\n",
      "Downloading data from https://earthengine.googleapis.com/v1/projects/earthengine-legacy/thumbnails/6112f075219524d6a49437be6bb9d2cc-bd3fe5ddb163f8ca90d5c057ea4306b4:getPixels\n",
      "Please wait ...\n",
      "Data downloaded to /home/osboxes/Documents/MSc_Thesis/data/modis_ssf/lag/2008_11_02.tif\n",
      "\n",
      "\n",
      "Total number of images: 1\n",
      "\n",
      "Exporting 1/1: /home/osboxes/Documents/MSc_Thesis/data/modis_ssf/2008_11_10.tif\n",
      "Generating URL ...\n",
      "Downloading data from https://earthengine.googleapis.com/v1/projects/earthengine-legacy/thumbnails/d7dfac3f84caefd29230eab39e333410-4bbdb1463b7aa2e2fb4b1fc5192d2205:getPixels\n",
      "Please wait ...\n",
      "Data downloaded to /home/osboxes/Documents/MSc_Thesis/data/modis_ssf/2008_11_10.tif\n",
      "\n",
      "\n",
      "Total number of images: 1\n",
      "\n",
      "Exporting 1/1: /home/osboxes/Documents/MSc_Thesis/data/modis_ssf/lag/2008_11_03.tif\n",
      "Generating URL ...\n",
      "Downloading data from https://earthengine.googleapis.com/v1/projects/earthengine-legacy/thumbnails/7f47c4d7c462c123d24d4f534d027166-7fa35440ae6c6b0b1c4fc50753d99049:getPixels\n",
      "Please wait ...\n",
      "Data downloaded to /home/osboxes/Documents/MSc_Thesis/data/modis_ssf/lag/2008_11_03.tif\n",
      "\n",
      "\n",
      "Total number of images: 1\n",
      "\n",
      "Exporting 1/1: /home/osboxes/Documents/MSc_Thesis/data/modis_ssf/2008_11_11.tif\n",
      "Generating URL ...\n",
      "Downloading data from https://earthengine.googleapis.com/v1/projects/earthengine-legacy/thumbnails/f94c1f797726f1ea7388060ad569c036-612991a72b76a752598493faa2d8c5cf:getPixels\n",
      "Please wait ...\n",
      "Data downloaded to /home/osboxes/Documents/MSc_Thesis/data/modis_ssf/2008_11_11.tif\n",
      "\n",
      "\n",
      "Total number of images: 1\n",
      "\n",
      "Exporting 1/1: /home/osboxes/Documents/MSc_Thesis/data/modis_ssf/lag/2008_11_04.tif\n",
      "Generating URL ...\n",
      "Downloading data from https://earthengine.googleapis.com/v1/projects/earthengine-legacy/thumbnails/29193e82c01d54cb975ff46b2ef506ba-79959852a783ccc39d4765be7c8da370:getPixels\n",
      "Please wait ...\n",
      "Data downloaded to /home/osboxes/Documents/MSc_Thesis/data/modis_ssf/lag/2008_11_04.tif\n",
      "\n",
      "\n",
      "Total number of images: 1\n",
      "\n",
      "Exporting 1/1: /home/osboxes/Documents/MSc_Thesis/data/modis_ssf/2008_11_12.tif\n",
      "Generating URL ...\n",
      "Downloading data from https://earthengine.googleapis.com/v1/projects/earthengine-legacy/thumbnails/7ef8b0fb88e64e821d8437d185e0d648-7d56db5305579f245ac1ba41536fa8ae:getPixels\n",
      "Please wait ...\n",
      "Data downloaded to /home/osboxes/Documents/MSc_Thesis/data/modis_ssf/2008_11_12.tif\n",
      "\n",
      "\n",
      "Total number of images: 1\n",
      "\n",
      "Exporting 1/1: /home/osboxes/Documents/MSc_Thesis/data/modis_ssf/lag/2008_11_05.tif\n",
      "Generating URL ...\n",
      "Downloading data from https://earthengine.googleapis.com/v1/projects/earthengine-legacy/thumbnails/506ff2ba2a42f851a03fcc101890b90f-5f2b82443c75d6b242afdf7e7cc233d0:getPixels\n",
      "Please wait ...\n",
      "Data downloaded to /home/osboxes/Documents/MSc_Thesis/data/modis_ssf/lag/2008_11_05.tif\n",
      "\n",
      "\n"
     ]
    }
   ],
   "source": [
    "# loop for all table entries \n",
    "# 1. get dates\n",
    "# 2. get coordinates \n",
    "# 3. turn into geometry\n",
    "# 4. get MODIS image\n",
    "# 5. clip and reproject \n",
    "# 6. visualize\n",
    "\n",
    "for i in range(len(extents_lut)):\n",
    "    # select entry\n",
    "    extent = extents_lut.iloc[i]\n",
    "    \n",
    "    # retrieve extent dates \n",
    "    start_date = extent.loc['start_date']\n",
    "    end_date = extent.loc['end_date']\n",
    "    \n",
    "    start_date_prev_week = extent.loc['start_date_prev_week']\n",
    "    end_date_prev_week = extent.loc['end_date_prev_week']\n",
    "    \n",
    "    # retrieve extent coordinates \n",
    "    # source: https://sparkbyexamples.com/pandas/pandas-get-cell-value-from-dataframe/?utm_content=cmp-true\n",
    "    # source: https://stackoverflow.com/questions/75203044/how-to-create-polygon-from-bbox-data-in-pythonv\n",
    "    coords = [[[extent.loc['xmin'], extent.loc['ymin']],\n",
    "              [extent.loc['xmin'], extent.loc['ymax']],\n",
    "              [extent.loc['xmax'], extent.loc['ymax']],\n",
    "              [extent.loc['xmax'], extent.loc['ymin']]]]\n",
    "\n",
    "    # create geometry from coordinates\n",
    "    bbox = ee.Geometry.Polygon(coords, None)\n",
    "    \n",
    "    # retrieve MODIS 250m image for geometry\n",
    "    modis = ee.ImageCollection('MODIS/061/MOD09GQ') \\\n",
    "        .filterDate(start_date, end_date) \\\n",
    "        .filterBounds(bbox) \\\n",
    "        .select(['sur_refl_b02', 'sur_refl_b01']) \n",
    "    \n",
    "    modis_prev_week = ee.ImageCollection('MODIS/061/MOD09GQ') \\\n",
    "        .filterDate(start_date_prev_week, end_date_prev_week) \\\n",
    "        .filterBounds(bbox) \\\n",
    "        .select(['sur_refl_b02', 'sur_refl_b01']) \n",
    "    \n",
    "    # reproject image\n",
    "    modis_reproj = modis.map(reprojectModis)\n",
    "    \n",
    "    modis_prev_week_reproj = modis_prev_week.map(reprojectModis)\n",
    "    \n",
    "    # clip image\n",
    "    modis_clipped = modis_reproj.map(clipToAOI)\n",
    "    \n",
    "    modis_prev_week_clipped = modis_prev_week_reproj.map(clipToAOI)\n",
    "\n",
    "    # calculate NDVI \n",
    "    modis_ndvi = modis_clipped.map(addNDVI).select(['NDVI'])\n",
    "\n",
    "    modis_ndvi_prev_week = modis_prev_week_clipped.map(addNDVI).select(['NDVI'])\n",
    "    \n",
    "    \n",
    "    # map image\n",
    "    #Map.add_layer(modis_clipped, visualization_modis, 'MODIS image')\n",
    "    \n",
    "    # export MODIS image to local repository \n",
    "    # source: https://github.com/gee-community/geemap/blob/master/examples/notebooks/11_export_image.ipynb\n",
    "    geemap.ee_export_image_collection(modis_ndvi, out_dir = out_dir)\n",
    "    \n",
    "    geemap.ee_export_image_collection(modis_ndvi_prev_week, out_dir = out_dir_lag)\n",
    "    "
   ]
  }
 ],
 "metadata": {
  "kernelspec": {
   "display_name": "Python 3 (ipykernel)",
   "language": "python",
   "name": "python3"
  },
  "language_info": {
   "codemirror_mode": {
    "name": "ipython",
    "version": 3
   },
   "file_extension": ".py",
   "mimetype": "text/x-python",
   "name": "python",
   "nbconvert_exporter": "python",
   "pygments_lexer": "ipython3",
   "version": "3.10.13"
  }
 },
 "nbformat": 4,
 "nbformat_minor": 5
}
