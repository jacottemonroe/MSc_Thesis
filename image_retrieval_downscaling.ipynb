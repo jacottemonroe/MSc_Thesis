{
 "cells": [
  {
   "cell_type": "markdown",
   "id": "f0db397b",
   "metadata": {},
   "source": [
    "# MSc Thesis \n",
    "# Jacotte Monroe"
   ]
  },
  {
   "cell_type": "markdown",
   "id": "5651d372",
   "metadata": {},
   "source": [
    "Code that retrieves automatically the MODIS and Landsat scenes of interest and loads them. "
   ]
  },
  {
   "cell_type": "markdown",
   "id": "31ba570c",
   "metadata": {},
   "source": [
    "## Importing and initializing "
   ]
  },
  {
   "cell_type": "code",
   "execution_count": 1,
   "id": "b459d81d-0bd6-4a66-a3a7-598bef8a0002",
   "metadata": {},
   "outputs": [
    {
     "data": {
      "text/plain": [
       "True"
      ]
     },
     "execution_count": 1,
     "metadata": {},
     "output_type": "execute_result"
    }
   ],
   "source": [
    "import ee\n",
    "ee.Authenticate()"
   ]
  },
  {
   "cell_type": "code",
   "execution_count": 2,
   "id": "7753d218",
   "metadata": {},
   "outputs": [],
   "source": [
    "import ee\n",
    "import geemap\n",
    "import os\n",
    "import math\n",
    "import pandas as pd\n",
    "\n",
    "ee.Initialize()"
   ]
  },
  {
   "cell_type": "markdown",
   "id": "e2b74252-b27b-41d7-860e-f8a5d44fd53a",
   "metadata": {},
   "source": [
    "## To Change"
   ]
  },
  {
   "cell_type": "code",
   "execution_count": 3,
   "id": "1b768d6c-c952-4f08-b632-59d88806ce18",
   "metadata": {},
   "outputs": [
    {
     "data": {
      "text/html": [
       "\n",
       "            <style>\n",
       "                .geemap-dark {\n",
       "                    --jp-widgets-color: white;\n",
       "                    --jp-widgets-label-color: white;\n",
       "                    --jp-ui-font-color1: white;\n",
       "                    --jp-layout-color2: #454545;\n",
       "                    background-color: #383838;\n",
       "                }\n",
       "                    \n",
       "                .geemap-dark .jupyter-button {\n",
       "                    --jp-layout-color3: #383838;\n",
       "                }\n",
       "                \n",
       "                .geemap-colab {\n",
       "                    background-color: var(--colab-primary-surface-color, white);\n",
       "                }\n",
       "                    \n",
       "                .geemap-colab .jupyter-button {\n",
       "                    --jp-layout-color3: var(--colab-primary-surface-color, white);\n",
       "                }\n",
       "            </style>\n",
       "            "
      ],
      "text/plain": [
       "<IPython.core.display.HTML object>"
      ]
     },
     "metadata": {},
     "output_type": "display_data"
    }
   ],
   "source": [
    "# define correct week \n",
    "week = '2300'\n",
    "\n",
    "# define type of operation --> 'cloudmasked/', 'filled/', ''\n",
    "operation_m = ''\n",
    "operation_l = ''\n",
    "\n",
    "# define landsat buffer (days) to make sure there are enough Landsat images \n",
    "l8_buffer = ee.Number(30)"
   ]
  },
  {
   "cell_type": "markdown",
   "id": "f5d05ec0",
   "metadata": {},
   "source": [
    "## Set-up"
   ]
  },
  {
   "cell_type": "code",
   "execution_count": 4,
   "id": "4a865392-74a8-4202-bfb6-d56b93857376",
   "metadata": {},
   "outputs": [
    {
     "data": {
      "text/html": [
       "\n",
       "            <style>\n",
       "                .geemap-dark {\n",
       "                    --jp-widgets-color: white;\n",
       "                    --jp-widgets-label-color: white;\n",
       "                    --jp-ui-font-color1: white;\n",
       "                    --jp-layout-color2: #454545;\n",
       "                    background-color: #383838;\n",
       "                }\n",
       "                    \n",
       "                .geemap-dark .jupyter-button {\n",
       "                    --jp-layout-color3: #383838;\n",
       "                }\n",
       "                \n",
       "                .geemap-colab {\n",
       "                    background-color: var(--colab-primary-surface-color, white);\n",
       "                }\n",
       "                    \n",
       "                .geemap-colab .jupyter-button {\n",
       "                    --jp-layout-color3: var(--colab-primary-surface-color, white);\n",
       "                }\n",
       "            </style>\n",
       "            "
      ],
      "text/plain": [
       "<IPython.core.display.HTML object>"
      ]
     },
     "metadata": {},
     "output_type": "display_data"
    }
   ],
   "source": [
    "# load extent look up table \n",
    "extents_lut = pd.read_csv('data/step_extents/LA2_step_ex_w' + week + '.csv')\n",
    "\n",
    "# get largest extent from last row of look up table \n",
    "large_extent = extents_lut.iloc[-1]"
   ]
  },
  {
   "cell_type": "code",
   "execution_count": 5,
   "id": "75e7720b",
   "metadata": {},
   "outputs": [
    {
     "data": {
      "text/html": [
       "\n",
       "            <style>\n",
       "                .geemap-dark {\n",
       "                    --jp-widgets-color: white;\n",
       "                    --jp-widgets-label-color: white;\n",
       "                    --jp-ui-font-color1: white;\n",
       "                    --jp-layout-color2: #454545;\n",
       "                    background-color: #383838;\n",
       "                }\n",
       "                    \n",
       "                .geemap-dark .jupyter-button {\n",
       "                    --jp-layout-color3: #383838;\n",
       "                }\n",
       "                \n",
       "                .geemap-colab {\n",
       "                    background-color: var(--colab-primary-surface-color, white);\n",
       "                }\n",
       "                    \n",
       "                .geemap-colab .jupyter-button {\n",
       "                    --jp-layout-color3: var(--colab-primary-surface-color, white);\n",
       "                }\n",
       "            </style>\n",
       "            "
      ],
      "text/plain": [
       "<IPython.core.display.HTML object>"
      ]
     },
     "metadata": {},
     "output_type": "display_data"
    }
   ],
   "source": [
    "# retrieve date range from table \n",
    "# note: previous week needed to calculate the rate of NDVI change\n",
    "start_date = ee.Date(large_extent.loc['start_date_prev_week'], 'Africa/Maputo') #ee.Date('2014-01-14') # '2014-02-15'\n",
    "end_date = ee.Date(large_extent.loc['end_date'], 'Africa/Maputo') #ee.Date('2014-02-18') # '2012-02-17'"
   ]
  },
  {
   "cell_type": "code",
   "execution_count": 6,
   "id": "ae1cc282-1e54-48f2-a50d-d2e4b3fa880c",
   "metadata": {},
   "outputs": [
    {
     "data": {
      "text/html": [
       "\n",
       "            <style>\n",
       "                .geemap-dark {\n",
       "                    --jp-widgets-color: white;\n",
       "                    --jp-widgets-label-color: white;\n",
       "                    --jp-ui-font-color1: white;\n",
       "                    --jp-layout-color2: #454545;\n",
       "                    background-color: #383838;\n",
       "                }\n",
       "                    \n",
       "                .geemap-dark .jupyter-button {\n",
       "                    --jp-layout-color3: #383838;\n",
       "                }\n",
       "                \n",
       "                .geemap-colab {\n",
       "                    background-color: var(--colab-primary-surface-color, white);\n",
       "                }\n",
       "                    \n",
       "                .geemap-colab .jupyter-button {\n",
       "                    --jp-layout-color3: var(--colab-primary-surface-color, white);\n",
       "                }\n",
       "            </style>\n",
       "            "
      ],
      "text/plain": [
       "<IPython.core.display.HTML object>"
      ]
     },
     "metadata": {},
     "output_type": "display_data"
    },
    {
     "name": "stdout",
     "output_type": "stream",
     "text": [
      "[[[631204.007944954, 7860760.67731656], [631204.007944954, 7875896.28474315], [644102.721371849, 7875896.28474315], [644102.721371849, 7860760.67731656]]]\n"
     ]
    }
   ],
   "source": [
    "# create large extent (region) geometry \n",
    "large_extent_coords = [[[large_extent.loc['xmin'], large_extent.loc['ymin']],\n",
    "                        [large_extent.loc['xmin'], large_extent.loc['ymax']],\n",
    "                        [large_extent.loc['xmax'], large_extent.loc['ymax']],\n",
    "                        [large_extent.loc['xmax'], large_extent.loc['ymin']]]]\n",
    "\n",
    "large_region = ee.Geometry.Polygon(large_extent_coords, proj = 'EPSG:32733', evenOdd = False)\n",
    "\n",
    "print(large_extent_coords)"
   ]
  },
  {
   "cell_type": "code",
   "execution_count": 7,
   "id": "d5988387",
   "metadata": {},
   "outputs": [
    {
     "data": {
      "text/html": [
       "\n",
       "            <style>\n",
       "                .geemap-dark {\n",
       "                    --jp-widgets-color: white;\n",
       "                    --jp-widgets-label-color: white;\n",
       "                    --jp-ui-font-color1: white;\n",
       "                    --jp-layout-color2: #454545;\n",
       "                    background-color: #383838;\n",
       "                }\n",
       "                    \n",
       "                .geemap-dark .jupyter-button {\n",
       "                    --jp-layout-color3: #383838;\n",
       "                }\n",
       "                \n",
       "                .geemap-colab {\n",
       "                    background-color: var(--colab-primary-surface-color, white);\n",
       "                }\n",
       "                    \n",
       "                .geemap-colab .jupyter-button {\n",
       "                    --jp-layout-color3: var(--colab-primary-surface-color, white);\n",
       "                }\n",
       "            </style>\n",
       "            "
      ],
      "text/plain": [
       "<IPython.core.display.HTML object>"
      ]
     },
     "metadata": {},
     "output_type": "display_data"
    }
   ],
   "source": [
    "# load Etosha National Park study area\n",
    "enp = ee.FeatureCollection('WCMC/WDPA/current/polygons') \\\n",
    "        .filter(ee.Filter.eq('ORIG_NAME', 'Etosha'))\n",
    "\n",
    "# turn ENP study area into a geometry\n",
    "enp_geom = enp.geometry()"
   ]
  },
  {
   "cell_type": "code",
   "execution_count": 8,
   "id": "590427d6",
   "metadata": {},
   "outputs": [
    {
     "data": {
      "text/html": [
       "\n",
       "            <style>\n",
       "                .geemap-dark {\n",
       "                    --jp-widgets-color: white;\n",
       "                    --jp-widgets-label-color: white;\n",
       "                    --jp-ui-font-color1: white;\n",
       "                    --jp-layout-color2: #454545;\n",
       "                    background-color: #383838;\n",
       "                }\n",
       "                    \n",
       "                .geemap-dark .jupyter-button {\n",
       "                    --jp-layout-color3: #383838;\n",
       "                }\n",
       "                \n",
       "                .geemap-colab {\n",
       "                    background-color: var(--colab-primary-surface-color, white);\n",
       "                }\n",
       "                    \n",
       "                .geemap-colab .jupyter-button {\n",
       "                    --jp-layout-color3: var(--colab-primary-surface-color, white);\n",
       "                }\n",
       "            </style>\n",
       "            "
      ],
      "text/plain": [
       "<IPython.core.display.HTML object>"
      ]
     },
     "metadata": {},
     "output_type": "display_data"
    }
   ],
   "source": [
    "# define sample study area \n",
    "# note: sample area is smaller than original sample area because of Landsat data size limit when exporting \n",
    "sample_area = ee.Geometry.Polygon(\n",
    "        [[[15.457215604955591, -18.68807168881119],\n",
    "          [15.457215604955591, -19.120709491695354],\n",
    "          [15.939240751439966, -19.120709491695354],\n",
    "          [15.939240751439966, -18.68807168881119]]], None)"
   ]
  },
  {
   "cell_type": "code",
   "execution_count": 9,
   "id": "d4cc792d-e6a8-485e-bf20-22121599333c",
   "metadata": {},
   "outputs": [
    {
     "data": {
      "text/html": [
       "\n",
       "            <style>\n",
       "                .geemap-dark {\n",
       "                    --jp-widgets-color: white;\n",
       "                    --jp-widgets-label-color: white;\n",
       "                    --jp-ui-font-color1: white;\n",
       "                    --jp-layout-color2: #454545;\n",
       "                    background-color: #383838;\n",
       "                }\n",
       "                    \n",
       "                .geemap-dark .jupyter-button {\n",
       "                    --jp-layout-color3: #383838;\n",
       "                }\n",
       "                \n",
       "                .geemap-colab {\n",
       "                    background-color: var(--colab-primary-surface-color, white);\n",
       "                }\n",
       "                    \n",
       "                .geemap-colab .jupyter-button {\n",
       "                    --jp-layout-color3: var(--colab-primary-surface-color, white);\n",
       "                }\n",
       "            </style>\n",
       "            "
      ],
      "text/plain": [
       "<IPython.core.display.HTML object>"
      ]
     },
     "metadata": {},
     "output_type": "display_data"
    }
   ],
   "source": [
    "# get output folder path for MODIS images\n",
    "# source: https://github.com/gee-community/geemap/blob/master/examples/notebooks/11_export_image.ipynb\n",
    "out_dir_m = os.path.join(os.path.expanduser('~'), 'Documents/MSc_Thesis/data/modis/' + operation_m + week)\n",
    "\n",
    "# get output folder path for Landsat images\n",
    "out_dir_l8 = os.path.join(os.path.expanduser('~'), 'Documents/MSc_Thesis/data/l8/' + operation_l + week)"
   ]
  },
  {
   "cell_type": "markdown",
   "id": "1c6f422b",
   "metadata": {},
   "source": [
    "## Dataset retrieval"
   ]
  },
  {
   "cell_type": "code",
   "execution_count": 10,
   "id": "719fab98",
   "metadata": {},
   "outputs": [
    {
     "data": {
      "text/html": [
       "\n",
       "            <style>\n",
       "                .geemap-dark {\n",
       "                    --jp-widgets-color: white;\n",
       "                    --jp-widgets-label-color: white;\n",
       "                    --jp-ui-font-color1: white;\n",
       "                    --jp-layout-color2: #454545;\n",
       "                    background-color: #383838;\n",
       "                }\n",
       "                    \n",
       "                .geemap-dark .jupyter-button {\n",
       "                    --jp-layout-color3: #383838;\n",
       "                }\n",
       "                \n",
       "                .geemap-colab {\n",
       "                    background-color: var(--colab-primary-surface-color, white);\n",
       "                }\n",
       "                    \n",
       "                .geemap-colab .jupyter-button {\n",
       "                    --jp-layout-color3: var(--colab-primary-surface-color, white);\n",
       "                }\n",
       "            </style>\n",
       "            "
      ],
      "text/plain": [
       "<IPython.core.display.HTML object>"
      ]
     },
     "metadata": {},
     "output_type": "display_data"
    }
   ],
   "source": [
    "## Landsat 8 \n",
    "# note: ee.List should also normally include 180 (removed it for this sampled study area)\n",
    "# source: https://developers.google.com/earth-engine/apidocs/ee-date-advance#colab-python\n",
    "# note: can't filter bounds with large_region until have reprojected image collections (meantime use enp_geom)\n",
    "l8 = ee.ImageCollection('LANDSAT/LC08/C02/T1_L2') \\\n",
    "        .filterDate(start_date.advance(l8_buffer.multiply(-1), 'day'), end_date.advance(l8_buffer, 'day')) \\\n",
    "        .filterBounds(enp_geom) \\\n",
    "        .select(['SR_B.'])\n",
    "\n",
    "# remove B1 from Landsat 8 image collection \n",
    "# source: https://developers.google.com/earth-engine/apidocs/ee-list-remove\n",
    "l8 = l8.select(ee.List(l8.first().bandNames().getInfo()).remove('SR_B1'))"
   ]
  },
  {
   "cell_type": "code",
   "execution_count": 11,
   "id": "2c9bc375-bbac-4d85-b675-ee413a362de6",
   "metadata": {},
   "outputs": [
    {
     "data": {
      "text/html": [
       "\n",
       "            <style>\n",
       "                .geemap-dark {\n",
       "                    --jp-widgets-color: white;\n",
       "                    --jp-widgets-label-color: white;\n",
       "                    --jp-ui-font-color1: white;\n",
       "                    --jp-layout-color2: #454545;\n",
       "                    background-color: #383838;\n",
       "                }\n",
       "                    \n",
       "                .geemap-dark .jupyter-button {\n",
       "                    --jp-layout-color3: #383838;\n",
       "                }\n",
       "                \n",
       "                .geemap-colab {\n",
       "                    background-color: var(--colab-primary-surface-color, white);\n",
       "                }\n",
       "                    \n",
       "                .geemap-colab .jupyter-button {\n",
       "                    --jp-layout-color3: var(--colab-primary-surface-color, white);\n",
       "                }\n",
       "            </style>\n",
       "            "
      ],
      "text/plain": [
       "<IPython.core.display.HTML object>"
      ]
     },
     "metadata": {},
     "output_type": "display_data"
    }
   ],
   "source": [
    "# delete if version above works \n",
    "l8_original = ee.ImageCollection('LANDSAT/LC08/C02/T1_L2') \\\n",
    "    .filterDate('2008-10-01', '2014-10-01') \\\n",
    "    .filter(ee.Filter.inList('WRS_PATH', ee.List([179]))) \\\n",
    "    .filter(ee.Filter.eq('WRS_ROW', 73)) \\\n",
    "    .select(['SR_B.'])\n",
    "\n",
    "# remove B1 from Landsat 8 image collection \n",
    "# source: https://developers.google.com/earth-engine/apidocs/ee-list-remove\n",
    "#l8 = l8.select(ee.List(l8.first().bandNames().getInfo()).remove('SR_B1'))\n",
    "\n",
    "# retrieve L8 dates \n",
    "# source: https://developers.google.com/earth-engine/apidocs/ee-imagecollection-aggregate_array\n",
    "#l8_dates = l8.aggregate_array('DATE_ACQUIRED')\n",
    "# source: https://gis.stackexchange.com/questions/307115/earth-engine-get-dates-from-imagecollection\n",
    "# source (python API): https://developers.google.com/earth-engine/guides/python_install#syntax\n",
    "#l8_dates = l8_dates.map(lambda x: ee.Date(x).advance(1, 'day').format('YYYY_MM_dd'))\n",
    "\n",
    "#print('L8 dates', l8_dates.getInfo())"
   ]
  },
  {
   "cell_type": "code",
   "execution_count": 11,
   "id": "ff8b337d",
   "metadata": {},
   "outputs": [
    {
     "data": {
      "text/html": [
       "\n",
       "            <style>\n",
       "                .geemap-dark {\n",
       "                    --jp-widgets-color: white;\n",
       "                    --jp-widgets-label-color: white;\n",
       "                    --jp-ui-font-color1: white;\n",
       "                    --jp-layout-color2: #454545;\n",
       "                    background-color: #383838;\n",
       "                }\n",
       "                    \n",
       "                .geemap-dark .jupyter-button {\n",
       "                    --jp-layout-color3: #383838;\n",
       "                }\n",
       "                \n",
       "                .geemap-colab {\n",
       "                    background-color: var(--colab-primary-surface-color, white);\n",
       "                }\n",
       "                    \n",
       "                .geemap-colab .jupyter-button {\n",
       "                    --jp-layout-color3: var(--colab-primary-surface-color, white);\n",
       "                }\n",
       "            </style>\n",
       "            "
      ],
      "text/plain": [
       "<IPython.core.display.HTML object>"
      ]
     },
     "metadata": {},
     "output_type": "display_data"
    }
   ],
   "source": [
    "## MODIS daily 250m\n",
    "#alternative to filterDate: filter(ee.Filter.inList('system:index', l8_dates)) \\\n",
    "modis_250 = ee.ImageCollection('MODIS/061/MOD09GQ') \\\n",
    "    .filterDate(start_date, end_date) \\\n",
    "    .filterBounds(enp_geom)\n",
    "\n",
    "# import MODIS 500m dataset (contains information for cloudmasking)\n",
    "modis_500 = ee.ImageCollection('MODIS/006/MOD09GA') \\\n",
    "        .filterDate(start_date, end_date) \\\n",
    "        .filterBounds(enp_geom)"
   ]
  },
  {
   "cell_type": "code",
   "execution_count": 12,
   "id": "95b51783-a7ad-43d6-8ce8-031c1e04f5bd",
   "metadata": {},
   "outputs": [
    {
     "data": {
      "text/html": [
       "\n",
       "            <style>\n",
       "                .geemap-dark {\n",
       "                    --jp-widgets-color: white;\n",
       "                    --jp-widgets-label-color: white;\n",
       "                    --jp-ui-font-color1: white;\n",
       "                    --jp-layout-color2: #454545;\n",
       "                    background-color: #383838;\n",
       "                }\n",
       "                    \n",
       "                .geemap-dark .jupyter-button {\n",
       "                    --jp-layout-color3: #383838;\n",
       "                }\n",
       "                \n",
       "                .geemap-colab {\n",
       "                    background-color: var(--colab-primary-surface-color, white);\n",
       "                }\n",
       "                    \n",
       "                .geemap-colab .jupyter-button {\n",
       "                    --jp-layout-color3: var(--colab-primary-surface-color, white);\n",
       "                }\n",
       "            </style>\n",
       "            "
      ],
      "text/plain": [
       "<IPython.core.display.HTML object>"
      ]
     },
     "metadata": {},
     "output_type": "display_data"
    }
   ],
   "source": [
    "# combine datasets\n",
    "# pixel with certain MODIS 500m value can be selected for MODIS 250m \n",
    "# source: https://gis.stackexchange.com/questions/308456/get-a-mask-for-modis-250m-mod09gq-using-modis-500m-mod09ga-in-google-earth\n",
    "modis_combined = modis_500.combine(modis_250)\n",
    "\n",
    "# new name of MODIS 250m bands (to avoid having two of similar name)\n",
    "modisBands = ['sur_refl_b01_1', 'sur_refl_b02_1']\n",
    "renamedBands = ['red', 'nir']"
   ]
  },
  {
   "cell_type": "markdown",
   "id": "94474ae3",
   "metadata": {},
   "source": [
    "## Functions"
   ]
  },
  {
   "cell_type": "code",
   "execution_count": 13,
   "id": "e67a7a26-a20f-41ee-8c72-752445271be8",
   "metadata": {},
   "outputs": [
    {
     "data": {
      "text/html": [
       "\n",
       "            <style>\n",
       "                .geemap-dark {\n",
       "                    --jp-widgets-color: white;\n",
       "                    --jp-widgets-label-color: white;\n",
       "                    --jp-ui-font-color1: white;\n",
       "                    --jp-layout-color2: #454545;\n",
       "                    background-color: #383838;\n",
       "                }\n",
       "                    \n",
       "                .geemap-dark .jupyter-button {\n",
       "                    --jp-layout-color3: #383838;\n",
       "                }\n",
       "                \n",
       "                .geemap-colab {\n",
       "                    background-color: var(--colab-primary-surface-color, white);\n",
       "                }\n",
       "                    \n",
       "                .geemap-colab .jupyter-button {\n",
       "                    --jp-layout-color3: var(--colab-primary-surface-color, white);\n",
       "                }\n",
       "            </style>\n",
       "            "
      ],
      "text/plain": [
       "<IPython.core.display.HTML object>"
      ]
     },
     "metadata": {},
     "output_type": "display_data"
    }
   ],
   "source": [
    "# function to extract and combined relevant QA band bits/flags \n",
    "# source: https://mygeoblog.com/2017/09/08/modis-cloud-masking/\n",
    "def getQABits(image, start_bit, end_bit, band_name):\n",
    "    pattern = 0\n",
    "    \n",
    "    # for each bit/flag of the QA band --> assign new value to its bits \n",
    "    # so each flag will have a different value and the pixel will be the sum of all flags \n",
    "    for i in range(start_bit, end_bit):\n",
    "        pattern += math.pow(2,i)\n",
    "    # return single band image of extracted QA bits\n",
    "    # source: https://developers.google.com/earth-engine/apidocs/ee-image-bitwiseand\n",
    "    return image.select([0], [band_name]) \\\n",
    "                .bitwiseAnd(pattern) \\\n",
    "                .rightShift(start_bit)"
   ]
  },
  {
   "cell_type": "code",
   "execution_count": 14,
   "id": "253add5e-6ab2-4e62-bada-2c9f3c41dbf3",
   "metadata": {},
   "outputs": [
    {
     "data": {
      "text/html": [
       "\n",
       "            <style>\n",
       "                .geemap-dark {\n",
       "                    --jp-widgets-color: white;\n",
       "                    --jp-widgets-label-color: white;\n",
       "                    --jp-ui-font-color1: white;\n",
       "                    --jp-layout-color2: #454545;\n",
       "                    background-color: #383838;\n",
       "                }\n",
       "                    \n",
       "                .geemap-dark .jupyter-button {\n",
       "                    --jp-layout-color3: #383838;\n",
       "                }\n",
       "                \n",
       "                .geemap-colab {\n",
       "                    background-color: var(--colab-primary-surface-color, white);\n",
       "                }\n",
       "                    \n",
       "                .geemap-colab .jupyter-button {\n",
       "                    --jp-layout-color3: var(--colab-primary-surface-color, white);\n",
       "                }\n",
       "            </style>\n",
       "            "
      ],
      "text/plain": [
       "<IPython.core.display.HTML object>"
      ]
     },
     "metadata": {},
     "output_type": "display_data"
    }
   ],
   "source": [
    "# function to mask out cloudy pixels \n",
    "# source: https://gis.stackexchange.com/questions/308456/get-a-mask-for-modis-250m-mod09gq-using-modis-500m-mod09ga-in-google-earth\n",
    "# source: https://mygeoblog.com/2017/09/08/modis-cloud-masking/\n",
    "def maskClouds(image):\n",
    "    # selects the MODIS 500m QA band \n",
    "    QA = image.select('state_1km')\n",
    "\n",
    "    # creates a cloud&shadow flag from specified bits --> in this case: 'Cloud state' and 'Cloud shadow'\n",
    "    pixelQuality = getQABits(QA, 0, 2, 'cloud_and_shadow_quality_flag')\n",
    "\n",
    "    # returns image masking out cloudy pixels \n",
    "    return image.updateMask(pixelQuality.eq(0))"
   ]
  },
  {
   "cell_type": "code",
   "execution_count": 15,
   "id": "0e27b3e3",
   "metadata": {},
   "outputs": [
    {
     "data": {
      "text/html": [
       "\n",
       "            <style>\n",
       "                .geemap-dark {\n",
       "                    --jp-widgets-color: white;\n",
       "                    --jp-widgets-label-color: white;\n",
       "                    --jp-ui-font-color1: white;\n",
       "                    --jp-layout-color2: #454545;\n",
       "                    background-color: #383838;\n",
       "                }\n",
       "                    \n",
       "                .geemap-dark .jupyter-button {\n",
       "                    --jp-layout-color3: #383838;\n",
       "                }\n",
       "                \n",
       "                .geemap-colab {\n",
       "                    background-color: var(--colab-primary-surface-color, white);\n",
       "                }\n",
       "                    \n",
       "                .geemap-colab .jupyter-button {\n",
       "                    --jp-layout-color3: var(--colab-primary-surface-color, white);\n",
       "                }\n",
       "            </style>\n",
       "            "
      ],
      "text/plain": [
       "<IPython.core.display.HTML object>"
      ]
     },
     "metadata": {},
     "output_type": "display_data"
    }
   ],
   "source": [
    "# function to reproject (32733 if want Namibia coordinates, but elephant fixes are in 4326)\n",
    "def reprojectLandsat(image): \n",
    "    return image.reproject('EPSG:32733', None, 30)\n",
    "\n",
    "def reprojectModis(image):\n",
    "    return image.reproject('EPSG:32733', None, 250)\n"
   ]
  },
  {
   "cell_type": "code",
   "execution_count": 16,
   "id": "d4bca1b3",
   "metadata": {},
   "outputs": [
    {
     "data": {
      "text/html": [
       "\n",
       "            <style>\n",
       "                .geemap-dark {\n",
       "                    --jp-widgets-color: white;\n",
       "                    --jp-widgets-label-color: white;\n",
       "                    --jp-ui-font-color1: white;\n",
       "                    --jp-layout-color2: #454545;\n",
       "                    background-color: #383838;\n",
       "                }\n",
       "                    \n",
       "                .geemap-dark .jupyter-button {\n",
       "                    --jp-layout-color3: #383838;\n",
       "                }\n",
       "                \n",
       "                .geemap-colab {\n",
       "                    background-color: var(--colab-primary-surface-color, white);\n",
       "                }\n",
       "                    \n",
       "                .geemap-colab .jupyter-button {\n",
       "                    --jp-layout-color3: var(--colab-primary-surface-color, white);\n",
       "                }\n",
       "            </style>\n",
       "            "
      ],
      "text/plain": [
       "<IPython.core.display.HTML object>"
      ]
     },
     "metadata": {},
     "output_type": "display_data"
    }
   ],
   "source": [
    "# function to clip image to study area\n",
    "def clipToAOI(image): \n",
    "    result = image.clip(large_region)\n",
    "    return result.copyProperties(image, ['system:id'])"
   ]
  },
  {
   "cell_type": "code",
   "execution_count": 17,
   "id": "62f3e358",
   "metadata": {},
   "outputs": [
    {
     "data": {
      "text/html": [
       "\n",
       "            <style>\n",
       "                .geemap-dark {\n",
       "                    --jp-widgets-color: white;\n",
       "                    --jp-widgets-label-color: white;\n",
       "                    --jp-ui-font-color1: white;\n",
       "                    --jp-layout-color2: #454545;\n",
       "                    background-color: #383838;\n",
       "                }\n",
       "                    \n",
       "                .geemap-dark .jupyter-button {\n",
       "                    --jp-layout-color3: #383838;\n",
       "                }\n",
       "                \n",
       "                .geemap-colab {\n",
       "                    background-color: var(--colab-primary-surface-color, white);\n",
       "                }\n",
       "                    \n",
       "                .geemap-colab .jupyter-button {\n",
       "                    --jp-layout-color3: var(--colab-primary-surface-color, white);\n",
       "                }\n",
       "            </style>\n",
       "            "
      ],
      "text/plain": [
       "<IPython.core.display.HTML object>"
      ]
     },
     "metadata": {},
     "output_type": "display_data"
    }
   ],
   "source": [
    "# define landsat scaling factor\n",
    "def applyScaleFactors(image): \n",
    "    opticalBands = image.select('SR_B.').multiply(0.0000275).add(-0.2)\n",
    "    return image.addBands(opticalBands, None, True)"
   ]
  },
  {
   "cell_type": "code",
   "execution_count": 18,
   "id": "3b251a77-f2eb-43f1-9596-e6d8e43a9561",
   "metadata": {},
   "outputs": [
    {
     "data": {
      "text/html": [
       "\n",
       "            <style>\n",
       "                .geemap-dark {\n",
       "                    --jp-widgets-color: white;\n",
       "                    --jp-widgets-label-color: white;\n",
       "                    --jp-ui-font-color1: white;\n",
       "                    --jp-layout-color2: #454545;\n",
       "                    background-color: #383838;\n",
       "                }\n",
       "                    \n",
       "                .geemap-dark .jupyter-button {\n",
       "                    --jp-layout-color3: #383838;\n",
       "                }\n",
       "                \n",
       "                .geemap-colab {\n",
       "                    background-color: var(--colab-primary-surface-color, white);\n",
       "                }\n",
       "                    \n",
       "                .geemap-colab .jupyter-button {\n",
       "                    --jp-layout-color3: var(--colab-primary-surface-color, white);\n",
       "                }\n",
       "            </style>\n",
       "            "
      ],
      "text/plain": [
       "<IPython.core.display.HTML object>"
      ]
     },
     "metadata": {},
     "output_type": "display_data"
    }
   ],
   "source": [
    "# function to calculate NDVI --> NOT NEEDED\n",
    "def addNDVI(image): \n",
    "    ndvi = image.normalizedDifference(['nir', 'red']).rename('NDVI')\n",
    "    return image.addBands(ndvi)"
   ]
  },
  {
   "cell_type": "markdown",
   "id": "b0689e52-5eb3-4d13-af2f-ca056f67f66d",
   "metadata": {},
   "source": [
    "## Cloudmasking MODIS images"
   ]
  },
  {
   "cell_type": "code",
   "execution_count": 19,
   "id": "cf9bb138-4154-4149-9e95-ace1378e7ea4",
   "metadata": {},
   "outputs": [
    {
     "data": {
      "text/html": [
       "\n",
       "            <style>\n",
       "                .geemap-dark {\n",
       "                    --jp-widgets-color: white;\n",
       "                    --jp-widgets-label-color: white;\n",
       "                    --jp-ui-font-color1: white;\n",
       "                    --jp-layout-color2: #454545;\n",
       "                    background-color: #383838;\n",
       "                }\n",
       "                    \n",
       "                .geemap-dark .jupyter-button {\n",
       "                    --jp-layout-color3: #383838;\n",
       "                }\n",
       "                \n",
       "                .geemap-colab {\n",
       "                    background-color: var(--colab-primary-surface-color, white);\n",
       "                }\n",
       "                    \n",
       "                .geemap-colab .jupyter-button {\n",
       "                    --jp-layout-color3: var(--colab-primary-surface-color, white);\n",
       "                }\n",
       "            </style>\n",
       "            "
      ],
      "text/plain": [
       "<IPython.core.display.HTML object>"
      ]
     },
     "metadata": {},
     "output_type": "display_data"
    }
   ],
   "source": [
    "# create cloud free MODIS 250m dataset \n",
    "# source: https://mygeoblog.com/2017/09/08/modis-cloud-masking/ \n",
    "# source: https://gis.stackexchange.com/questions/308456/get-a-mask-for-modis-250m-mod09gq-using-modis-500m-mod09ga-in-google-earth\n",
    "\n",
    "modis_cloudFree = modis_combined.map(maskClouds).select(modisBands, renamedBands)"
   ]
  },
  {
   "cell_type": "markdown",
   "id": "d336e537",
   "metadata": {},
   "source": [
    "## Apply functions"
   ]
  },
  {
   "cell_type": "code",
   "execution_count": 20,
   "id": "7a61e02f",
   "metadata": {},
   "outputs": [
    {
     "data": {
      "text/html": [
       "\n",
       "            <style>\n",
       "                .geemap-dark {\n",
       "                    --jp-widgets-color: white;\n",
       "                    --jp-widgets-label-color: white;\n",
       "                    --jp-ui-font-color1: white;\n",
       "                    --jp-layout-color2: #454545;\n",
       "                    background-color: #383838;\n",
       "                }\n",
       "                    \n",
       "                .geemap-dark .jupyter-button {\n",
       "                    --jp-layout-color3: #383838;\n",
       "                }\n",
       "                \n",
       "                .geemap-colab {\n",
       "                    background-color: var(--colab-primary-surface-color, white);\n",
       "                }\n",
       "                    \n",
       "                .geemap-colab .jupyter-button {\n",
       "                    --jp-layout-color3: var(--colab-primary-surface-color, white);\n",
       "                }\n",
       "            </style>\n",
       "            "
      ],
      "text/plain": [
       "<IPython.core.display.HTML object>"
      ]
     },
     "metadata": {},
     "output_type": "display_data"
    }
   ],
   "source": [
    "# apply reprojection \n",
    "# cloudmasked\n",
    "#modis_reproj = modis_cloudFree.map(reprojectModis)\n",
    "# no cloudmask\n",
    "modis_250 = modis_250.select(['sur_refl_b02', 'sur_refl_b01'], ['nir', 'red'])\n",
    "modis_reproj = modis_250.map(reprojectModis)\n",
    "l8_reproj = l8.map(reprojectLandsat)"
   ]
  },
  {
   "cell_type": "code",
   "execution_count": 21,
   "id": "827a556b",
   "metadata": {},
   "outputs": [
    {
     "data": {
      "text/html": [
       "\n",
       "            <style>\n",
       "                .geemap-dark {\n",
       "                    --jp-widgets-color: white;\n",
       "                    --jp-widgets-label-color: white;\n",
       "                    --jp-ui-font-color1: white;\n",
       "                    --jp-layout-color2: #454545;\n",
       "                    background-color: #383838;\n",
       "                }\n",
       "                    \n",
       "                .geemap-dark .jupyter-button {\n",
       "                    --jp-layout-color3: #383838;\n",
       "                }\n",
       "                \n",
       "                .geemap-colab {\n",
       "                    background-color: var(--colab-primary-surface-color, white);\n",
       "                }\n",
       "                    \n",
       "                .geemap-colab .jupyter-button {\n",
       "                    --jp-layout-color3: var(--colab-primary-surface-color, white);\n",
       "                }\n",
       "            </style>\n",
       "            "
      ],
      "text/plain": [
       "<IPython.core.display.HTML object>"
      ]
     },
     "metadata": {},
     "output_type": "display_data"
    }
   ],
   "source": [
    "# apply clipping function \n",
    "modis_clipped = modis_reproj.map(clipToAOI)\n",
    "l8_clipped = l8_reproj.map(clipToAOI)"
   ]
  },
  {
   "cell_type": "code",
   "execution_count": 22,
   "id": "aabd92c1",
   "metadata": {},
   "outputs": [
    {
     "data": {
      "text/html": [
       "\n",
       "            <style>\n",
       "                .geemap-dark {\n",
       "                    --jp-widgets-color: white;\n",
       "                    --jp-widgets-label-color: white;\n",
       "                    --jp-ui-font-color1: white;\n",
       "                    --jp-layout-color2: #454545;\n",
       "                    background-color: #383838;\n",
       "                }\n",
       "                    \n",
       "                .geemap-dark .jupyter-button {\n",
       "                    --jp-layout-color3: #383838;\n",
       "                }\n",
       "                \n",
       "                .geemap-colab {\n",
       "                    background-color: var(--colab-primary-surface-color, white);\n",
       "                }\n",
       "                    \n",
       "                .geemap-colab .jupyter-button {\n",
       "                    --jp-layout-color3: var(--colab-primary-surface-color, white);\n",
       "                }\n",
       "            </style>\n",
       "            "
      ],
      "text/plain": [
       "<IPython.core.display.HTML object>"
      ]
     },
     "metadata": {},
     "output_type": "display_data"
    }
   ],
   "source": [
    "# apply scaling factor \n",
    "l8_scaled = l8_clipped.map(applyScaleFactors)\n",
    "\n",
    "# is this function actually working? because when i map this it doesn't match visualization parameters \n",
    "    # for scaled image instead it matches for non scaled image"
   ]
  },
  {
   "cell_type": "code",
   "execution_count": 24,
   "id": "acfb3b8b-7a55-45e0-ad51-6aea3fc01d88",
   "metadata": {},
   "outputs": [
    {
     "data": {
      "text/html": [
       "\n",
       "            <style>\n",
       "                .geemap-dark {\n",
       "                    --jp-widgets-color: white;\n",
       "                    --jp-widgets-label-color: white;\n",
       "                    --jp-ui-font-color1: white;\n",
       "                    --jp-layout-color2: #454545;\n",
       "                    background-color: #383838;\n",
       "                }\n",
       "                    \n",
       "                .geemap-dark .jupyter-button {\n",
       "                    --jp-layout-color3: #383838;\n",
       "                }\n",
       "                \n",
       "                .geemap-colab {\n",
       "                    background-color: var(--colab-primary-surface-color, white);\n",
       "                }\n",
       "                    \n",
       "                .geemap-colab .jupyter-button {\n",
       "                    --jp-layout-color3: var(--colab-primary-surface-color, white);\n",
       "                }\n",
       "            </style>\n",
       "            "
      ],
      "text/plain": [
       "<IPython.core.display.HTML object>"
      ]
     },
     "metadata": {},
     "output_type": "display_data"
    }
   ],
   "source": [
    "# calculate NDVI for MODIS --> CAN REMOVE DONT NEED THIS\n",
    "#modis_ndvi = modis_clipped.map(addNDVI).select(['NDVI'])"
   ]
  },
  {
   "cell_type": "markdown",
   "id": "3219a219",
   "metadata": {},
   "source": [
    "## Visualize"
   ]
  },
  {
   "cell_type": "code",
   "execution_count": 18,
   "id": "73c56a1d",
   "metadata": {},
   "outputs": [
    {
     "data": {
      "text/html": [
       "\n",
       "            <style>\n",
       "                .geemap-dark {\n",
       "                    --jp-widgets-color: white;\n",
       "                    --jp-widgets-label-color: white;\n",
       "                    --jp-ui-font-color1: white;\n",
       "                    --jp-layout-color2: #454545;\n",
       "                    background-color: #383838;\n",
       "                }\n",
       "                    \n",
       "                .geemap-dark .jupyter-button {\n",
       "                    --jp-layout-color3: #383838;\n",
       "                }\n",
       "                \n",
       "                .geemap-colab {\n",
       "                    background-color: var(--colab-primary-surface-color, white);\n",
       "                }\n",
       "                    \n",
       "                .geemap-colab .jupyter-button {\n",
       "                    --jp-layout-color3: var(--colab-primary-surface-color, white);\n",
       "                }\n",
       "            </style>\n",
       "            "
      ],
      "text/plain": [
       "<IPython.core.display.HTML object>"
      ]
     },
     "metadata": {},
     "output_type": "display_data"
    }
   ],
   "source": [
    "# define visualization parameters\n",
    "visualization_modis = {\n",
    "  'min': -100.0,\n",
    "  'max': 8000.0,\n",
    "  'bands': ['nir', 'nir', 'red'],\n",
    "}\n",
    "\n",
    "visualization_l8 = {\n",
    "  'bands': ['SR_B4', 'SR_B3', 'SR_B2'],\n",
    "  'min': 8000,\n",
    "  'max': 20000,\n",
    "}\n",
    "\n",
    "visualization_l8_scaled = {\n",
    "  'bands': ['SR_B4', 'SR_B3', 'SR_B2'],\n",
    "  'min': 0,\n",
    "  'max': 0.5,\n",
    "}"
   ]
  },
  {
   "cell_type": "code",
   "execution_count": 22,
   "id": "60391ee8",
   "metadata": {},
   "outputs": [
    {
     "data": {
      "text/html": [
       "\n",
       "            <style>\n",
       "                .geemap-dark {\n",
       "                    --jp-widgets-color: white;\n",
       "                    --jp-widgets-label-color: white;\n",
       "                    --jp-ui-font-color1: white;\n",
       "                    --jp-layout-color2: #454545;\n",
       "                    background-color: #383838;\n",
       "                }\n",
       "                    \n",
       "                .geemap-dark .jupyter-button {\n",
       "                    --jp-layout-color3: #383838;\n",
       "                }\n",
       "                \n",
       "                .geemap-colab {\n",
       "                    background-color: var(--colab-primary-surface-color, white);\n",
       "                }\n",
       "                    \n",
       "                .geemap-colab .jupyter-button {\n",
       "                    --jp-layout-color3: var(--colab-primary-surface-color, white);\n",
       "                }\n",
       "            </style>\n",
       "            "
      ],
      "text/plain": [
       "<IPython.core.display.HTML object>"
      ]
     },
     "metadata": {},
     "output_type": "display_data"
    },
    {
     "data": {
      "application/vnd.jupyter.widget-view+json": {
       "model_id": "357ec548c6d04bdc9601f9ddb868b92f",
       "version_major": 2,
       "version_minor": 0
      },
      "text/plain": [
       "Map(center=[0, 0], controls=(WidgetControl(options=['position', 'transparent_bg'], widget=SearchDataGUI(childr…"
      ]
     },
     "execution_count": 22,
     "metadata": {},
     "output_type": "execute_result"
    }
   ],
   "source": [
    "# initialization and set up of the map\n",
    "Map = geemap.Map()\n",
    "#Map.add_ee_layer(enp, None, 'Etosha National Park')\n",
    "#Map.add_layer(sample_area, None, 'Sample AOI')\n",
    "#Map.add_layer(l8_scaled.first(), visualization_l8_scaled, 'L8 Scaled')\n",
    "modis = modis_clipped.filterDate('2014-01-19', '2014-01-20')\n",
    "Map.add_layer(modis_cloudFree.filterDate('2014-01-19', '2014-01-20'), visualization_modis, 'MODIS Cloud Free Jan 19')\n",
    "Map.add_layer(modis, visualization_modis, 'MODIS final Jan 19')\n",
    "Map.centerObject(enp_geom)\n",
    "\n",
    "# Show the map\n",
    "#Map"
   ]
  },
  {
   "cell_type": "markdown",
   "id": "47f12511",
   "metadata": {},
   "source": [
    "## Export data"
   ]
  },
  {
   "cell_type": "code",
   "execution_count": 24,
   "id": "3c994a03",
   "metadata": {},
   "outputs": [
    {
     "data": {
      "text/html": [
       "\n",
       "            <style>\n",
       "                .geemap-dark {\n",
       "                    --jp-widgets-color: white;\n",
       "                    --jp-widgets-label-color: white;\n",
       "                    --jp-ui-font-color1: white;\n",
       "                    --jp-layout-color2: #454545;\n",
       "                    background-color: #383838;\n",
       "                }\n",
       "                    \n",
       "                .geemap-dark .jupyter-button {\n",
       "                    --jp-layout-color3: #383838;\n",
       "                }\n",
       "                \n",
       "                .geemap-colab {\n",
       "                    background-color: var(--colab-primary-surface-color, white);\n",
       "                }\n",
       "                    \n",
       "                .geemap-colab .jupyter-button {\n",
       "                    --jp-layout-color3: var(--colab-primary-surface-color, white);\n",
       "                }\n",
       "            </style>\n",
       "            "
      ],
      "text/plain": [
       "<IPython.core.display.HTML object>"
      ]
     },
     "metadata": {},
     "output_type": "display_data"
    },
    {
     "name": "stdout",
     "output_type": "stream",
     "text": [
      "Total number of images: 20\n",
      "\n",
      "Exporting 1/20: /home/osboxes/Documents/MSc_Thesis/data/l8/2300/LC08_178073_20140108.tif\n",
      "Generating URL ...\n",
      "An error occurred while downloading.\n",
      "Image.clipToBoundsAndScale: The geometry for image clipping must not be empty.\n",
      "\n",
      "\n",
      "Exporting 2/20: /home/osboxes/Documents/MSc_Thesis/data/l8/2300/LC08_178073_20140124.tif\n",
      "Generating URL ...\n",
      "An error occurred while downloading.\n",
      "Image.clipToBoundsAndScale: The geometry for image clipping must not be empty.\n",
      "\n",
      "\n",
      "Exporting 3/20: /home/osboxes/Documents/MSc_Thesis/data/l8/2300/LC08_178074_20140108.tif\n",
      "Generating URL ...\n",
      "An error occurred while downloading.\n",
      "Image.clipToBoundsAndScale: The geometry for image clipping must not be empty.\n",
      "\n",
      "\n",
      "Exporting 4/20: /home/osboxes/Documents/MSc_Thesis/data/l8/2300/LC08_178074_20140124.tif\n",
      "Generating URL ...\n",
      "An error occurred while downloading.\n",
      "Image.clipToBoundsAndScale: The geometry for image clipping must not be empty.\n",
      "\n",
      "\n",
      "Exporting 5/20: /home/osboxes/Documents/MSc_Thesis/data/l8/2300/LC08_179073_20131230.tif\n",
      "Generating URL ...\n",
      "Downloading data from https://earthengine.googleapis.com/v1/projects/earthengine-legacy/thumbnails/335abc744e4ed669725ff31a701eba90-be03526642717e2ee7741f877d788017:getPixels\n",
      "Please wait ...\n",
      "Data downloaded to /home/osboxes/Documents/MSc_Thesis/data/l8/2300/LC08_179073_20131230.tif\n",
      "\n",
      "\n",
      "Exporting 6/20: /home/osboxes/Documents/MSc_Thesis/data/l8/2300/LC08_179073_20140115.tif\n",
      "Generating URL ...\n",
      "Downloading data from https://earthengine.googleapis.com/v1/projects/earthengine-legacy/thumbnails/60d27e4604db0fe14023b85f3b22b312-ef619b6dd6d16c52ae397cb06c332fee:getPixels\n",
      "Please wait ...\n",
      "Data downloaded to /home/osboxes/Documents/MSc_Thesis/data/l8/2300/LC08_179073_20140115.tif\n",
      "\n",
      "\n",
      "Exporting 7/20: /home/osboxes/Documents/MSc_Thesis/data/l8/2300/LC08_179073_20140131.tif\n",
      "Generating URL ...\n",
      "Downloading data from https://earthengine.googleapis.com/v1/projects/earthengine-legacy/thumbnails/e1f9141c29b78266b456260c277c04b7-a6c13f2f9ee96f43113ac71132f3d67f:getPixels\n",
      "Please wait ...\n",
      "Data downloaded to /home/osboxes/Documents/MSc_Thesis/data/l8/2300/LC08_179073_20140131.tif\n",
      "\n",
      "\n",
      "Exporting 8/20: /home/osboxes/Documents/MSc_Thesis/data/l8/2300/LC08_179073_20140216.tif\n",
      "Generating URL ...\n",
      "Downloading data from https://earthengine.googleapis.com/v1/projects/earthengine-legacy/thumbnails/4d8a5f85664851ec5aa385e3c5a4304c-c1a637ba3fb2d26c75c7e995419fc704:getPixels\n",
      "Please wait ...\n",
      "Data downloaded to /home/osboxes/Documents/MSc_Thesis/data/l8/2300/LC08_179073_20140216.tif\n",
      "\n",
      "\n",
      "Exporting 9/20: /home/osboxes/Documents/MSc_Thesis/data/l8/2300/LC08_179074_20131230.tif\n",
      "Generating URL ...\n",
      "An error occurred while downloading.\n",
      "Image.clipToBoundsAndScale: The geometry for image clipping must not be empty.\n",
      "\n",
      "\n",
      "Exporting 10/20: /home/osboxes/Documents/MSc_Thesis/data/l8/2300/LC08_179074_20140115.tif\n",
      "Generating URL ...\n",
      "An error occurred while downloading.\n",
      "Image.clipToBoundsAndScale: The geometry for image clipping must not be empty.\n",
      "\n",
      "\n",
      "Exporting 11/20: /home/osboxes/Documents/MSc_Thesis/data/l8/2300/LC08_179074_20140131.tif\n",
      "Generating URL ...\n",
      "An error occurred while downloading.\n",
      "Image.clipToBoundsAndScale: The geometry for image clipping must not be empty.\n",
      "\n",
      "\n",
      "Exporting 12/20: /home/osboxes/Documents/MSc_Thesis/data/l8/2300/LC08_179074_20140216.tif\n",
      "Generating URL ...\n",
      "An error occurred while downloading.\n",
      "Image.clipToBoundsAndScale: The geometry for image clipping must not be empty.\n",
      "\n",
      "\n",
      "Exporting 13/20: /home/osboxes/Documents/MSc_Thesis/data/l8/2300/LC08_180073_20140106.tif\n",
      "Generating URL ...\n",
      "An error occurred while downloading.\n",
      "Image.clipToBoundsAndScale: The geometry for image clipping must not be empty.\n",
      "\n",
      "\n",
      "Exporting 14/20: /home/osboxes/Documents/MSc_Thesis/data/l8/2300/LC08_180073_20140122.tif\n",
      "Generating URL ...\n",
      "An error occurred while downloading.\n",
      "Image.clipToBoundsAndScale: The geometry for image clipping must not be empty.\n",
      "\n",
      "\n",
      "Exporting 15/20: /home/osboxes/Documents/MSc_Thesis/data/l8/2300/LC08_180073_20140207.tif\n",
      "Generating URL ...\n",
      "An error occurred while downloading.\n",
      "Image.clipToBoundsAndScale: The geometry for image clipping must not be empty.\n",
      "\n",
      "\n",
      "Exporting 16/20: /home/osboxes/Documents/MSc_Thesis/data/l8/2300/LC08_180073_20140223.tif\n",
      "Generating URL ...\n",
      "An error occurred while downloading.\n",
      "Image.clipToBoundsAndScale: The geometry for image clipping must not be empty.\n",
      "\n",
      "\n",
      "Exporting 17/20: /home/osboxes/Documents/MSc_Thesis/data/l8/2300/LC08_180074_20140106.tif\n",
      "Generating URL ...\n",
      "An error occurred while downloading.\n",
      "Image.clipToBoundsAndScale: The geometry for image clipping must not be empty.\n",
      "\n",
      "\n",
      "Exporting 18/20: /home/osboxes/Documents/MSc_Thesis/data/l8/2300/LC08_180074_20140122.tif\n",
      "Generating URL ...\n",
      "An error occurred while downloading.\n",
      "Image.clipToBoundsAndScale: The geometry for image clipping must not be empty.\n",
      "\n",
      "\n",
      "Exporting 19/20: /home/osboxes/Documents/MSc_Thesis/data/l8/2300/LC08_180074_20140207.tif\n",
      "Generating URL ...\n",
      "An error occurred while downloading.\n",
      "Image.clipToBoundsAndScale: The geometry for image clipping must not be empty.\n",
      "\n",
      "\n",
      "Exporting 20/20: /home/osboxes/Documents/MSc_Thesis/data/l8/2300/LC08_180074_20140223.tif\n",
      "Generating URL ...\n",
      "An error occurred while downloading.\n",
      "Image.clipToBoundsAndScale: The geometry for image clipping must not be empty.\n",
      "\n",
      "\n"
     ]
    }
   ],
   "source": [
    "# export Landsat image collection to local repository \n",
    "# source: https://github.com/gee-community/geemap/blob/master/examples/notebooks/11_export_image.ipynb\n",
    "geemap.ee_export_image_collection(l8_clipped, out_dir = out_dir_l8)"
   ]
  },
  {
   "cell_type": "code",
   "execution_count": 23,
   "id": "deaba1df",
   "metadata": {},
   "outputs": [
    {
     "data": {
      "text/html": [
       "\n",
       "            <style>\n",
       "                .geemap-dark {\n",
       "                    --jp-widgets-color: white;\n",
       "                    --jp-widgets-label-color: white;\n",
       "                    --jp-ui-font-color1: white;\n",
       "                    --jp-layout-color2: #454545;\n",
       "                    background-color: #383838;\n",
       "                }\n",
       "                    \n",
       "                .geemap-dark .jupyter-button {\n",
       "                    --jp-layout-color3: #383838;\n",
       "                }\n",
       "                \n",
       "                .geemap-colab {\n",
       "                    background-color: var(--colab-primary-surface-color, white);\n",
       "                }\n",
       "                    \n",
       "                .geemap-colab .jupyter-button {\n",
       "                    --jp-layout-color3: var(--colab-primary-surface-color, white);\n",
       "                }\n",
       "            </style>\n",
       "            "
      ],
      "text/plain": [
       "<IPython.core.display.HTML object>"
      ]
     },
     "metadata": {},
     "output_type": "display_data"
    },
    {
     "name": "stdout",
     "output_type": "stream",
     "text": [
      "Total number of images: 14\n",
      "\n",
      "Exporting 1/14: /home/osboxes/Documents/MSc_Thesis/data/modis/2300/2014_01_23.tif\n",
      "Generating URL ...\n",
      "Downloading data from https://earthengine.googleapis.com/v1/projects/earthengine-legacy/thumbnails/9b025aed9d26111fdb22b88e4dd12c5a-8e12218e94f7731106fa4364d2a12403:getPixels\n",
      "Please wait ...\n",
      "Data downloaded to /home/osboxes/Documents/MSc_Thesis/data/modis/2300/2014_01_23.tif\n",
      "\n",
      "\n",
      "Exporting 2/14: /home/osboxes/Documents/MSc_Thesis/data/modis/2300/2014_01_24.tif\n",
      "Generating URL ...\n",
      "Downloading data from https://earthengine.googleapis.com/v1/projects/earthengine-legacy/thumbnails/04f546ec25f9e72dcc42c0deb09d9e01-f5fb85c1835d3a141246deb3a7fd5ac4:getPixels\n",
      "Please wait ...\n",
      "Data downloaded to /home/osboxes/Documents/MSc_Thesis/data/modis/2300/2014_01_24.tif\n",
      "\n",
      "\n",
      "Exporting 3/14: /home/osboxes/Documents/MSc_Thesis/data/modis/2300/2014_01_25.tif\n",
      "Generating URL ...\n",
      "Downloading data from https://earthengine.googleapis.com/v1/projects/earthengine-legacy/thumbnails/ff569dfee0e17855d9bdacf8e1060908-a9785865d497038f53c0ce84cf3b46b7:getPixels\n",
      "Please wait ...\n",
      "Data downloaded to /home/osboxes/Documents/MSc_Thesis/data/modis/2300/2014_01_25.tif\n",
      "\n",
      "\n",
      "Exporting 4/14: /home/osboxes/Documents/MSc_Thesis/data/modis/2300/2014_01_26.tif\n",
      "Generating URL ...\n",
      "Downloading data from https://earthengine.googleapis.com/v1/projects/earthengine-legacy/thumbnails/d494cdb75bc3b58017a2a2ec32c35a23-550feafbb5ade1e2c6f0c12d47b5142f:getPixels\n",
      "Please wait ...\n",
      "Data downloaded to /home/osboxes/Documents/MSc_Thesis/data/modis/2300/2014_01_26.tif\n",
      "\n",
      "\n",
      "Exporting 5/14: /home/osboxes/Documents/MSc_Thesis/data/modis/2300/2014_01_27.tif\n",
      "Generating URL ...\n",
      "Downloading data from https://earthengine.googleapis.com/v1/projects/earthengine-legacy/thumbnails/d768f93c203c359ae890bac1af201160-d5c369df11f394ac6300a976d6b7a585:getPixels\n",
      "Please wait ...\n",
      "Data downloaded to /home/osboxes/Documents/MSc_Thesis/data/modis/2300/2014_01_27.tif\n",
      "\n",
      "\n",
      "Exporting 6/14: /home/osboxes/Documents/MSc_Thesis/data/modis/2300/2014_01_28.tif\n",
      "Generating URL ...\n",
      "Downloading data from https://earthengine.googleapis.com/v1/projects/earthengine-legacy/thumbnails/0d4e948a7a6ccc5f72b557374a961b11-d25ea7e0bc7e6e02800eb7999714416e:getPixels\n",
      "Please wait ...\n",
      "Data downloaded to /home/osboxes/Documents/MSc_Thesis/data/modis/2300/2014_01_28.tif\n",
      "\n",
      "\n",
      "Exporting 7/14: /home/osboxes/Documents/MSc_Thesis/data/modis/2300/2014_01_29.tif\n",
      "Generating URL ...\n",
      "Downloading data from https://earthengine.googleapis.com/v1/projects/earthengine-legacy/thumbnails/13f1ff958fe830a377032e4340ee446d-8d8dc099ce927ec604b32d0c543a2c3a:getPixels\n",
      "Please wait ...\n",
      "Data downloaded to /home/osboxes/Documents/MSc_Thesis/data/modis/2300/2014_01_29.tif\n",
      "\n",
      "\n",
      "Exporting 8/14: /home/osboxes/Documents/MSc_Thesis/data/modis/2300/2014_01_30.tif\n",
      "Generating URL ...\n",
      "Downloading data from https://earthengine.googleapis.com/v1/projects/earthengine-legacy/thumbnails/811001f845e2aa0dc6681d70ceb37e45-ee0e55d3b79c7097f7f5425db571c834:getPixels\n",
      "Please wait ...\n",
      "Data downloaded to /home/osboxes/Documents/MSc_Thesis/data/modis/2300/2014_01_30.tif\n",
      "\n",
      "\n",
      "Exporting 9/14: /home/osboxes/Documents/MSc_Thesis/data/modis/2300/2014_01_31.tif\n",
      "Generating URL ...\n",
      "Downloading data from https://earthengine.googleapis.com/v1/projects/earthengine-legacy/thumbnails/dbd2cd140e9d1b9a5bf60b3c401d25b4-0a820eeaf087f6ebec42435373da835c:getPixels\n",
      "Please wait ...\n",
      "Data downloaded to /home/osboxes/Documents/MSc_Thesis/data/modis/2300/2014_01_31.tif\n",
      "\n",
      "\n",
      "Exporting 10/14: /home/osboxes/Documents/MSc_Thesis/data/modis/2300/2014_02_01.tif\n",
      "Generating URL ...\n",
      "Downloading data from https://earthengine.googleapis.com/v1/projects/earthengine-legacy/thumbnails/26802c7b7dba13149ff94fe18e2db94c-c8055cf4cf16ec7f6f85a414c732c4bb:getPixels\n",
      "Please wait ...\n",
      "Data downloaded to /home/osboxes/Documents/MSc_Thesis/data/modis/2300/2014_02_01.tif\n",
      "\n",
      "\n",
      "Exporting 11/14: /home/osboxes/Documents/MSc_Thesis/data/modis/2300/2014_02_02.tif\n",
      "Generating URL ...\n",
      "Downloading data from https://earthengine.googleapis.com/v1/projects/earthengine-legacy/thumbnails/ac21aadba7b4a95e038d5d06ae4b039c-a0b4399a925905b04d7bb51079e78514:getPixels\n",
      "Please wait ...\n",
      "Data downloaded to /home/osboxes/Documents/MSc_Thesis/data/modis/2300/2014_02_02.tif\n",
      "\n",
      "\n",
      "Exporting 12/14: /home/osboxes/Documents/MSc_Thesis/data/modis/2300/2014_02_03.tif\n",
      "Generating URL ...\n",
      "Downloading data from https://earthengine.googleapis.com/v1/projects/earthengine-legacy/thumbnails/fb3a845d402d5db45ed3fcb6d20ca81d-0a8e3da920244e5542b9dd06907ab0ad:getPixels\n",
      "Please wait ...\n",
      "Data downloaded to /home/osboxes/Documents/MSc_Thesis/data/modis/2300/2014_02_03.tif\n",
      "\n",
      "\n",
      "Exporting 13/14: /home/osboxes/Documents/MSc_Thesis/data/modis/2300/2014_02_04.tif\n",
      "Generating URL ...\n",
      "Downloading data from https://earthengine.googleapis.com/v1/projects/earthengine-legacy/thumbnails/1a0940d2330207cc6b6cd72be5694a47-bd730eefa1a61130af67957c61697931:getPixels\n",
      "Please wait ...\n",
      "Data downloaded to /home/osboxes/Documents/MSc_Thesis/data/modis/2300/2014_02_04.tif\n",
      "\n",
      "\n",
      "Exporting 14/14: /home/osboxes/Documents/MSc_Thesis/data/modis/2300/2014_02_05.tif\n",
      "Generating URL ...\n",
      "Downloading data from https://earthengine.googleapis.com/v1/projects/earthengine-legacy/thumbnails/cf29537853a26557a15a0ddb8b5e04d5-69359742cee99b5ea89286a8b54991da:getPixels\n",
      "Please wait ...\n",
      "Data downloaded to /home/osboxes/Documents/MSc_Thesis/data/modis/2300/2014_02_05.tif\n",
      "\n",
      "\n"
     ]
    }
   ],
   "source": [
    "# filter MODIS dates to only take dates of interest, exclude images that were used for gap filling (if gap filled)\n",
    "#modis = ee.ImageCollection(modis_ndvi).filterDate(start_date, end_date)\n",
    "\n",
    "# export MODIS image collection to local repository \n",
    "# source: https://github.com/gee-community/geemap/blob/master/examples/notebooks/11_export_image.ipynb\n",
    "geemap.ee_export_image_collection(modis_clipped, out_dir = out_dir_m)"
   ]
  },
  {
   "cell_type": "code",
   "execution_count": null,
   "id": "53ab2feb-496b-4f55-8ec3-92566120bcf3",
   "metadata": {},
   "outputs": [],
   "source": []
  }
 ],
 "metadata": {
  "kernelspec": {
   "display_name": "Python 3 (ipykernel)",
   "language": "python",
   "name": "python3"
  },
  "language_info": {
   "codemirror_mode": {
    "name": "ipython",
    "version": 3
   },
   "file_extension": ".py",
   "mimetype": "text/x-python",
   "name": "python",
   "nbconvert_exporter": "python",
   "pygments_lexer": "ipython3",
   "version": "3.10.13"
  }
 },
 "nbformat": 4,
 "nbformat_minor": 5
}
