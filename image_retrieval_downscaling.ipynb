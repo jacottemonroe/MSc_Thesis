{
 "cells": [
  {
   "cell_type": "markdown",
   "id": "f0db397b",
   "metadata": {},
   "source": [
    "# MSc Thesis \n",
    "# Jacotte Monroe"
   ]
  },
  {
   "cell_type": "markdown",
   "id": "5651d372",
   "metadata": {},
   "source": [
    "Code that retrieves automatically the MODIS and Landsat scenes of interest and loads them. "
   ]
  },
  {
   "cell_type": "markdown",
   "id": "31ba570c",
   "metadata": {},
   "source": [
    "## Importing and initializing "
   ]
  },
  {
   "cell_type": "code",
   "execution_count": 1,
   "id": "b459d81d-0bd6-4a66-a3a7-598bef8a0002",
   "metadata": {},
   "outputs": [
    {
     "data": {
      "text/plain": [
       "True"
      ]
     },
     "execution_count": 1,
     "metadata": {},
     "output_type": "execute_result"
    }
   ],
   "source": [
    "import ee\n",
    "ee.Authenticate()"
   ]
  },
  {
   "cell_type": "code",
   "execution_count": 2,
   "id": "7753d218",
   "metadata": {},
   "outputs": [],
   "source": [
    "import ee\n",
    "import geemap\n",
    "import os\n",
    "import math\n",
    "\n",
    "ee.Initialize()"
   ]
  },
  {
   "cell_type": "markdown",
   "id": "f5d05ec0",
   "metadata": {},
   "source": [
    "## Set-up"
   ]
  },
  {
   "cell_type": "code",
   "execution_count": 3,
   "id": "75e7720b",
   "metadata": {},
   "outputs": [
    {
     "data": {
      "text/html": [
       "\n",
       "            <style>\n",
       "                .geemap-dark {\n",
       "                    --jp-widgets-color: white;\n",
       "                    --jp-widgets-label-color: white;\n",
       "                    --jp-ui-font-color1: white;\n",
       "                    --jp-layout-color2: #454545;\n",
       "                    background-color: #383838;\n",
       "                }\n",
       "                    \n",
       "                .geemap-dark .jupyter-button {\n",
       "                    --jp-layout-color3: #383838;\n",
       "                }\n",
       "                \n",
       "                .geemap-colab {\n",
       "                    background-color: var(--colab-primary-surface-color, white);\n",
       "                }\n",
       "                    \n",
       "                .geemap-colab .jupyter-button {\n",
       "                    --jp-layout-color3: var(--colab-primary-surface-color, white);\n",
       "                }\n",
       "            </style>\n",
       "            "
      ],
      "text/plain": [
       "<IPython.core.display.HTML object>"
      ]
     },
     "metadata": {},
     "output_type": "display_data"
    }
   ],
   "source": [
    "# define dates \n",
    "start_date = ee.Date('2014-01-14') # '2014-02-15'\n",
    "end_date = ee.Date('2014-02-18') # '2012-02-17'"
   ]
  },
  {
   "cell_type": "code",
   "execution_count": 7,
   "id": "9144fb12-4011-46d8-9490-0e15118ef136",
   "metadata": {},
   "outputs": [
    {
     "data": {
      "text/html": [
       "\n",
       "            <style>\n",
       "                .geemap-dark {\n",
       "                    --jp-widgets-color: white;\n",
       "                    --jp-widgets-label-color: white;\n",
       "                    --jp-ui-font-color1: white;\n",
       "                    --jp-layout-color2: #454545;\n",
       "                    background-color: #383838;\n",
       "                }\n",
       "                    \n",
       "                .geemap-dark .jupyter-button {\n",
       "                    --jp-layout-color3: #383838;\n",
       "                }\n",
       "                \n",
       "                .geemap-colab {\n",
       "                    background-color: var(--colab-primary-surface-color, white);\n",
       "                }\n",
       "                    \n",
       "                .geemap-colab .jupyter-button {\n",
       "                    --jp-layout-color3: var(--colab-primary-surface-color, white);\n",
       "                }\n",
       "            </style>\n",
       "            "
      ],
      "text/plain": [
       "<IPython.core.display.HTML object>"
      ]
     },
     "metadata": {},
     "output_type": "display_data"
    }
   ],
   "source": [
    "# set time-window for interpolation (how far will interpolate) --> NO INTERPOLATION DONE IN THIS CODE BUT JUST IN CASE IN FUTURE\n",
    "# source: https://spatialthoughts.com/2021/11/08/temporal-interpolation-gee/\n",
    "days = ee.Number(10) \n",
    "\n",
    "# convert to milliseconds (for gap filling step)\n",
    "millis = days.multiply(1000*60*60*24)"
   ]
  },
  {
   "cell_type": "code",
   "execution_count": 4,
   "id": "d5988387",
   "metadata": {},
   "outputs": [
    {
     "data": {
      "text/html": [
       "\n",
       "            <style>\n",
       "                .geemap-dark {\n",
       "                    --jp-widgets-color: white;\n",
       "                    --jp-widgets-label-color: white;\n",
       "                    --jp-ui-font-color1: white;\n",
       "                    --jp-layout-color2: #454545;\n",
       "                    background-color: #383838;\n",
       "                }\n",
       "                    \n",
       "                .geemap-dark .jupyter-button {\n",
       "                    --jp-layout-color3: #383838;\n",
       "                }\n",
       "                \n",
       "                .geemap-colab {\n",
       "                    background-color: var(--colab-primary-surface-color, white);\n",
       "                }\n",
       "                    \n",
       "                .geemap-colab .jupyter-button {\n",
       "                    --jp-layout-color3: var(--colab-primary-surface-color, white);\n",
       "                }\n",
       "            </style>\n",
       "            "
      ],
      "text/plain": [
       "<IPython.core.display.HTML object>"
      ]
     },
     "metadata": {},
     "output_type": "display_data"
    }
   ],
   "source": [
    "# load Etosha National Park study area\n",
    "enp = ee.FeatureCollection('WCMC/WDPA/current/polygons') \\\n",
    "        .filter(ee.Filter.eq('ORIG_NAME', 'Etosha'))\n",
    "\n",
    "# turn ENP study area into a geometry\n",
    "enp_geom = enp.geometry()"
   ]
  },
  {
   "cell_type": "code",
   "execution_count": 4,
   "id": "590427d6",
   "metadata": {},
   "outputs": [
    {
     "data": {
      "text/html": [
       "\n",
       "            <style>\n",
       "                .geemap-dark {\n",
       "                    --jp-widgets-color: white;\n",
       "                    --jp-widgets-label-color: white;\n",
       "                    --jp-ui-font-color1: white;\n",
       "                    --jp-layout-color2: #454545;\n",
       "                    background-color: #383838;\n",
       "                }\n",
       "                    \n",
       "                .geemap-dark .jupyter-button {\n",
       "                    --jp-layout-color3: #383838;\n",
       "                }\n",
       "                \n",
       "                .geemap-colab {\n",
       "                    background-color: var(--colab-primary-surface-color, white);\n",
       "                }\n",
       "                    \n",
       "                .geemap-colab .jupyter-button {\n",
       "                    --jp-layout-color3: var(--colab-primary-surface-color, white);\n",
       "                }\n",
       "            </style>\n",
       "            "
      ],
      "text/plain": [
       "<IPython.core.display.HTML object>"
      ]
     },
     "metadata": {},
     "output_type": "display_data"
    }
   ],
   "source": [
    "# define sample study area \n",
    "# note: sample area is smaller than original sample area because of Landsat data size limit when exporting \n",
    "sample_area = ee.Geometry.Polygon(\n",
    "        [[[15.457215604955591, -18.68807168881119],\n",
    "          [15.457215604955591, -19.120709491695354],\n",
    "          [15.939240751439966, -19.120709491695354],\n",
    "          [15.939240751439966, -18.68807168881119]]], None)"
   ]
  },
  {
   "cell_type": "markdown",
   "id": "1c6f422b",
   "metadata": {},
   "source": [
    "## Dataset retrieval"
   ]
  },
  {
   "cell_type": "code",
   "execution_count": 5,
   "id": "719fab98",
   "metadata": {},
   "outputs": [
    {
     "data": {
      "text/html": [
       "\n",
       "            <style>\n",
       "                .geemap-dark {\n",
       "                    --jp-widgets-color: white;\n",
       "                    --jp-widgets-label-color: white;\n",
       "                    --jp-ui-font-color1: white;\n",
       "                    --jp-layout-color2: #454545;\n",
       "                    background-color: #383838;\n",
       "                }\n",
       "                    \n",
       "                .geemap-dark .jupyter-button {\n",
       "                    --jp-layout-color3: #383838;\n",
       "                }\n",
       "                \n",
       "                .geemap-colab {\n",
       "                    background-color: var(--colab-primary-surface-color, white);\n",
       "                }\n",
       "                    \n",
       "                .geemap-colab .jupyter-button {\n",
       "                    --jp-layout-color3: var(--colab-primary-surface-color, white);\n",
       "                }\n",
       "            </style>\n",
       "            "
      ],
      "text/plain": [
       "<IPython.core.display.HTML object>"
      ]
     },
     "metadata": {},
     "output_type": "display_data"
    }
   ],
   "source": [
    "## Landsat 8 \n",
    "# note: ee.List should also normally include 180 (removed it for this sampled study area)\n",
    "l8 = ee.ImageCollection('LANDSAT/LC08/C02/T1_L2') \\\n",
    "    .filterDate('2008-10-01', '2014-10-01') \\\n",
    "    .filter(ee.Filter.inList('WRS_PATH', ee.List([179]))) \\\n",
    "    .filter(ee.Filter.eq('WRS_ROW', 73)) \\\n",
    "    .select(['SR_B.'])\n",
    "\n",
    "# remove B1 from Landsat 8 image collection \n",
    "# source: https://developers.google.com/earth-engine/apidocs/ee-list-remove\n",
    "l8 = l8.select(ee.List(l8.first().bandNames().getInfo()).remove('SR_B1'))\n",
    "\n",
    "# retrieve L8 dates \n",
    "# source: https://developers.google.com/earth-engine/apidocs/ee-imagecollection-aggregate_array\n",
    "#l8_dates = l8.aggregate_array('DATE_ACQUIRED')\n",
    "# source: https://gis.stackexchange.com/questions/307115/earth-engine-get-dates-from-imagecollection\n",
    "# source (python API): https://developers.google.com/earth-engine/guides/python_install#syntax\n",
    "#l8_dates = l8_dates.map(lambda x: ee.Date(x).advance(1, 'day').format('YYYY_MM_dd'))\n",
    "\n",
    "#print('L8 dates', l8_dates.getInfo())"
   ]
  },
  {
   "cell_type": "code",
   "execution_count": 8,
   "id": "ff8b337d",
   "metadata": {},
   "outputs": [
    {
     "data": {
      "text/html": [
       "\n",
       "            <style>\n",
       "                .geemap-dark {\n",
       "                    --jp-widgets-color: white;\n",
       "                    --jp-widgets-label-color: white;\n",
       "                    --jp-ui-font-color1: white;\n",
       "                    --jp-layout-color2: #454545;\n",
       "                    background-color: #383838;\n",
       "                }\n",
       "                    \n",
       "                .geemap-dark .jupyter-button {\n",
       "                    --jp-layout-color3: #383838;\n",
       "                }\n",
       "                \n",
       "                .geemap-colab {\n",
       "                    background-color: var(--colab-primary-surface-color, white);\n",
       "                }\n",
       "                    \n",
       "                .geemap-colab .jupyter-button {\n",
       "                    --jp-layout-color3: var(--colab-primary-surface-color, white);\n",
       "                }\n",
       "            </style>\n",
       "            "
      ],
      "text/plain": [
       "<IPython.core.display.HTML object>"
      ]
     },
     "metadata": {},
     "output_type": "display_data"
    }
   ],
   "source": [
    "## MODIS daily 250m\n",
    "# take larger time range to include images if I want gap filling of cloudmasked pixels \n",
    "# source: https://developers.google.com/earth-engine/apidocs/ee-date-advance#colab-python\n",
    "#alternative to filterDate: filter(ee.Filter.inList('system:index', l8_dates)) \\\n",
    "modis_250 = ee.ImageCollection('MODIS/061/MOD09GQ') \\\n",
    "    .filterDate(start_date.advance(days.multiply(-1), 'day'), end_date.advance(days, 'day')) \\\n",
    "    .filterBounds(sample_area) \\\n",
    "\n",
    "# import MODIS 500m dataset (contains information for cloudmasking)\n",
    "modis_500 = ee.ImageCollection('MODIS/006/MOD09GA') \\\n",
    "        .filterDate(start_date.advance(days.multiply(-1), 'day'), end_date.advance(days, 'day'))  \\\n",
    "        .filterBounds(sample_area)"
   ]
  },
  {
   "cell_type": "code",
   "execution_count": 9,
   "id": "52189b8f-866f-4334-94de-77b38ad06354",
   "metadata": {},
   "outputs": [
    {
     "data": {
      "text/html": [
       "\n",
       "            <style>\n",
       "                .geemap-dark {\n",
       "                    --jp-widgets-color: white;\n",
       "                    --jp-widgets-label-color: white;\n",
       "                    --jp-ui-font-color1: white;\n",
       "                    --jp-layout-color2: #454545;\n",
       "                    background-color: #383838;\n",
       "                }\n",
       "                    \n",
       "                .geemap-dark .jupyter-button {\n",
       "                    --jp-layout-color3: #383838;\n",
       "                }\n",
       "                \n",
       "                .geemap-colab {\n",
       "                    background-color: var(--colab-primary-surface-color, white);\n",
       "                }\n",
       "                    \n",
       "                .geemap-colab .jupyter-button {\n",
       "                    --jp-layout-color3: var(--colab-primary-surface-color, white);\n",
       "                }\n",
       "            </style>\n",
       "            "
      ],
      "text/plain": [
       "<IPython.core.display.HTML object>"
      ]
     },
     "metadata": {},
     "output_type": "display_data"
    }
   ],
   "source": [
    "# combine datasets\n",
    "# pixel with certain MODIS 500m value can be selected for MODIS 250m \n",
    "# source: https://gis.stackexchange.com/questions/308456/get-a-mask-for-modis-250m-mod09gq-using-modis-500m-mod09ga-in-google-earth\n",
    "modis_combined = modis_500.combine(modis_250)\n",
    "\n",
    "# new name of MODIS 250m bands (to avoid having two of similar name)\n",
    "modisBands = ['sur_refl_b01_1', 'sur_refl_b02_1']\n",
    "renamedBands = ['red', 'nir']"
   ]
  },
  {
   "cell_type": "markdown",
   "id": "94474ae3",
   "metadata": {},
   "source": [
    "## Functions"
   ]
  },
  {
   "cell_type": "code",
   "execution_count": 10,
   "id": "e67a7a26-a20f-41ee-8c72-752445271be8",
   "metadata": {},
   "outputs": [
    {
     "data": {
      "text/html": [
       "\n",
       "            <style>\n",
       "                .geemap-dark {\n",
       "                    --jp-widgets-color: white;\n",
       "                    --jp-widgets-label-color: white;\n",
       "                    --jp-ui-font-color1: white;\n",
       "                    --jp-layout-color2: #454545;\n",
       "                    background-color: #383838;\n",
       "                }\n",
       "                    \n",
       "                .geemap-dark .jupyter-button {\n",
       "                    --jp-layout-color3: #383838;\n",
       "                }\n",
       "                \n",
       "                .geemap-colab {\n",
       "                    background-color: var(--colab-primary-surface-color, white);\n",
       "                }\n",
       "                    \n",
       "                .geemap-colab .jupyter-button {\n",
       "                    --jp-layout-color3: var(--colab-primary-surface-color, white);\n",
       "                }\n",
       "            </style>\n",
       "            "
      ],
      "text/plain": [
       "<IPython.core.display.HTML object>"
      ]
     },
     "metadata": {},
     "output_type": "display_data"
    }
   ],
   "source": [
    "# function to extract and combined relevant QA band bits/flags \n",
    "# source: https://mygeoblog.com/2017/09/08/modis-cloud-masking/\n",
    "def getQABits(image, start_bit, end_bit, band_name):\n",
    "    pattern = 0\n",
    "    \n",
    "    # for each bit/flag of the QA band --> assign new value to its bits \n",
    "    # so each flag will have a different value and the pixel will be the sum of all flags \n",
    "    for i in range(start_bit, end_bit):\n",
    "        pattern += math.pow(2,i)\n",
    "    # return single band image of extracted QA bits\n",
    "    # source: https://developers.google.com/earth-engine/apidocs/ee-image-bitwiseand\n",
    "    return image.select([0], [band_name]) \\\n",
    "                .bitwiseAnd(pattern) \\\n",
    "                .rightShift(start_bit)"
   ]
  },
  {
   "cell_type": "code",
   "execution_count": 11,
   "id": "253add5e-6ab2-4e62-bada-2c9f3c41dbf3",
   "metadata": {},
   "outputs": [
    {
     "data": {
      "text/html": [
       "\n",
       "            <style>\n",
       "                .geemap-dark {\n",
       "                    --jp-widgets-color: white;\n",
       "                    --jp-widgets-label-color: white;\n",
       "                    --jp-ui-font-color1: white;\n",
       "                    --jp-layout-color2: #454545;\n",
       "                    background-color: #383838;\n",
       "                }\n",
       "                    \n",
       "                .geemap-dark .jupyter-button {\n",
       "                    --jp-layout-color3: #383838;\n",
       "                }\n",
       "                \n",
       "                .geemap-colab {\n",
       "                    background-color: var(--colab-primary-surface-color, white);\n",
       "                }\n",
       "                    \n",
       "                .geemap-colab .jupyter-button {\n",
       "                    --jp-layout-color3: var(--colab-primary-surface-color, white);\n",
       "                }\n",
       "            </style>\n",
       "            "
      ],
      "text/plain": [
       "<IPython.core.display.HTML object>"
      ]
     },
     "metadata": {},
     "output_type": "display_data"
    }
   ],
   "source": [
    "# function to mask out cloudy pixels \n",
    "# source: https://gis.stackexchange.com/questions/308456/get-a-mask-for-modis-250m-mod09gq-using-modis-500m-mod09ga-in-google-earth\n",
    "# source: https://mygeoblog.com/2017/09/08/modis-cloud-masking/\n",
    "def maskClouds(image):\n",
    "    # selects the MODIS 500m QA band \n",
    "    QA = image.select('state_1km')\n",
    "\n",
    "    # creates a cloud&shadow flag from specified bits --> in this case: 'Cloud state' and 'Cloud shadow'\n",
    "    pixelQuality = getQABits(QA, 0, 2, 'cloud_and_shadow_quality_flag')\n",
    "\n",
    "    # returns image masking out cloudy pixels \n",
    "    return image.updateMask(pixelQuality.eq(0))"
   ]
  },
  {
   "cell_type": "code",
   "execution_count": 12,
   "id": "0e27b3e3",
   "metadata": {},
   "outputs": [
    {
     "data": {
      "text/html": [
       "\n",
       "            <style>\n",
       "                .geemap-dark {\n",
       "                    --jp-widgets-color: white;\n",
       "                    --jp-widgets-label-color: white;\n",
       "                    --jp-ui-font-color1: white;\n",
       "                    --jp-layout-color2: #454545;\n",
       "                    background-color: #383838;\n",
       "                }\n",
       "                    \n",
       "                .geemap-dark .jupyter-button {\n",
       "                    --jp-layout-color3: #383838;\n",
       "                }\n",
       "                \n",
       "                .geemap-colab {\n",
       "                    background-color: var(--colab-primary-surface-color, white);\n",
       "                }\n",
       "                    \n",
       "                .geemap-colab .jupyter-button {\n",
       "                    --jp-layout-color3: var(--colab-primary-surface-color, white);\n",
       "                }\n",
       "            </style>\n",
       "            "
      ],
      "text/plain": [
       "<IPython.core.display.HTML object>"
      ]
     },
     "metadata": {},
     "output_type": "display_data"
    }
   ],
   "source": [
    "# function to reproject (32733 if want Namibia coordinates, but elephant fixes are in 4326)\n",
    "def reprojectLandsat(image): \n",
    "    return image.reproject('EPSG:4326', None, 30)\n",
    "\n",
    "def reprojectModis(image):\n",
    "    return image.reproject('EPSG:4326', None, 250)\n"
   ]
  },
  {
   "cell_type": "code",
   "execution_count": 13,
   "id": "d4bca1b3",
   "metadata": {},
   "outputs": [
    {
     "data": {
      "text/html": [
       "\n",
       "            <style>\n",
       "                .geemap-dark {\n",
       "                    --jp-widgets-color: white;\n",
       "                    --jp-widgets-label-color: white;\n",
       "                    --jp-ui-font-color1: white;\n",
       "                    --jp-layout-color2: #454545;\n",
       "                    background-color: #383838;\n",
       "                }\n",
       "                    \n",
       "                .geemap-dark .jupyter-button {\n",
       "                    --jp-layout-color3: #383838;\n",
       "                }\n",
       "                \n",
       "                .geemap-colab {\n",
       "                    background-color: var(--colab-primary-surface-color, white);\n",
       "                }\n",
       "                    \n",
       "                .geemap-colab .jupyter-button {\n",
       "                    --jp-layout-color3: var(--colab-primary-surface-color, white);\n",
       "                }\n",
       "            </style>\n",
       "            "
      ],
      "text/plain": [
       "<IPython.core.display.HTML object>"
      ]
     },
     "metadata": {},
     "output_type": "display_data"
    }
   ],
   "source": [
    "# function to clip image to study area\n",
    "def clipToAOI(image): \n",
    "    result = image.clip(sample_area)\n",
    "    return result.copyProperties(image, ['system:id'])"
   ]
  },
  {
   "cell_type": "code",
   "execution_count": 14,
   "id": "62f3e358",
   "metadata": {},
   "outputs": [
    {
     "data": {
      "text/html": [
       "\n",
       "            <style>\n",
       "                .geemap-dark {\n",
       "                    --jp-widgets-color: white;\n",
       "                    --jp-widgets-label-color: white;\n",
       "                    --jp-ui-font-color1: white;\n",
       "                    --jp-layout-color2: #454545;\n",
       "                    background-color: #383838;\n",
       "                }\n",
       "                    \n",
       "                .geemap-dark .jupyter-button {\n",
       "                    --jp-layout-color3: #383838;\n",
       "                }\n",
       "                \n",
       "                .geemap-colab {\n",
       "                    background-color: var(--colab-primary-surface-color, white);\n",
       "                }\n",
       "                    \n",
       "                .geemap-colab .jupyter-button {\n",
       "                    --jp-layout-color3: var(--colab-primary-surface-color, white);\n",
       "                }\n",
       "            </style>\n",
       "            "
      ],
      "text/plain": [
       "<IPython.core.display.HTML object>"
      ]
     },
     "metadata": {},
     "output_type": "display_data"
    }
   ],
   "source": [
    "# define landsat scaling factor\n",
    "def applyScaleFactors(image): \n",
    "    opticalBands = image.select('SR_B.').multiply(0.0000275).add(-0.2)\n",
    "    return image.addBands(opticalBands, None, True)"
   ]
  },
  {
   "cell_type": "markdown",
   "id": "b0689e52-5eb3-4d13-af2f-ca056f67f66d",
   "metadata": {},
   "source": [
    "## Cloudmasking MODIS images"
   ]
  },
  {
   "cell_type": "code",
   "execution_count": 15,
   "id": "cf9bb138-4154-4149-9e95-ace1378e7ea4",
   "metadata": {},
   "outputs": [
    {
     "data": {
      "text/html": [
       "\n",
       "            <style>\n",
       "                .geemap-dark {\n",
       "                    --jp-widgets-color: white;\n",
       "                    --jp-widgets-label-color: white;\n",
       "                    --jp-ui-font-color1: white;\n",
       "                    --jp-layout-color2: #454545;\n",
       "                    background-color: #383838;\n",
       "                }\n",
       "                    \n",
       "                .geemap-dark .jupyter-button {\n",
       "                    --jp-layout-color3: #383838;\n",
       "                }\n",
       "                \n",
       "                .geemap-colab {\n",
       "                    background-color: var(--colab-primary-surface-color, white);\n",
       "                }\n",
       "                    \n",
       "                .geemap-colab .jupyter-button {\n",
       "                    --jp-layout-color3: var(--colab-primary-surface-color, white);\n",
       "                }\n",
       "            </style>\n",
       "            "
      ],
      "text/plain": [
       "<IPython.core.display.HTML object>"
      ]
     },
     "metadata": {},
     "output_type": "display_data"
    }
   ],
   "source": [
    "# create cloud free MODIS 250m dataset \n",
    "# source: https://mygeoblog.com/2017/09/08/modis-cloud-masking/ \n",
    "# source: https://gis.stackexchange.com/questions/308456/get-a-mask-for-modis-250m-mod09gq-using-modis-500m-mod09ga-in-google-earth\n",
    "\n",
    "modis_cloudFree = modis_combined.map(maskClouds).select(modisBands, renamedBands)"
   ]
  },
  {
   "cell_type": "markdown",
   "id": "d336e537",
   "metadata": {},
   "source": [
    "## Apply functions"
   ]
  },
  {
   "cell_type": "code",
   "execution_count": 16,
   "id": "7a61e02f",
   "metadata": {},
   "outputs": [
    {
     "data": {
      "text/html": [
       "\n",
       "            <style>\n",
       "                .geemap-dark {\n",
       "                    --jp-widgets-color: white;\n",
       "                    --jp-widgets-label-color: white;\n",
       "                    --jp-ui-font-color1: white;\n",
       "                    --jp-layout-color2: #454545;\n",
       "                    background-color: #383838;\n",
       "                }\n",
       "                    \n",
       "                .geemap-dark .jupyter-button {\n",
       "                    --jp-layout-color3: #383838;\n",
       "                }\n",
       "                \n",
       "                .geemap-colab {\n",
       "                    background-color: var(--colab-primary-surface-color, white);\n",
       "                }\n",
       "                    \n",
       "                .geemap-colab .jupyter-button {\n",
       "                    --jp-layout-color3: var(--colab-primary-surface-color, white);\n",
       "                }\n",
       "            </style>\n",
       "            "
      ],
      "text/plain": [
       "<IPython.core.display.HTML object>"
      ]
     },
     "metadata": {},
     "output_type": "display_data"
    }
   ],
   "source": [
    "# apply reprojection \n",
    "modis_reproj = modis_cloudFree.map(reprojectModis)\n",
    "l8_reproj = l8.map(reprojectLandsat)"
   ]
  },
  {
   "cell_type": "code",
   "execution_count": 17,
   "id": "827a556b",
   "metadata": {},
   "outputs": [
    {
     "data": {
      "text/html": [
       "\n",
       "            <style>\n",
       "                .geemap-dark {\n",
       "                    --jp-widgets-color: white;\n",
       "                    --jp-widgets-label-color: white;\n",
       "                    --jp-ui-font-color1: white;\n",
       "                    --jp-layout-color2: #454545;\n",
       "                    background-color: #383838;\n",
       "                }\n",
       "                    \n",
       "                .geemap-dark .jupyter-button {\n",
       "                    --jp-layout-color3: #383838;\n",
       "                }\n",
       "                \n",
       "                .geemap-colab {\n",
       "                    background-color: var(--colab-primary-surface-color, white);\n",
       "                }\n",
       "                    \n",
       "                .geemap-colab .jupyter-button {\n",
       "                    --jp-layout-color3: var(--colab-primary-surface-color, white);\n",
       "                }\n",
       "            </style>\n",
       "            "
      ],
      "text/plain": [
       "<IPython.core.display.HTML object>"
      ]
     },
     "metadata": {},
     "output_type": "display_data"
    }
   ],
   "source": [
    "# apply clipping function \n",
    "modis_clipped = modis_reproj.map(clipToAOI)\n",
    "l8_clipped = l8_reproj.map(clipToAOI)"
   ]
  },
  {
   "cell_type": "code",
   "execution_count": 18,
   "id": "aabd92c1",
   "metadata": {},
   "outputs": [
    {
     "data": {
      "text/html": [
       "\n",
       "            <style>\n",
       "                .geemap-dark {\n",
       "                    --jp-widgets-color: white;\n",
       "                    --jp-widgets-label-color: white;\n",
       "                    --jp-ui-font-color1: white;\n",
       "                    --jp-layout-color2: #454545;\n",
       "                    background-color: #383838;\n",
       "                }\n",
       "                    \n",
       "                .geemap-dark .jupyter-button {\n",
       "                    --jp-layout-color3: #383838;\n",
       "                }\n",
       "                \n",
       "                .geemap-colab {\n",
       "                    background-color: var(--colab-primary-surface-color, white);\n",
       "                }\n",
       "                    \n",
       "                .geemap-colab .jupyter-button {\n",
       "                    --jp-layout-color3: var(--colab-primary-surface-color, white);\n",
       "                }\n",
       "            </style>\n",
       "            "
      ],
      "text/plain": [
       "<IPython.core.display.HTML object>"
      ]
     },
     "metadata": {},
     "output_type": "display_data"
    }
   ],
   "source": [
    "# apply scaling factor \n",
    "l8_scaled = l8_clipped.map(applyScaleFactors)\n",
    "\n",
    "# is this function actually working? because when i map this it doesn't match visualization parameters \n",
    "    # for scaled image instead it matches for non scaled image"
   ]
  },
  {
   "cell_type": "markdown",
   "id": "3219a219",
   "metadata": {},
   "source": [
    "## Visualize"
   ]
  },
  {
   "cell_type": "code",
   "execution_count": 44,
   "id": "73c56a1d",
   "metadata": {},
   "outputs": [],
   "source": [
    "# define visualization parameters\n",
    "visualization_modis = {\n",
    "  'min': -100.0,\n",
    "  'max': 8000.0,\n",
    "  'bands': ['sur_refl_b02', 'sur_refl_b02', 'sur_refl_b01'],\n",
    "}\n",
    "\n",
    "visualization_l8 = {\n",
    "  'bands': ['SR_B4', 'SR_B3', 'SR_B2'],\n",
    "  'min': 8000,\n",
    "  'max': 20000,\n",
    "}\n",
    "\n",
    "visualization_l8_scaled = {\n",
    "  'bands': ['SR_B4', 'SR_B3', 'SR_B2'],\n",
    "  'min': 0,\n",
    "  'max': 0.5,\n",
    "}"
   ]
  },
  {
   "cell_type": "code",
   "execution_count": 60,
   "id": "60391ee8",
   "metadata": {},
   "outputs": [
    {
     "ename": "TraitError",
     "evalue": "The 'east' trait of a Map instance expected a float, not the NoneType None.",
     "output_type": "error",
     "traceback": [
      "\u001b[0;31m---------------------------------------------------------------------------\u001b[0m",
      "\u001b[0;31mTraitError\u001b[0m                                Traceback (most recent call last)",
      "File \u001b[0;32m~/mamba/envs/pythonGee/lib/python3.10/site-packages/ipywidgets/widgets/widget.py:773\u001b[0m, in \u001b[0;36mWidget._handle_msg\u001b[0;34m(self, msg)\u001b[0m\n\u001b[1;32m    771\u001b[0m         \u001b[38;5;28;01mif\u001b[39;00m \u001b[38;5;124m'\u001b[39m\u001b[38;5;124mbuffer_paths\u001b[39m\u001b[38;5;124m'\u001b[39m \u001b[38;5;129;01min\u001b[39;00m data:\n\u001b[1;32m    772\u001b[0m             _put_buffers(state, data[\u001b[38;5;124m'\u001b[39m\u001b[38;5;124mbuffer_paths\u001b[39m\u001b[38;5;124m'\u001b[39m], msg[\u001b[38;5;124m'\u001b[39m\u001b[38;5;124mbuffers\u001b[39m\u001b[38;5;124m'\u001b[39m])\n\u001b[0;32m--> 773\u001b[0m         \u001b[38;5;28;43mself\u001b[39;49m\u001b[38;5;241;43m.\u001b[39;49m\u001b[43mset_state\u001b[49m\u001b[43m(\u001b[49m\u001b[43mstate\u001b[49m\u001b[43m)\u001b[49m\n\u001b[1;32m    775\u001b[0m \u001b[38;5;66;03m# Handle a state request.\u001b[39;00m\n\u001b[1;32m    776\u001b[0m \u001b[38;5;28;01melif\u001b[39;00m method \u001b[38;5;241m==\u001b[39m \u001b[38;5;124m'\u001b[39m\u001b[38;5;124mrequest_state\u001b[39m\u001b[38;5;124m'\u001b[39m:\n",
      "File \u001b[0;32m~/mamba/envs/pythonGee/lib/python3.10/site-packages/ipywidgets/widgets/widget.py:655\u001b[0m, in \u001b[0;36mWidget.set_state\u001b[0;34m(self, sync_data)\u001b[0m\n\u001b[1;32m    652\u001b[0m \u001b[38;5;28;01mif\u001b[39;00m name \u001b[38;5;129;01min\u001b[39;00m \u001b[38;5;28mself\u001b[39m\u001b[38;5;241m.\u001b[39mkeys:\n\u001b[1;32m    653\u001b[0m     from_json \u001b[38;5;241m=\u001b[39m \u001b[38;5;28mself\u001b[39m\u001b[38;5;241m.\u001b[39mtrait_metadata(name, \u001b[38;5;124m'\u001b[39m\u001b[38;5;124mfrom_json\u001b[39m\u001b[38;5;124m'\u001b[39m,\n\u001b[1;32m    654\u001b[0m                                     \u001b[38;5;28mself\u001b[39m\u001b[38;5;241m.\u001b[39m_trait_from_json)\n\u001b[0;32m--> 655\u001b[0m     \u001b[38;5;28;43mself\u001b[39;49m\u001b[38;5;241;43m.\u001b[39;49m\u001b[43mset_trait\u001b[49m\u001b[43m(\u001b[49m\u001b[43mname\u001b[49m\u001b[43m,\u001b[49m\u001b[43m \u001b[49m\u001b[43mfrom_json\u001b[49m\u001b[43m(\u001b[49m\u001b[43msync_data\u001b[49m\u001b[43m[\u001b[49m\u001b[43mname\u001b[49m\u001b[43m]\u001b[49m\u001b[43m,\u001b[49m\u001b[43m \u001b[49m\u001b[38;5;28;43mself\u001b[39;49m\u001b[43m)\u001b[49m\u001b[43m)\u001b[49m\n",
      "File \u001b[0;32m~/mamba/envs/pythonGee/lib/python3.10/site-packages/traitlets/traitlets.py:1772\u001b[0m, in \u001b[0;36mHasTraits.set_trait\u001b[0;34m(self, name, value)\u001b[0m\n\u001b[1;32m   1770\u001b[0m     \u001b[38;5;28;01mraise\u001b[39;00m TraitError(\u001b[38;5;124mf\u001b[39m\u001b[38;5;124m\"\u001b[39m\u001b[38;5;124mClass \u001b[39m\u001b[38;5;132;01m{\u001b[39;00m\u001b[38;5;28mcls\u001b[39m\u001b[38;5;241m.\u001b[39m\u001b[38;5;18m__name__\u001b[39m\u001b[38;5;132;01m}\u001b[39;00m\u001b[38;5;124m does not have a trait named \u001b[39m\u001b[38;5;132;01m{\u001b[39;00mname\u001b[38;5;132;01m}\u001b[39;00m\u001b[38;5;124m\"\u001b[39m)\n\u001b[1;32m   1771\u001b[0m \u001b[38;5;28;01melse\u001b[39;00m:\n\u001b[0;32m-> 1772\u001b[0m     \u001b[38;5;28;43mgetattr\u001b[39;49m\u001b[43m(\u001b[49m\u001b[38;5;28;43mcls\u001b[39;49m\u001b[43m,\u001b[49m\u001b[43m \u001b[49m\u001b[43mname\u001b[49m\u001b[43m)\u001b[49m\u001b[38;5;241;43m.\u001b[39;49m\u001b[43mset\u001b[49m\u001b[43m(\u001b[49m\u001b[38;5;28;43mself\u001b[39;49m\u001b[43m,\u001b[49m\u001b[43m \u001b[49m\u001b[43mvalue\u001b[49m\u001b[43m)\u001b[49m\n",
      "File \u001b[0;32m~/mamba/envs/pythonGee/lib/python3.10/site-packages/traitlets/traitlets.py:719\u001b[0m, in \u001b[0;36mTraitType.set\u001b[0;34m(self, obj, value)\u001b[0m\n\u001b[1;32m    718\u001b[0m \u001b[38;5;28;01mdef\u001b[39;00m \u001b[38;5;21mset\u001b[39m(\u001b[38;5;28mself\u001b[39m, obj, value):\n\u001b[0;32m--> 719\u001b[0m     new_value \u001b[38;5;241m=\u001b[39m \u001b[38;5;28;43mself\u001b[39;49m\u001b[38;5;241;43m.\u001b[39;49m\u001b[43m_validate\u001b[49m\u001b[43m(\u001b[49m\u001b[43mobj\u001b[49m\u001b[43m,\u001b[49m\u001b[43m \u001b[49m\u001b[43mvalue\u001b[49m\u001b[43m)\u001b[49m\n\u001b[1;32m    720\u001b[0m     \u001b[38;5;28;01mtry\u001b[39;00m:\n\u001b[1;32m    721\u001b[0m         old_value \u001b[38;5;241m=\u001b[39m obj\u001b[38;5;241m.\u001b[39m_trait_values[\u001b[38;5;28mself\u001b[39m\u001b[38;5;241m.\u001b[39mname]\n",
      "File \u001b[0;32m~/mamba/envs/pythonGee/lib/python3.10/site-packages/traitlets/traitlets.py:751\u001b[0m, in \u001b[0;36mTraitType._validate\u001b[0;34m(self, obj, value)\u001b[0m\n\u001b[1;32m    749\u001b[0m     \u001b[38;5;28;01mreturn\u001b[39;00m value\n\u001b[1;32m    750\u001b[0m \u001b[38;5;28;01mif\u001b[39;00m \u001b[38;5;28mhasattr\u001b[39m(\u001b[38;5;28mself\u001b[39m, \u001b[38;5;124m\"\u001b[39m\u001b[38;5;124mvalidate\u001b[39m\u001b[38;5;124m\"\u001b[39m):\n\u001b[0;32m--> 751\u001b[0m     value \u001b[38;5;241m=\u001b[39m \u001b[38;5;28;43mself\u001b[39;49m\u001b[38;5;241;43m.\u001b[39;49m\u001b[43mvalidate\u001b[49m\u001b[43m(\u001b[49m\u001b[43mobj\u001b[49m\u001b[43m,\u001b[49m\u001b[43m \u001b[49m\u001b[43mvalue\u001b[49m\u001b[43m)\u001b[49m\n\u001b[1;32m    752\u001b[0m \u001b[38;5;28;01mif\u001b[39;00m obj\u001b[38;5;241m.\u001b[39m_cross_validation_lock \u001b[38;5;129;01mis\u001b[39;00m \u001b[38;5;28;01mFalse\u001b[39;00m:\n\u001b[1;32m    753\u001b[0m     value \u001b[38;5;241m=\u001b[39m \u001b[38;5;28mself\u001b[39m\u001b[38;5;241m.\u001b[39m_cross_validate(obj, value)\n",
      "File \u001b[0;32m~/mamba/envs/pythonGee/lib/python3.10/site-packages/traitlets/traitlets.py:2762\u001b[0m, in \u001b[0;36mFloat.validate\u001b[0;34m(self, obj, value)\u001b[0m\n\u001b[1;32m   2760\u001b[0m     value \u001b[38;5;241m=\u001b[39m \u001b[38;5;28mfloat\u001b[39m(value)\n\u001b[1;32m   2761\u001b[0m \u001b[38;5;28;01mif\u001b[39;00m \u001b[38;5;129;01mnot\u001b[39;00m \u001b[38;5;28misinstance\u001b[39m(value, \u001b[38;5;28mfloat\u001b[39m):\n\u001b[0;32m-> 2762\u001b[0m     \u001b[38;5;28;43mself\u001b[39;49m\u001b[38;5;241;43m.\u001b[39;49m\u001b[43merror\u001b[49m\u001b[43m(\u001b[49m\u001b[43mobj\u001b[49m\u001b[43m,\u001b[49m\u001b[43m \u001b[49m\u001b[43mvalue\u001b[49m\u001b[43m)\u001b[49m\n\u001b[1;32m   2763\u001b[0m \u001b[38;5;28;01mreturn\u001b[39;00m _validate_bounds(\u001b[38;5;28mself\u001b[39m, obj, value)\n",
      "File \u001b[0;32m~/mamba/envs/pythonGee/lib/python3.10/site-packages/traitlets/traitlets.py:855\u001b[0m, in \u001b[0;36mTraitType.error\u001b[0;34m(self, obj, value, error, info)\u001b[0m\n\u001b[1;32m    849\u001b[0m \u001b[38;5;28;01melse\u001b[39;00m:\n\u001b[1;32m    850\u001b[0m     e \u001b[38;5;241m=\u001b[39m \u001b[38;5;124m\"\u001b[39m\u001b[38;5;124mThe \u001b[39m\u001b[38;5;124m'\u001b[39m\u001b[38;5;132;01m{}\u001b[39;00m\u001b[38;5;124m'\u001b[39m\u001b[38;5;124m trait expected \u001b[39m\u001b[38;5;132;01m{}\u001b[39;00m\u001b[38;5;124m, not \u001b[39m\u001b[38;5;132;01m{}\u001b[39;00m\u001b[38;5;124m.\u001b[39m\u001b[38;5;124m\"\u001b[39m\u001b[38;5;241m.\u001b[39mformat(\n\u001b[1;32m    851\u001b[0m         \u001b[38;5;28mself\u001b[39m\u001b[38;5;241m.\u001b[39mname,\n\u001b[1;32m    852\u001b[0m         \u001b[38;5;28mself\u001b[39m\u001b[38;5;241m.\u001b[39minfo(),\n\u001b[1;32m    853\u001b[0m         describe(\u001b[38;5;124m\"\u001b[39m\u001b[38;5;124mthe\u001b[39m\u001b[38;5;124m\"\u001b[39m, value),\n\u001b[1;32m    854\u001b[0m     )\n\u001b[0;32m--> 855\u001b[0m \u001b[38;5;28;01mraise\u001b[39;00m TraitError(e)\n",
      "\u001b[0;31mTraitError\u001b[0m: The 'east' trait of a Map instance expected a float, not the NoneType None."
     ]
    }
   ],
   "source": [
    "# initialization and set up of the map\n",
    "Map = geemap.Map()\n",
    "#Map.add_ee_layer(enp, None, 'Etosha National Park')\n",
    "Map.add_layer(sample_area, None, 'Sample AOI')\n",
    "Map.add_layer(l8_scaled.first(), visualization_l8_scaled, 'L8 Scaled')\n",
    "Map.centerObject(enp_geom)\n",
    "\n",
    "# Show the map\n",
    "#Map"
   ]
  },
  {
   "cell_type": "markdown",
   "id": "47f12511",
   "metadata": {},
   "source": [
    "## Export data"
   ]
  },
  {
   "cell_type": "code",
   "execution_count": 21,
   "id": "a50cd2a4",
   "metadata": {},
   "outputs": [
    {
     "data": {
      "text/html": [
       "\n",
       "            <style>\n",
       "                .geemap-dark {\n",
       "                    --jp-widgets-color: white;\n",
       "                    --jp-widgets-label-color: white;\n",
       "                    --jp-ui-font-color1: white;\n",
       "                    --jp-layout-color2: #454545;\n",
       "                    background-color: #383838;\n",
       "                }\n",
       "                    \n",
       "                .geemap-dark .jupyter-button {\n",
       "                    --jp-layout-color3: #383838;\n",
       "                }\n",
       "                \n",
       "                .geemap-colab {\n",
       "                    background-color: var(--colab-primary-surface-color, white);\n",
       "                }\n",
       "                    \n",
       "                .geemap-colab .jupyter-button {\n",
       "                    --jp-layout-color3: var(--colab-primary-surface-color, white);\n",
       "                }\n",
       "            </style>\n",
       "            "
      ],
      "text/plain": [
       "<IPython.core.display.HTML object>"
      ]
     },
     "metadata": {},
     "output_type": "display_data"
    }
   ],
   "source": [
    "# get output folder path \n",
    "# source: https://github.com/gee-community/geemap/blob/master/examples/notebooks/11_export_image.ipynb\n",
    "out_dir_l8 = os.path.join(os.path.expanduser('~'), 'Documents/MSc_Thesis/data/l8')\n",
    "out_dir_m = os.path.join(os.path.expanduser('~'), 'Documents/MSc_Thesis/data/modis/cloudmasked')"
   ]
  },
  {
   "cell_type": "code",
   "execution_count": 18,
   "id": "3c994a03",
   "metadata": {},
   "outputs": [
    {
     "name": "stdout",
     "output_type": "stream",
     "text": [
      "Total number of images: 32\n",
      "\n",
      "Exporting 1/32: /home/osboxes/Documents/MSc_thesis/data/l8/LC08_179073_20130418.tif\n",
      "Generating URL ...\n",
      "Downloading data from https://earthengine.googleapis.com/v1/projects/earthengine-legacy/thumbnails/5164ce7801d1e5f9f58e3875fdd51849-b81ab6a6890cbc58ec7389a6e1510137:getPixels\n",
      "Please wait ...\n",
      "Data downloaded to /home/osboxes/Documents/MSc_thesis/data/l8/LC08_179073_20130418.tif\n",
      "\n",
      "\n",
      "Exporting 2/32: /home/osboxes/Documents/MSc_thesis/data/l8/LC08_179073_20130504.tif\n",
      "Generating URL ...\n",
      "Downloading data from https://earthengine.googleapis.com/v1/projects/earthengine-legacy/thumbnails/a7ca6dae5f61f25bdbb36e6b69256b7e-7f0fa7f182a4b49666b9cddd5a0a47ba:getPixels\n",
      "Please wait ...\n",
      "Data downloaded to /home/osboxes/Documents/MSc_thesis/data/l8/LC08_179073_20130504.tif\n",
      "\n",
      "\n",
      "Exporting 3/32: /home/osboxes/Documents/MSc_thesis/data/l8/LC08_179073_20130520.tif\n",
      "Generating URL ...\n",
      "Downloading data from https://earthengine.googleapis.com/v1/projects/earthengine-legacy/thumbnails/cf4f83861817a2d5dc0ca94c735aa57b-1d03c692105797e7d0b5bde81aeca3ba:getPixels\n",
      "Please wait ...\n",
      "Data downloaded to /home/osboxes/Documents/MSc_thesis/data/l8/LC08_179073_20130520.tif\n",
      "\n",
      "\n",
      "Exporting 4/32: /home/osboxes/Documents/MSc_thesis/data/l8/LC08_179073_20130605.tif\n",
      "Generating URL ...\n",
      "Downloading data from https://earthengine.googleapis.com/v1/projects/earthengine-legacy/thumbnails/259523947e1fae68f598d87580e7adc0-e925479e581b055ed6e2fc028b607e35:getPixels\n",
      "Please wait ...\n",
      "Data downloaded to /home/osboxes/Documents/MSc_thesis/data/l8/LC08_179073_20130605.tif\n",
      "\n",
      "\n",
      "Exporting 5/32: /home/osboxes/Documents/MSc_thesis/data/l8/LC08_179073_20130621.tif\n",
      "Generating URL ...\n",
      "Downloading data from https://earthengine.googleapis.com/v1/projects/earthengine-legacy/thumbnails/64174975d3ad307adc12c3489bb6d0a3-0bc8684c4e346d61b36d27764856e7b3:getPixels\n",
      "Please wait ...\n",
      "Data downloaded to /home/osboxes/Documents/MSc_thesis/data/l8/LC08_179073_20130621.tif\n",
      "\n",
      "\n",
      "Exporting 6/32: /home/osboxes/Documents/MSc_thesis/data/l8/LC08_179073_20130707.tif\n",
      "Generating URL ...\n",
      "Downloading data from https://earthengine.googleapis.com/v1/projects/earthengine-legacy/thumbnails/57f5b3cc6b7250fc4d5621a42483ebfa-d584d6951c69e56eb5c1e9147de61c26:getPixels\n",
      "Please wait ...\n",
      "Data downloaded to /home/osboxes/Documents/MSc_thesis/data/l8/LC08_179073_20130707.tif\n",
      "\n",
      "\n",
      "Exporting 7/32: /home/osboxes/Documents/MSc_thesis/data/l8/LC08_179073_20130723.tif\n",
      "Generating URL ...\n",
      "Downloading data from https://earthengine.googleapis.com/v1/projects/earthengine-legacy/thumbnails/41ab49f0e4a15bff39acb77e0b671672-36a9a3964b722d1531fb6dbde058674f:getPixels\n",
      "Please wait ...\n",
      "Data downloaded to /home/osboxes/Documents/MSc_thesis/data/l8/LC08_179073_20130723.tif\n",
      "\n",
      "\n",
      "Exporting 8/32: /home/osboxes/Documents/MSc_thesis/data/l8/LC08_179073_20130808.tif\n",
      "Generating URL ...\n",
      "Downloading data from https://earthengine.googleapis.com/v1/projects/earthengine-legacy/thumbnails/b2fee4e965929367532e50bacd74abf3-65b65277a6351104331bc607f7e5a57e:getPixels\n",
      "Please wait ...\n",
      "Data downloaded to /home/osboxes/Documents/MSc_thesis/data/l8/LC08_179073_20130808.tif\n",
      "\n",
      "\n",
      "Exporting 9/32: /home/osboxes/Documents/MSc_thesis/data/l8/LC08_179073_20130824.tif\n",
      "Generating URL ...\n",
      "Downloading data from https://earthengine.googleapis.com/v1/projects/earthengine-legacy/thumbnails/857aa073a3929d3a3a5b1076889e5811-a5abdbaa5220f838195538719d8cfbbe:getPixels\n",
      "Please wait ...\n",
      "Data downloaded to /home/osboxes/Documents/MSc_thesis/data/l8/LC08_179073_20130824.tif\n",
      "\n",
      "\n",
      "Exporting 10/32: /home/osboxes/Documents/MSc_thesis/data/l8/LC08_179073_20130909.tif\n",
      "Generating URL ...\n",
      "Downloading data from https://earthengine.googleapis.com/v1/projects/earthengine-legacy/thumbnails/5fbe2d1e0ff2707912bf56439d30c4d2-c32ddabc285a7a574ccf799bb32ec974:getPixels\n",
      "Please wait ...\n",
      "Data downloaded to /home/osboxes/Documents/MSc_thesis/data/l8/LC08_179073_20130909.tif\n",
      "\n",
      "\n",
      "Exporting 11/32: /home/osboxes/Documents/MSc_thesis/data/l8/LC08_179073_20130925.tif\n",
      "Generating URL ...\n",
      "Downloading data from https://earthengine.googleapis.com/v1/projects/earthengine-legacy/thumbnails/fedfee2e03e47a850074fa3e31c68f54-6e65a09c9c1c9cb8ad1d4cd09e3e9632:getPixels\n",
      "Please wait ...\n",
      "Data downloaded to /home/osboxes/Documents/MSc_thesis/data/l8/LC08_179073_20130925.tif\n",
      "\n",
      "\n",
      "Exporting 12/32: /home/osboxes/Documents/MSc_thesis/data/l8/LC08_179073_20131011.tif\n",
      "Generating URL ...\n",
      "Downloading data from https://earthengine.googleapis.com/v1/projects/earthengine-legacy/thumbnails/9060345b586f72a357db1e402228dc56-6f79d3c89592de80be08f71fd2adb6fd:getPixels\n",
      "Please wait ...\n",
      "Data downloaded to /home/osboxes/Documents/MSc_thesis/data/l8/LC08_179073_20131011.tif\n",
      "\n",
      "\n",
      "Exporting 13/32: /home/osboxes/Documents/MSc_thesis/data/l8/LC08_179073_20131112.tif\n",
      "Generating URL ...\n",
      "Downloading data from https://earthengine.googleapis.com/v1/projects/earthengine-legacy/thumbnails/e44bc611e0e267c2ba0234474d8a9178-45b6714cb8e817894f0d3a7b891e367a:getPixels\n",
      "Please wait ...\n",
      "Data downloaded to /home/osboxes/Documents/MSc_thesis/data/l8/LC08_179073_20131112.tif\n",
      "\n",
      "\n",
      "Exporting 14/32: /home/osboxes/Documents/MSc_thesis/data/l8/LC08_179073_20131128.tif\n",
      "Generating URL ...\n",
      "Downloading data from https://earthengine.googleapis.com/v1/projects/earthengine-legacy/thumbnails/b09d3f4de5a6cf9ffa6c9df028722bb8-4909e8998af184744cc59e9f35a0432e:getPixels\n",
      "Please wait ...\n",
      "Data downloaded to /home/osboxes/Documents/MSc_thesis/data/l8/LC08_179073_20131128.tif\n",
      "\n",
      "\n",
      "Exporting 15/32: /home/osboxes/Documents/MSc_thesis/data/l8/LC08_179073_20131214.tif\n",
      "Generating URL ...\n",
      "Downloading data from https://earthengine.googleapis.com/v1/projects/earthengine-legacy/thumbnails/afccbf5013a4283bf178b9cfd0ceb00b-df820afb185f51b7573f0f1d931b7291:getPixels\n",
      "Please wait ...\n",
      "Data downloaded to /home/osboxes/Documents/MSc_thesis/data/l8/LC08_179073_20131214.tif\n",
      "\n",
      "\n",
      "Exporting 16/32: /home/osboxes/Documents/MSc_thesis/data/l8/LC08_179073_20131230.tif\n",
      "Generating URL ...\n",
      "Downloading data from https://earthengine.googleapis.com/v1/projects/earthengine-legacy/thumbnails/9441edcf566fc1a9bcfecb13a9176230-a971bac98cd96f1bd35b2bc04fe1f5e7:getPixels\n",
      "Please wait ...\n",
      "Data downloaded to /home/osboxes/Documents/MSc_thesis/data/l8/LC08_179073_20131230.tif\n",
      "\n",
      "\n",
      "Exporting 17/32: /home/osboxes/Documents/MSc_thesis/data/l8/LC08_179073_20140115.tif\n",
      "Generating URL ...\n",
      "Downloading data from https://earthengine.googleapis.com/v1/projects/earthengine-legacy/thumbnails/66b3f1ead8d56f3659e898fc7d111472-6ae56ab06ec5a653fb4978c7da7de283:getPixels\n",
      "Please wait ...\n",
      "Data downloaded to /home/osboxes/Documents/MSc_thesis/data/l8/LC08_179073_20140115.tif\n",
      "\n",
      "\n",
      "Exporting 18/32: /home/osboxes/Documents/MSc_thesis/data/l8/LC08_179073_20140131.tif\n",
      "Generating URL ...\n",
      "Downloading data from https://earthengine.googleapis.com/v1/projects/earthengine-legacy/thumbnails/b5b40f5564fe6e9c02171dc8b9b55e4e-e08aa6aa25626148c6872f31378ed31f:getPixels\n",
      "Please wait ...\n",
      "Data downloaded to /home/osboxes/Documents/MSc_thesis/data/l8/LC08_179073_20140131.tif\n",
      "\n",
      "\n",
      "Exporting 19/32: /home/osboxes/Documents/MSc_thesis/data/l8/LC08_179073_20140216.tif\n",
      "Generating URL ...\n",
      "Downloading data from https://earthengine.googleapis.com/v1/projects/earthengine-legacy/thumbnails/53761a3269e4d029a62f3aa280c9682a-811c4e1f59faecbe268f2db7556ebdd2:getPixels\n",
      "Please wait ...\n",
      "Data downloaded to /home/osboxes/Documents/MSc_thesis/data/l8/LC08_179073_20140216.tif\n",
      "\n",
      "\n",
      "Exporting 20/32: /home/osboxes/Documents/MSc_thesis/data/l8/LC08_179073_20140320.tif\n",
      "Generating URL ...\n",
      "Downloading data from https://earthengine.googleapis.com/v1/projects/earthengine-legacy/thumbnails/86cbbb12ee8f2fb66f222b16320ff100-552502c7098dcab88f93928bde0a9d12:getPixels\n",
      "Please wait ...\n",
      "Data downloaded to /home/osboxes/Documents/MSc_thesis/data/l8/LC08_179073_20140320.tif\n",
      "\n",
      "\n",
      "Exporting 21/32: /home/osboxes/Documents/MSc_thesis/data/l8/LC08_179073_20140405.tif\n",
      "Generating URL ...\n",
      "Downloading data from https://earthengine.googleapis.com/v1/projects/earthengine-legacy/thumbnails/880bcd14910e866de2ca85f3ef25e60a-bfe78c9b82cf758b6e2521e80d7d1e99:getPixels\n",
      "Please wait ...\n",
      "Data downloaded to /home/osboxes/Documents/MSc_thesis/data/l8/LC08_179073_20140405.tif\n",
      "\n",
      "\n",
      "Exporting 22/32: /home/osboxes/Documents/MSc_thesis/data/l8/LC08_179073_20140421.tif\n",
      "Generating URL ...\n",
      "Downloading data from https://earthengine.googleapis.com/v1/projects/earthengine-legacy/thumbnails/22f89a192707ad419e8033bf48fa0a99-88fc2b70084a6e03aff56848e0fa9bc6:getPixels\n",
      "Please wait ...\n"
     ]
    },
    {
     "name": "stdout",
     "output_type": "stream",
     "text": [
      "Data downloaded to /home/osboxes/Documents/MSc_thesis/data/l8/LC08_179073_20140421.tif\n",
      "\n",
      "\n",
      "Exporting 23/32: /home/osboxes/Documents/MSc_thesis/data/l8/LC08_179073_20140507.tif\n",
      "Generating URL ...\n",
      "Downloading data from https://earthengine.googleapis.com/v1/projects/earthengine-legacy/thumbnails/80484241ab27a2079456d7d9128e4cd6-443d0fc15b62669925c9e033650aa90b:getPixels\n",
      "Please wait ...\n",
      "Data downloaded to /home/osboxes/Documents/MSc_thesis/data/l8/LC08_179073_20140507.tif\n",
      "\n",
      "\n",
      "Exporting 24/32: /home/osboxes/Documents/MSc_thesis/data/l8/LC08_179073_20140523.tif\n",
      "Generating URL ...\n",
      "Downloading data from https://earthengine.googleapis.com/v1/projects/earthengine-legacy/thumbnails/b1caf49d35c39427b648d102186e301e-32e003957b6e4b33528247063452469c:getPixels\n",
      "Please wait ...\n",
      "Data downloaded to /home/osboxes/Documents/MSc_thesis/data/l8/LC08_179073_20140523.tif\n",
      "\n",
      "\n",
      "Exporting 25/32: /home/osboxes/Documents/MSc_thesis/data/l8/LC08_179073_20140608.tif\n",
      "Generating URL ...\n",
      "Downloading data from https://earthengine.googleapis.com/v1/projects/earthengine-legacy/thumbnails/fe2b584fa04ff52afa7ba557e163e6ea-c54ce3420a495beb32b5dbabc2408192:getPixels\n",
      "Please wait ...\n",
      "Data downloaded to /home/osboxes/Documents/MSc_thesis/data/l8/LC08_179073_20140608.tif\n",
      "\n",
      "\n",
      "Exporting 26/32: /home/osboxes/Documents/MSc_thesis/data/l8/LC08_179073_20140624.tif\n",
      "Generating URL ...\n",
      "Downloading data from https://earthengine.googleapis.com/v1/projects/earthengine-legacy/thumbnails/421d02b34d412e8f7a76ae17bd0be037-9f12aa52511e04b5513451f55d898eaf:getPixels\n",
      "Please wait ...\n",
      "Data downloaded to /home/osboxes/Documents/MSc_thesis/data/l8/LC08_179073_20140624.tif\n",
      "\n",
      "\n",
      "Exporting 27/32: /home/osboxes/Documents/MSc_thesis/data/l8/LC08_179073_20140710.tif\n",
      "Generating URL ...\n",
      "Downloading data from https://earthengine.googleapis.com/v1/projects/earthengine-legacy/thumbnails/2d57b9ea1735dea831bca919dc12d2d4-7621cac4eb93b13fa3b284523e777080:getPixels\n",
      "Please wait ...\n",
      "Data downloaded to /home/osboxes/Documents/MSc_thesis/data/l8/LC08_179073_20140710.tif\n",
      "\n",
      "\n",
      "Exporting 28/32: /home/osboxes/Documents/MSc_thesis/data/l8/LC08_179073_20140726.tif\n",
      "Generating URL ...\n",
      "Downloading data from https://earthengine.googleapis.com/v1/projects/earthengine-legacy/thumbnails/dbd28622a21b99e8ed69e841efd9bc81-25d8bb1cc9cefc1f019213524ebca560:getPixels\n",
      "Please wait ...\n",
      "Data downloaded to /home/osboxes/Documents/MSc_thesis/data/l8/LC08_179073_20140726.tif\n",
      "\n",
      "\n",
      "Exporting 29/32: /home/osboxes/Documents/MSc_thesis/data/l8/LC08_179073_20140811.tif\n",
      "Generating URL ...\n",
      "Downloading data from https://earthengine.googleapis.com/v1/projects/earthengine-legacy/thumbnails/44dada47eabb4f120378c896004e923b-5e5be2b709fb934204f67a16b30a934b:getPixels\n",
      "Please wait ...\n",
      "Data downloaded to /home/osboxes/Documents/MSc_thesis/data/l8/LC08_179073_20140811.tif\n",
      "\n",
      "\n",
      "Exporting 30/32: /home/osboxes/Documents/MSc_thesis/data/l8/LC08_179073_20140827.tif\n",
      "Generating URL ...\n",
      "Downloading data from https://earthengine.googleapis.com/v1/projects/earthengine-legacy/thumbnails/0743aeb76649954849fc27a5a1f93d2b-f0b82494515255efc25430dacffda625:getPixels\n",
      "Please wait ...\n",
      "Data downloaded to /home/osboxes/Documents/MSc_thesis/data/l8/LC08_179073_20140827.tif\n",
      "\n",
      "\n",
      "Exporting 31/32: /home/osboxes/Documents/MSc_thesis/data/l8/LC08_179073_20140912.tif\n",
      "Generating URL ...\n",
      "Downloading data from https://earthengine.googleapis.com/v1/projects/earthengine-legacy/thumbnails/195e85119d295a37c9234b254fe613f7-98b7d589bed669c5a2d7e11ed30d650f:getPixels\n",
      "Please wait ...\n",
      "Data downloaded to /home/osboxes/Documents/MSc_thesis/data/l8/LC08_179073_20140912.tif\n",
      "\n",
      "\n",
      "Exporting 32/32: /home/osboxes/Documents/MSc_thesis/data/l8/LC08_179073_20140928.tif\n",
      "Generating URL ...\n",
      "Downloading data from https://earthengine.googleapis.com/v1/projects/earthengine-legacy/thumbnails/120b6ca5bb8b944092aee7d8a5dfb728-3e855088981e88a0baa26044f627edc0:getPixels\n",
      "Please wait ...\n",
      "Data downloaded to /home/osboxes/Documents/MSc_thesis/data/l8/LC08_179073_20140928.tif\n",
      "\n",
      "\n"
     ]
    }
   ],
   "source": [
    "# export Landsat image collection to local repository \n",
    "# source: https://github.com/gee-community/geemap/blob/master/examples/notebooks/11_export_image.ipynb\n",
    "geemap.ee_export_image_collection(l8_clipped, out_dir = out_dir_l8)"
   ]
  },
  {
   "cell_type": "code",
   "execution_count": 20,
   "id": "deaba1df",
   "metadata": {},
   "outputs": [
    {
     "data": {
      "text/html": [
       "\n",
       "            <style>\n",
       "                .geemap-dark {\n",
       "                    --jp-widgets-color: white;\n",
       "                    --jp-widgets-label-color: white;\n",
       "                    --jp-ui-font-color1: white;\n",
       "                    --jp-layout-color2: #454545;\n",
       "                    background-color: #383838;\n",
       "                }\n",
       "                    \n",
       "                .geemap-dark .jupyter-button {\n",
       "                    --jp-layout-color3: #383838;\n",
       "                }\n",
       "                \n",
       "                .geemap-colab {\n",
       "                    background-color: var(--colab-primary-surface-color, white);\n",
       "                }\n",
       "                    \n",
       "                .geemap-colab .jupyter-button {\n",
       "                    --jp-layout-color3: var(--colab-primary-surface-color, white);\n",
       "                }\n",
       "            </style>\n",
       "            "
      ],
      "text/plain": [
       "<IPython.core.display.HTML object>"
      ]
     },
     "metadata": {},
     "output_type": "display_data"
    },
    {
     "name": "stdout",
     "output_type": "stream",
     "text": [
      "Total number of images: 55\n",
      "\n",
      "Exporting 1/55: /home/osboxes/Documents/MSc_thesis/data/modis/cloudmasked/2014_01_04.tif\n",
      "Generating URL ...\n",
      "Downloading data from https://earthengine.googleapis.com/v1/projects/earthengine-legacy/thumbnails/36e3b9231d485662178df717e46af06a-bdec0a8e730360e8393f7575bde54375:getPixels\n",
      "Please wait ...\n",
      "Data downloaded to /home/osboxes/Documents/MSc_thesis/data/modis/cloudmasked/2014_01_04.tif\n",
      "\n",
      "\n",
      "Exporting 2/55: /home/osboxes/Documents/MSc_thesis/data/modis/cloudmasked/2014_01_05.tif\n",
      "Generating URL ...\n",
      "Downloading data from https://earthengine.googleapis.com/v1/projects/earthengine-legacy/thumbnails/97022eafd57185dfc6b2c9fbf9c4d449-668bbbbedbfe02648ac6d976ace4b429:getPixels\n",
      "Please wait ...\n",
      "Data downloaded to /home/osboxes/Documents/MSc_thesis/data/modis/cloudmasked/2014_01_05.tif\n",
      "\n",
      "\n",
      "Exporting 3/55: /home/osboxes/Documents/MSc_thesis/data/modis/cloudmasked/2014_01_06.tif\n",
      "Generating URL ...\n",
      "Downloading data from https://earthengine.googleapis.com/v1/projects/earthengine-legacy/thumbnails/6c2c9e2721e30fe041f3f40478d85425-0b432ac24e52cea325b403da53f7488f:getPixels\n",
      "Please wait ...\n",
      "Data downloaded to /home/osboxes/Documents/MSc_thesis/data/modis/cloudmasked/2014_01_06.tif\n",
      "\n",
      "\n",
      "Exporting 4/55: /home/osboxes/Documents/MSc_thesis/data/modis/cloudmasked/2014_01_07.tif\n",
      "Generating URL ...\n",
      "Downloading data from https://earthengine.googleapis.com/v1/projects/earthengine-legacy/thumbnails/eb5d963fe09ef4c6bb5556df072b8fc5-34daf5fb9b18753d037726a457b13bfd:getPixels\n",
      "Please wait ...\n",
      "Data downloaded to /home/osboxes/Documents/MSc_thesis/data/modis/cloudmasked/2014_01_07.tif\n",
      "\n",
      "\n",
      "Exporting 5/55: /home/osboxes/Documents/MSc_thesis/data/modis/cloudmasked/2014_01_08.tif\n",
      "Generating URL ...\n",
      "Downloading data from https://earthengine.googleapis.com/v1/projects/earthengine-legacy/thumbnails/91a7c8b228a00f1a080a92527f89417e-bf7416183c2b85116c57cfb67793f98e:getPixels\n",
      "Please wait ...\n",
      "Data downloaded to /home/osboxes/Documents/MSc_thesis/data/modis/cloudmasked/2014_01_08.tif\n",
      "\n",
      "\n",
      "Exporting 6/55: /home/osboxes/Documents/MSc_thesis/data/modis/cloudmasked/2014_01_09.tif\n",
      "Generating URL ...\n",
      "Downloading data from https://earthengine.googleapis.com/v1/projects/earthengine-legacy/thumbnails/e981ede12dd899adfe93fb1c16e5a251-8cf46718daa0419fea7c11e48d337720:getPixels\n",
      "Please wait ...\n",
      "Data downloaded to /home/osboxes/Documents/MSc_thesis/data/modis/cloudmasked/2014_01_09.tif\n",
      "\n",
      "\n",
      "Exporting 7/55: /home/osboxes/Documents/MSc_thesis/data/modis/cloudmasked/2014_01_10.tif\n",
      "Generating URL ...\n",
      "Downloading data from https://earthengine.googleapis.com/v1/projects/earthengine-legacy/thumbnails/a062b554a93dc9e8862876ec581b2262-2a3ed7418550789068c5f39b890f6280:getPixels\n",
      "Please wait ...\n",
      "Data downloaded to /home/osboxes/Documents/MSc_thesis/data/modis/cloudmasked/2014_01_10.tif\n",
      "\n",
      "\n",
      "Exporting 8/55: /home/osboxes/Documents/MSc_thesis/data/modis/cloudmasked/2014_01_11.tif\n",
      "Generating URL ...\n",
      "Downloading data from https://earthengine.googleapis.com/v1/projects/earthengine-legacy/thumbnails/c43c6688a1a4224bb57a1bcee5fb5051-e6d4f1d6930563665910d79ce19c8c5a:getPixels\n",
      "Please wait ...\n",
      "Data downloaded to /home/osboxes/Documents/MSc_thesis/data/modis/cloudmasked/2014_01_11.tif\n",
      "\n",
      "\n",
      "Exporting 9/55: /home/osboxes/Documents/MSc_thesis/data/modis/cloudmasked/2014_01_12.tif\n",
      "Generating URL ...\n",
      "Downloading data from https://earthengine.googleapis.com/v1/projects/earthengine-legacy/thumbnails/c96ccf34c7352d1fc237cd4ddb2965b6-9f02c6e5480b5158874ac59653c5cef2:getPixels\n",
      "Please wait ...\n",
      "Data downloaded to /home/osboxes/Documents/MSc_thesis/data/modis/cloudmasked/2014_01_12.tif\n",
      "\n",
      "\n",
      "Exporting 10/55: /home/osboxes/Documents/MSc_thesis/data/modis/cloudmasked/2014_01_13.tif\n",
      "Generating URL ...\n",
      "Downloading data from https://earthengine.googleapis.com/v1/projects/earthengine-legacy/thumbnails/fa73e64e684c22c6904d1fc6a61d832c-2f820bd55c2632b516b7ee84ddc2c692:getPixels\n",
      "Please wait ...\n",
      "Data downloaded to /home/osboxes/Documents/MSc_thesis/data/modis/cloudmasked/2014_01_13.tif\n",
      "\n",
      "\n",
      "Exporting 11/55: /home/osboxes/Documents/MSc_thesis/data/modis/cloudmasked/2014_01_14.tif\n",
      "Generating URL ...\n",
      "Downloading data from https://earthengine.googleapis.com/v1/projects/earthengine-legacy/thumbnails/81c1007fa6ba9438fdb96e1ac6e43500-bddf05398366756c1b50563290c3f17c:getPixels\n",
      "Please wait ...\n",
      "Data downloaded to /home/osboxes/Documents/MSc_thesis/data/modis/cloudmasked/2014_01_14.tif\n",
      "\n",
      "\n",
      "Exporting 12/55: /home/osboxes/Documents/MSc_thesis/data/modis/cloudmasked/2014_01_15.tif\n",
      "Generating URL ...\n",
      "Downloading data from https://earthengine.googleapis.com/v1/projects/earthengine-legacy/thumbnails/f3fa927a2830da0e9533993ccfd8e7e2-09997e73536a0e2f27aba145bc8b1c36:getPixels\n",
      "Please wait ...\n",
      "Data downloaded to /home/osboxes/Documents/MSc_thesis/data/modis/cloudmasked/2014_01_15.tif\n",
      "\n",
      "\n",
      "Exporting 13/55: /home/osboxes/Documents/MSc_thesis/data/modis/cloudmasked/2014_01_16.tif\n",
      "Generating URL ...\n",
      "Downloading data from https://earthengine.googleapis.com/v1/projects/earthengine-legacy/thumbnails/d49bc64c26e671f880fb6aa672e9e657-eb42494e6c49cdbd7d398746f7a74822:getPixels\n",
      "Please wait ...\n",
      "Data downloaded to /home/osboxes/Documents/MSc_thesis/data/modis/cloudmasked/2014_01_16.tif\n",
      "\n",
      "\n",
      "Exporting 14/55: /home/osboxes/Documents/MSc_thesis/data/modis/cloudmasked/2014_01_17.tif\n",
      "Generating URL ...\n",
      "Downloading data from https://earthengine.googleapis.com/v1/projects/earthengine-legacy/thumbnails/073cacd958dc09a2e033facba1622cbe-766dac29e6b296378defdab29bc3c683:getPixels\n",
      "Please wait ...\n",
      "Data downloaded to /home/osboxes/Documents/MSc_thesis/data/modis/cloudmasked/2014_01_17.tif\n",
      "\n",
      "\n",
      "Exporting 15/55: /home/osboxes/Documents/MSc_thesis/data/modis/cloudmasked/2014_01_18.tif\n",
      "Generating URL ...\n",
      "Downloading data from https://earthengine.googleapis.com/v1/projects/earthengine-legacy/thumbnails/e9d27a34c93477af9a50248182d63fbc-734c8b79823ea131814ee8ca76436f53:getPixels\n",
      "Please wait ...\n",
      "Data downloaded to /home/osboxes/Documents/MSc_thesis/data/modis/cloudmasked/2014_01_18.tif\n",
      "\n",
      "\n",
      "Exporting 16/55: /home/osboxes/Documents/MSc_thesis/data/modis/cloudmasked/2014_01_19.tif\n",
      "Generating URL ...\n",
      "Downloading data from https://earthengine.googleapis.com/v1/projects/earthengine-legacy/thumbnails/3548442ded3645819ca24c1e93579d45-6d1166b4266b548ee0d5bd5b036fc2e3:getPixels\n",
      "Please wait ...\n",
      "Data downloaded to /home/osboxes/Documents/MSc_thesis/data/modis/cloudmasked/2014_01_19.tif\n",
      "\n",
      "\n",
      "Exporting 17/55: /home/osboxes/Documents/MSc_thesis/data/modis/cloudmasked/2014_01_20.tif\n",
      "Generating URL ...\n",
      "Downloading data from https://earthengine.googleapis.com/v1/projects/earthengine-legacy/thumbnails/14cc0f0c234089eb1a04ea1d92d29e89-383c157ec688e194da0775590e436c77:getPixels\n",
      "Please wait ...\n",
      "Data downloaded to /home/osboxes/Documents/MSc_thesis/data/modis/cloudmasked/2014_01_20.tif\n",
      "\n",
      "\n",
      "Exporting 18/55: /home/osboxes/Documents/MSc_thesis/data/modis/cloudmasked/2014_01_21.tif\n",
      "Generating URL ...\n",
      "Downloading data from https://earthengine.googleapis.com/v1/projects/earthengine-legacy/thumbnails/b667eba144d785d951bd03b872df787b-3f8056e2b7aa864220ba7f713445bfb2:getPixels\n",
      "Please wait ...\n",
      "Data downloaded to /home/osboxes/Documents/MSc_thesis/data/modis/cloudmasked/2014_01_21.tif\n",
      "\n",
      "\n",
      "Exporting 19/55: /home/osboxes/Documents/MSc_thesis/data/modis/cloudmasked/2014_01_22.tif\n",
      "Generating URL ...\n",
      "Downloading data from https://earthengine.googleapis.com/v1/projects/earthengine-legacy/thumbnails/260d60c7ec74b7806ace3ac370d7a694-d7267187db06ddd7db6bea0682280b1b:getPixels\n",
      "Please wait ...\n",
      "Data downloaded to /home/osboxes/Documents/MSc_thesis/data/modis/cloudmasked/2014_01_22.tif\n",
      "\n",
      "\n",
      "Exporting 20/55: /home/osboxes/Documents/MSc_thesis/data/modis/cloudmasked/2014_01_23.tif\n",
      "Generating URL ...\n",
      "Downloading data from https://earthengine.googleapis.com/v1/projects/earthengine-legacy/thumbnails/d3625f284786d90ffa6be88422e18237-3e6246c93ba39c179131b8af69c25cb1:getPixels\n",
      "Please wait ...\n",
      "Data downloaded to /home/osboxes/Documents/MSc_thesis/data/modis/cloudmasked/2014_01_23.tif\n",
      "\n",
      "\n",
      "Exporting 21/55: /home/osboxes/Documents/MSc_thesis/data/modis/cloudmasked/2014_01_24.tif\n",
      "Generating URL ...\n",
      "Downloading data from https://earthengine.googleapis.com/v1/projects/earthengine-legacy/thumbnails/f2eaad53ffe834d851bf8232e9237931-95738e0d4a11780a20bc24608885bd9d:getPixels\n",
      "Please wait ...\n",
      "Data downloaded to /home/osboxes/Documents/MSc_thesis/data/modis/cloudmasked/2014_01_24.tif\n",
      "\n",
      "\n",
      "Exporting 22/55: /home/osboxes/Documents/MSc_thesis/data/modis/cloudmasked/2014_01_25.tif\n",
      "Generating URL ...\n",
      "Downloading data from https://earthengine.googleapis.com/v1/projects/earthengine-legacy/thumbnails/1e53e63124534c532f780ea5a2df5802-befe8ec30c6db542023cfa2cb128b70d:getPixels\n",
      "Please wait ...\n",
      "Data downloaded to /home/osboxes/Documents/MSc_thesis/data/modis/cloudmasked/2014_01_25.tif\n",
      "\n",
      "\n",
      "Exporting 23/55: /home/osboxes/Documents/MSc_thesis/data/modis/cloudmasked/2014_01_26.tif\n",
      "Generating URL ...\n",
      "Downloading data from https://earthengine.googleapis.com/v1/projects/earthengine-legacy/thumbnails/f3304a7357ec9b7c57786ab8067b2bab-64830ff5218366a45b2a4de2633a0d53:getPixels\n",
      "Please wait ...\n",
      "Data downloaded to /home/osboxes/Documents/MSc_thesis/data/modis/cloudmasked/2014_01_26.tif\n",
      "\n",
      "\n",
      "Exporting 24/55: /home/osboxes/Documents/MSc_thesis/data/modis/cloudmasked/2014_01_27.tif\n",
      "Generating URL ...\n",
      "Downloading data from https://earthengine.googleapis.com/v1/projects/earthengine-legacy/thumbnails/7719d04a7c7dd1c9b07b0dae8f6e8499-4ce91a150e468e0e06b063203c1062c7:getPixels\n",
      "Please wait ...\n",
      "Data downloaded to /home/osboxes/Documents/MSc_thesis/data/modis/cloudmasked/2014_01_27.tif\n",
      "\n",
      "\n",
      "Exporting 25/55: /home/osboxes/Documents/MSc_thesis/data/modis/cloudmasked/2014_01_28.tif\n",
      "Generating URL ...\n",
      "Downloading data from https://earthengine.googleapis.com/v1/projects/earthengine-legacy/thumbnails/c721800f816ea0955cafcef6aa70800a-aef3f95dd0d063815cad20d633c2ccfa:getPixels\n",
      "Please wait ...\n",
      "Data downloaded to /home/osboxes/Documents/MSc_thesis/data/modis/cloudmasked/2014_01_28.tif\n",
      "\n",
      "\n",
      "Exporting 26/55: /home/osboxes/Documents/MSc_thesis/data/modis/cloudmasked/2014_01_29.tif\n",
      "Generating URL ...\n",
      "Downloading data from https://earthengine.googleapis.com/v1/projects/earthengine-legacy/thumbnails/46739baf85e31edd9115fb71ba218e44-2841c945b3c4e4d23b4548afb48ecb6f:getPixels\n",
      "Please wait ...\n",
      "Data downloaded to /home/osboxes/Documents/MSc_thesis/data/modis/cloudmasked/2014_01_29.tif\n",
      "\n",
      "\n",
      "Exporting 27/55: /home/osboxes/Documents/MSc_thesis/data/modis/cloudmasked/2014_01_30.tif\n",
      "Generating URL ...\n",
      "Downloading data from https://earthengine.googleapis.com/v1/projects/earthengine-legacy/thumbnails/3b73c24d3a0afaa175d0bd440ac7ec8b-1ceb07a400a53398627996ff700b5d46:getPixels\n",
      "Please wait ...\n",
      "Data downloaded to /home/osboxes/Documents/MSc_thesis/data/modis/cloudmasked/2014_01_30.tif\n",
      "\n",
      "\n",
      "Exporting 28/55: /home/osboxes/Documents/MSc_thesis/data/modis/cloudmasked/2014_01_31.tif\n",
      "Generating URL ...\n",
      "Downloading data from https://earthengine.googleapis.com/v1/projects/earthengine-legacy/thumbnails/57f989840da46494da861c34a3f5c6f3-6b6fb3fbdcb3ba6c756a5e1c1131e504:getPixels\n",
      "Please wait ...\n",
      "Data downloaded to /home/osboxes/Documents/MSc_thesis/data/modis/cloudmasked/2014_01_31.tif\n",
      "\n",
      "\n",
      "Exporting 29/55: /home/osboxes/Documents/MSc_thesis/data/modis/cloudmasked/2014_02_01.tif\n",
      "Generating URL ...\n",
      "Downloading data from https://earthengine.googleapis.com/v1/projects/earthengine-legacy/thumbnails/eb71ea5407e79c9c31037970c636a4eb-eac44425f4322e0830650e30e39f5272:getPixels\n",
      "Please wait ...\n",
      "Data downloaded to /home/osboxes/Documents/MSc_thesis/data/modis/cloudmasked/2014_02_01.tif\n",
      "\n",
      "\n",
      "Exporting 30/55: /home/osboxes/Documents/MSc_thesis/data/modis/cloudmasked/2014_02_02.tif\n",
      "Generating URL ...\n",
      "Downloading data from https://earthengine.googleapis.com/v1/projects/earthengine-legacy/thumbnails/929ce123b5090802e3ec2d1092f57ff4-e5a2a44ec7b11f63ef7eba2e90f0c8ed:getPixels\n",
      "Please wait ...\n",
      "Data downloaded to /home/osboxes/Documents/MSc_thesis/data/modis/cloudmasked/2014_02_02.tif\n",
      "\n",
      "\n",
      "Exporting 31/55: /home/osboxes/Documents/MSc_thesis/data/modis/cloudmasked/2014_02_03.tif\n",
      "Generating URL ...\n",
      "Downloading data from https://earthengine.googleapis.com/v1/projects/earthengine-legacy/thumbnails/2caf9effddb2e3b820990003ae8df4af-5f5c395ef98ec5c85b90c44e2a90d16e:getPixels\n",
      "Please wait ...\n",
      "Data downloaded to /home/osboxes/Documents/MSc_thesis/data/modis/cloudmasked/2014_02_03.tif\n",
      "\n",
      "\n",
      "Exporting 32/55: /home/osboxes/Documents/MSc_thesis/data/modis/cloudmasked/2014_02_04.tif\n",
      "Generating URL ...\n",
      "Downloading data from https://earthengine.googleapis.com/v1/projects/earthengine-legacy/thumbnails/327aa94ab04a863e25ffebbcdd50abd7-ae0572eb7a194cdb0a47f982ab8fbe83:getPixels\n",
      "Please wait ...\n",
      "Data downloaded to /home/osboxes/Documents/MSc_thesis/data/modis/cloudmasked/2014_02_04.tif\n",
      "\n",
      "\n",
      "Exporting 33/55: /home/osboxes/Documents/MSc_thesis/data/modis/cloudmasked/2014_02_05.tif\n",
      "Generating URL ...\n",
      "Downloading data from https://earthengine.googleapis.com/v1/projects/earthengine-legacy/thumbnails/72dbbe21244171d69b38b2a9345ae6fe-822c25f3ddbecd58076920986c7cd712:getPixels\n",
      "Please wait ...\n",
      "Data downloaded to /home/osboxes/Documents/MSc_thesis/data/modis/cloudmasked/2014_02_05.tif\n",
      "\n",
      "\n",
      "Exporting 34/55: /home/osboxes/Documents/MSc_thesis/data/modis/cloudmasked/2014_02_06.tif\n",
      "Generating URL ...\n",
      "Downloading data from https://earthengine.googleapis.com/v1/projects/earthengine-legacy/thumbnails/09454993d84c94284003f15cd4dfe4a0-e578a7116d25e6e490fa112e08919c53:getPixels\n",
      "Please wait ...\n",
      "Data downloaded to /home/osboxes/Documents/MSc_thesis/data/modis/cloudmasked/2014_02_06.tif\n",
      "\n",
      "\n",
      "Exporting 35/55: /home/osboxes/Documents/MSc_thesis/data/modis/cloudmasked/2014_02_07.tif\n",
      "Generating URL ...\n",
      "Downloading data from https://earthengine.googleapis.com/v1/projects/earthengine-legacy/thumbnails/619c63e7ee8154b9b870763e3c187c8d-a484c335d62f778fcd64d9f96114a66a:getPixels\n",
      "Please wait ...\n",
      "Data downloaded to /home/osboxes/Documents/MSc_thesis/data/modis/cloudmasked/2014_02_07.tif\n",
      "\n",
      "\n",
      "Exporting 36/55: /home/osboxes/Documents/MSc_thesis/data/modis/cloudmasked/2014_02_08.tif\n",
      "Generating URL ...\n",
      "Downloading data from https://earthengine.googleapis.com/v1/projects/earthengine-legacy/thumbnails/ccde26aaaa12fe43e82f957dbbc18231-0f0a42dc5246ce44307bfab800856593:getPixels\n",
      "Please wait ...\n",
      "Data downloaded to /home/osboxes/Documents/MSc_thesis/data/modis/cloudmasked/2014_02_08.tif\n",
      "\n",
      "\n",
      "Exporting 37/55: /home/osboxes/Documents/MSc_thesis/data/modis/cloudmasked/2014_02_09.tif\n",
      "Generating URL ...\n",
      "Downloading data from https://earthengine.googleapis.com/v1/projects/earthengine-legacy/thumbnails/0986bf1bc03cba8dc000ddb0ddedc9ff-67b4960cc490ceccab3cee765d48618c:getPixels\n",
      "Please wait ...\n",
      "Data downloaded to /home/osboxes/Documents/MSc_thesis/data/modis/cloudmasked/2014_02_09.tif\n",
      "\n",
      "\n",
      "Exporting 38/55: /home/osboxes/Documents/MSc_thesis/data/modis/cloudmasked/2014_02_10.tif\n",
      "Generating URL ...\n",
      "Downloading data from https://earthengine.googleapis.com/v1/projects/earthengine-legacy/thumbnails/f5bdc178f35329db7dce9889f2784e73-7edbc84ba76acae21a61c5890919d28d:getPixels\n",
      "Please wait ...\n",
      "Data downloaded to /home/osboxes/Documents/MSc_thesis/data/modis/cloudmasked/2014_02_10.tif\n",
      "\n",
      "\n",
      "Exporting 39/55: /home/osboxes/Documents/MSc_thesis/data/modis/cloudmasked/2014_02_11.tif\n",
      "Generating URL ...\n",
      "Downloading data from https://earthengine.googleapis.com/v1/projects/earthengine-legacy/thumbnails/b4860b32be9ced317bde1469b308d707-c15f0b2e1e572b403681b2008b1db183:getPixels\n",
      "Please wait ...\n",
      "Data downloaded to /home/osboxes/Documents/MSc_thesis/data/modis/cloudmasked/2014_02_11.tif\n",
      "\n",
      "\n",
      "Exporting 40/55: /home/osboxes/Documents/MSc_thesis/data/modis/cloudmasked/2014_02_12.tif\n",
      "Generating URL ...\n",
      "Downloading data from https://earthengine.googleapis.com/v1/projects/earthengine-legacy/thumbnails/c4bb1a17972e8740559ef99784b70e71-2478e627d13a4f1ddfb2145d2eef6a50:getPixels\n",
      "Please wait ...\n",
      "Data downloaded to /home/osboxes/Documents/MSc_thesis/data/modis/cloudmasked/2014_02_12.tif\n",
      "\n",
      "\n",
      "Exporting 41/55: /home/osboxes/Documents/MSc_thesis/data/modis/cloudmasked/2014_02_13.tif\n",
      "Generating URL ...\n",
      "Downloading data from https://earthengine.googleapis.com/v1/projects/earthengine-legacy/thumbnails/9e8ad8ff9d5c815c1db0bfd69c21c4da-8a204185c8f14c437ec54ecf56c67b12:getPixels\n",
      "Please wait ...\n",
      "Data downloaded to /home/osboxes/Documents/MSc_thesis/data/modis/cloudmasked/2014_02_13.tif\n",
      "\n",
      "\n",
      "Exporting 42/55: /home/osboxes/Documents/MSc_thesis/data/modis/cloudmasked/2014_02_14.tif\n",
      "Generating URL ...\n",
      "Downloading data from https://earthengine.googleapis.com/v1/projects/earthengine-legacy/thumbnails/0d875945dc15fee9e1b9d150157d2536-da5b0b6ae6d0cc5df5090b39d4a3295e:getPixels\n",
      "Please wait ...\n",
      "Data downloaded to /home/osboxes/Documents/MSc_thesis/data/modis/cloudmasked/2014_02_14.tif\n",
      "\n",
      "\n",
      "Exporting 43/55: /home/osboxes/Documents/MSc_thesis/data/modis/cloudmasked/2014_02_15.tif\n",
      "Generating URL ...\n",
      "Downloading data from https://earthengine.googleapis.com/v1/projects/earthengine-legacy/thumbnails/b56508a26407c0856b954d885324dc21-202c35816ed0fafc94c579a70435f64b:getPixels\n",
      "Please wait ...\n",
      "Data downloaded to /home/osboxes/Documents/MSc_thesis/data/modis/cloudmasked/2014_02_15.tif\n",
      "\n",
      "\n",
      "Exporting 44/55: /home/osboxes/Documents/MSc_thesis/data/modis/cloudmasked/2014_02_16.tif\n",
      "Generating URL ...\n",
      "Downloading data from https://earthengine.googleapis.com/v1/projects/earthengine-legacy/thumbnails/3ab492f378b87d718bbbc5144650cd72-d4f9a97af39352d3c3501ad2d4893e57:getPixels\n",
      "Please wait ...\n",
      "Data downloaded to /home/osboxes/Documents/MSc_thesis/data/modis/cloudmasked/2014_02_16.tif\n",
      "\n",
      "\n",
      "Exporting 45/55: /home/osboxes/Documents/MSc_thesis/data/modis/cloudmasked/2014_02_17.tif\n",
      "Generating URL ...\n",
      "Downloading data from https://earthengine.googleapis.com/v1/projects/earthengine-legacy/thumbnails/0c7a9bc5c9ea196cdcdb672259a27d7e-6daae517cdb3f50174ff63f57516f6fe:getPixels\n",
      "Please wait ...\n",
      "Data downloaded to /home/osboxes/Documents/MSc_thesis/data/modis/cloudmasked/2014_02_17.tif\n",
      "\n",
      "\n",
      "Exporting 46/55: /home/osboxes/Documents/MSc_thesis/data/modis/cloudmasked/2014_02_18.tif\n",
      "Generating URL ...\n",
      "Downloading data from https://earthengine.googleapis.com/v1/projects/earthengine-legacy/thumbnails/774cbc5c01f0049a6ad443fd9fa32b10-a61964818d5ab8049b8586b543206918:getPixels\n",
      "Please wait ...\n",
      "Data downloaded to /home/osboxes/Documents/MSc_thesis/data/modis/cloudmasked/2014_02_18.tif\n",
      "\n",
      "\n",
      "Exporting 47/55: /home/osboxes/Documents/MSc_thesis/data/modis/cloudmasked/2014_02_19.tif\n",
      "Generating URL ...\n",
      "Downloading data from https://earthengine.googleapis.com/v1/projects/earthengine-legacy/thumbnails/f39695dfc50c81ef602cc17bb14d2b7b-2a7060ca88781f65a68e418fcb317045:getPixels\n",
      "Please wait ...\n",
      "Data downloaded to /home/osboxes/Documents/MSc_thesis/data/modis/cloudmasked/2014_02_19.tif\n",
      "\n",
      "\n",
      "Exporting 48/55: /home/osboxes/Documents/MSc_thesis/data/modis/cloudmasked/2014_02_20.tif\n",
      "Generating URL ...\n",
      "Downloading data from https://earthengine.googleapis.com/v1/projects/earthengine-legacy/thumbnails/8a76a8418b4916c5c8354e2ff6b85f45-b023b69e8f6f43f98d89171ad4681f7b:getPixels\n",
      "Please wait ...\n",
      "Data downloaded to /home/osboxes/Documents/MSc_thesis/data/modis/cloudmasked/2014_02_20.tif\n",
      "\n",
      "\n",
      "Exporting 49/55: /home/osboxes/Documents/MSc_thesis/data/modis/cloudmasked/2014_02_21.tif\n",
      "Generating URL ...\n",
      "Downloading data from https://earthengine.googleapis.com/v1/projects/earthengine-legacy/thumbnails/f06b6d2e84c4b0aa04421422ffcb0618-6c0f104ec3ae8a7f946f35c87c464121:getPixels\n",
      "Please wait ...\n",
      "Data downloaded to /home/osboxes/Documents/MSc_thesis/data/modis/cloudmasked/2014_02_21.tif\n",
      "\n",
      "\n",
      "Exporting 50/55: /home/osboxes/Documents/MSc_thesis/data/modis/cloudmasked/2014_02_22.tif\n",
      "Generating URL ...\n",
      "Downloading data from https://earthengine.googleapis.com/v1/projects/earthengine-legacy/thumbnails/ea46b24c7f458c7303530555a337a15d-15361362bcecdfadd75fb02ab547d716:getPixels\n",
      "Please wait ...\n",
      "Data downloaded to /home/osboxes/Documents/MSc_thesis/data/modis/cloudmasked/2014_02_22.tif\n",
      "\n",
      "\n",
      "Exporting 51/55: /home/osboxes/Documents/MSc_thesis/data/modis/cloudmasked/2014_02_23.tif\n",
      "Generating URL ...\n",
      "Downloading data from https://earthengine.googleapis.com/v1/projects/earthengine-legacy/thumbnails/36fe3bece62fbbde65c096ca2a5eda3d-602ca973152c6bd95d169e5bae2b4d6a:getPixels\n",
      "Please wait ...\n",
      "Data downloaded to /home/osboxes/Documents/MSc_thesis/data/modis/cloudmasked/2014_02_23.tif\n",
      "\n",
      "\n",
      "Exporting 52/55: /home/osboxes/Documents/MSc_thesis/data/modis/cloudmasked/2014_02_24.tif\n",
      "Generating URL ...\n",
      "Downloading data from https://earthengine.googleapis.com/v1/projects/earthengine-legacy/thumbnails/fde096c35f30b1cfdc77bd15dd7ac13a-fb94b837c08ad8e202cbfffb873304fb:getPixels\n",
      "Please wait ...\n",
      "Data downloaded to /home/osboxes/Documents/MSc_thesis/data/modis/cloudmasked/2014_02_24.tif\n",
      "\n",
      "\n",
      "Exporting 53/55: /home/osboxes/Documents/MSc_thesis/data/modis/cloudmasked/2014_02_25.tif\n",
      "Generating URL ...\n",
      "Downloading data from https://earthengine.googleapis.com/v1/projects/earthengine-legacy/thumbnails/f51937a0da2041ae39c40902a27e5aba-7ea76e1b58cfb4dfb279e60761c5788a:getPixels\n",
      "Please wait ...\n",
      "Data downloaded to /home/osboxes/Documents/MSc_thesis/data/modis/cloudmasked/2014_02_25.tif\n",
      "\n",
      "\n",
      "Exporting 54/55: /home/osboxes/Documents/MSc_thesis/data/modis/cloudmasked/2014_02_26.tif\n",
      "Generating URL ...\n",
      "Downloading data from https://earthengine.googleapis.com/v1/projects/earthengine-legacy/thumbnails/acf0a129b7b7f0368dcd084fd7b1b7a0-9c5e7c1d9b216fbf21f22af48f0d33a6:getPixels\n",
      "Please wait ...\n",
      "Data downloaded to /home/osboxes/Documents/MSc_thesis/data/modis/cloudmasked/2014_02_26.tif\n",
      "\n",
      "\n",
      "Exporting 55/55: /home/osboxes/Documents/MSc_thesis/data/modis/cloudmasked/2014_02_27.tif\n",
      "Generating URL ...\n",
      "Downloading data from https://earthengine.googleapis.com/v1/projects/earthengine-legacy/thumbnails/4902303075aa5ec862d8b46abbaf0d30-d80e278ff5bf08e22069ac43c80e01ec:getPixels\n",
      "Please wait ...\n",
      "Data downloaded to /home/osboxes/Documents/MSc_thesis/data/modis/cloudmasked/2014_02_27.tif\n",
      "\n",
      "\n"
     ]
    }
   ],
   "source": [
    "# export MODIS image collection to local repository \n",
    "# source: https://github.com/gee-community/geemap/blob/master/examples/notebooks/11_export_image.ipynb\n",
    "geemap.ee_export_image_collection(modis_clipped, out_dir = out_dir_m)"
   ]
  }
 ],
 "metadata": {
  "kernelspec": {
   "display_name": "Python 3 (ipykernel)",
   "language": "python",
   "name": "python3"
  },
  "language_info": {
   "codemirror_mode": {
    "name": "ipython",
    "version": 3
   },
   "file_extension": ".py",
   "mimetype": "text/x-python",
   "name": "python",
   "nbconvert_exporter": "python",
   "pygments_lexer": "ipython3",
   "version": "3.10.13"
  }
 },
 "nbformat": 4,
 "nbformat_minor": 5
}
