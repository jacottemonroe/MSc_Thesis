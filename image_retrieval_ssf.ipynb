{
 "cells": [
  {
   "cell_type": "markdown",
   "id": "f0db397b",
   "metadata": {},
   "source": [
    "# MSc Thesis \n",
    "# Jacotte Monroe"
   ]
  },
  {
   "cell_type": "markdown",
   "id": "5651d372",
   "metadata": {},
   "source": [
    "Code that retrieves automatically the MODIS scenes for each day of elephant steps. "
   ]
  },
  {
   "cell_type": "markdown",
   "id": "31ba570c",
   "metadata": {},
   "source": [
    "## Importing and initializing "
   ]
  },
  {
   "cell_type": "code",
   "execution_count": 4,
   "id": "62484cf2-4f91-4a44-99f6-b5799adb6595",
   "metadata": {},
   "outputs": [
    {
     "data": {
      "text/html": [
       "\n",
       "            <style>\n",
       "                .geemap-dark {\n",
       "                    --jp-widgets-color: white;\n",
       "                    --jp-widgets-label-color: white;\n",
       "                    --jp-ui-font-color1: white;\n",
       "                    --jp-layout-color2: #454545;\n",
       "                    background-color: #383838;\n",
       "                }\n",
       "                    \n",
       "                .geemap-dark .jupyter-button {\n",
       "                    --jp-layout-color3: #383838;\n",
       "                }\n",
       "                \n",
       "                .geemap-colab {\n",
       "                    background-color: var(--colab-primary-surface-color, white);\n",
       "                }\n",
       "                    \n",
       "                .geemap-colab .jupyter-button {\n",
       "                    --jp-layout-color3: var(--colab-primary-surface-color, white);\n",
       "                }\n",
       "            </style>\n",
       "            "
      ],
      "text/plain": [
       "<IPython.core.display.HTML object>"
      ]
     },
     "metadata": {},
     "output_type": "display_data"
    },
    {
     "data": {
      "text/plain": [
       "True"
      ]
     },
     "execution_count": 4,
     "metadata": {},
     "output_type": "execute_result"
    }
   ],
   "source": [
    "import ee\n",
    "ee.Authenticate()"
   ]
  },
  {
   "cell_type": "code",
   "execution_count": 5,
   "id": "7753d218",
   "metadata": {},
   "outputs": [
    {
     "data": {
      "text/html": [
       "\n",
       "            <style>\n",
       "                .geemap-dark {\n",
       "                    --jp-widgets-color: white;\n",
       "                    --jp-widgets-label-color: white;\n",
       "                    --jp-ui-font-color1: white;\n",
       "                    --jp-layout-color2: #454545;\n",
       "                    background-color: #383838;\n",
       "                }\n",
       "                    \n",
       "                .geemap-dark .jupyter-button {\n",
       "                    --jp-layout-color3: #383838;\n",
       "                }\n",
       "                \n",
       "                .geemap-colab {\n",
       "                    background-color: var(--colab-primary-surface-color, white);\n",
       "                }\n",
       "                    \n",
       "                .geemap-colab .jupyter-button {\n",
       "                    --jp-layout-color3: var(--colab-primary-surface-color, white);\n",
       "                }\n",
       "            </style>\n",
       "            "
      ],
      "text/plain": [
       "<IPython.core.display.HTML object>"
      ]
     },
     "metadata": {},
     "output_type": "display_data"
    }
   ],
   "source": [
    "import geemap\n",
    "import os\n",
    "import pandas as pd\n",
    "import math \n",
    "\n",
    "ee.Initialize()"
   ]
  },
  {
   "cell_type": "markdown",
   "id": "f5d05ec0",
   "metadata": {},
   "source": [
    "## Set-up"
   ]
  },
  {
   "cell_type": "code",
   "execution_count": 6,
   "id": "d5988387",
   "metadata": {},
   "outputs": [
    {
     "data": {
      "text/html": [
       "\n",
       "            <style>\n",
       "                .geemap-dark {\n",
       "                    --jp-widgets-color: white;\n",
       "                    --jp-widgets-label-color: white;\n",
       "                    --jp-ui-font-color1: white;\n",
       "                    --jp-layout-color2: #454545;\n",
       "                    background-color: #383838;\n",
       "                }\n",
       "                    \n",
       "                .geemap-dark .jupyter-button {\n",
       "                    --jp-layout-color3: #383838;\n",
       "                }\n",
       "                \n",
       "                .geemap-colab {\n",
       "                    background-color: var(--colab-primary-surface-color, white);\n",
       "                }\n",
       "                    \n",
       "                .geemap-colab .jupyter-button {\n",
       "                    --jp-layout-color3: var(--colab-primary-surface-color, white);\n",
       "                }\n",
       "            </style>\n",
       "            "
      ],
      "text/plain": [
       "<IPython.core.display.HTML object>"
      ]
     },
     "metadata": {},
     "output_type": "display_data"
    }
   ],
   "source": [
    "# load Etosha National Park study area\n",
    "enp = ee.FeatureCollection('WCMC/WDPA/current/polygons') \\\n",
    "        .filter(ee.Filter.eq('ORIG_NAME', 'Etosha'))\n",
    "\n",
    "# turn ENP study area into a geometry\n",
    "enp_geom = enp.geometry()"
   ]
  },
  {
   "cell_type": "code",
   "execution_count": 7,
   "id": "44d48b54",
   "metadata": {},
   "outputs": [
    {
     "data": {
      "text/html": [
       "\n",
       "            <style>\n",
       "                .geemap-dark {\n",
       "                    --jp-widgets-color: white;\n",
       "                    --jp-widgets-label-color: white;\n",
       "                    --jp-ui-font-color1: white;\n",
       "                    --jp-layout-color2: #454545;\n",
       "                    background-color: #383838;\n",
       "                }\n",
       "                    \n",
       "                .geemap-dark .jupyter-button {\n",
       "                    --jp-layout-color3: #383838;\n",
       "                }\n",
       "                \n",
       "                .geemap-colab {\n",
       "                    background-color: var(--colab-primary-surface-color, white);\n",
       "                }\n",
       "                    \n",
       "                .geemap-colab .jupyter-button {\n",
       "                    --jp-layout-color3: var(--colab-primary-surface-color, white);\n",
       "                }\n",
       "            </style>\n",
       "            "
      ],
      "text/plain": [
       "<IPython.core.display.HTML object>"
      ]
     },
     "metadata": {},
     "output_type": "display_data"
    }
   ],
   "source": [
    "# load extent look up table \n",
    "extents_lut = pd.read_csv('data/step_extents/LA2_step_ex_w2027.csv')"
   ]
  },
  {
   "cell_type": "code",
   "execution_count": 8,
   "id": "81750ee4-fdec-410f-9257-c71fb514167e",
   "metadata": {},
   "outputs": [
    {
     "data": {
      "text/html": [
       "\n",
       "            <style>\n",
       "                .geemap-dark {\n",
       "                    --jp-widgets-color: white;\n",
       "                    --jp-widgets-label-color: white;\n",
       "                    --jp-ui-font-color1: white;\n",
       "                    --jp-layout-color2: #454545;\n",
       "                    background-color: #383838;\n",
       "                }\n",
       "                    \n",
       "                .geemap-dark .jupyter-button {\n",
       "                    --jp-layout-color3: #383838;\n",
       "                }\n",
       "                \n",
       "                .geemap-colab {\n",
       "                    background-color: var(--colab-primary-surface-color, white);\n",
       "                }\n",
       "                    \n",
       "                .geemap-colab .jupyter-button {\n",
       "                    --jp-layout-color3: var(--colab-primary-surface-color, white);\n",
       "                }\n",
       "            </style>\n",
       "            "
      ],
      "text/plain": [
       "<IPython.core.display.HTML object>"
      ]
     },
     "metadata": {},
     "output_type": "display_data"
    }
   ],
   "source": [
    "# create large extent = region geometry \n",
    "\n",
    "large_extent = extents_lut.iloc[-1]\n",
    "\n",
    "large_extent_coords = [[[large_extent.loc['xmin'], large_extent.loc['ymin']],\n",
    "                        [large_extent.loc['xmin'], large_extent.loc['ymax']], \n",
    "                        [large_extent.loc['xmax'], large_extent.loc['ymin']], \n",
    "                        [large_extent.loc['xmax'], large_extent.loc['ymax']]]]\n",
    "\n",
    "large_region = ee.Geometry.Polygon(large_extent_coords, proj = 'EPSG:32733', evenOdd = False)\n",
    "\n",
    "first_date = ee.Date(large_extent.loc['start_date_prev_week'], 'Africa/Maputo')\n",
    "last_date = ee.Date(large_extent.loc['end_date'], 'Africa/Maputo')"
   ]
  },
  {
   "cell_type": "code",
   "execution_count": 9,
   "id": "76f6993b-caa9-4147-8508-9a2ea27ff9fe",
   "metadata": {},
   "outputs": [
    {
     "data": {
      "text/html": [
       "\n",
       "            <style>\n",
       "                .geemap-dark {\n",
       "                    --jp-widgets-color: white;\n",
       "                    --jp-widgets-label-color: white;\n",
       "                    --jp-ui-font-color1: white;\n",
       "                    --jp-layout-color2: #454545;\n",
       "                    background-color: #383838;\n",
       "                }\n",
       "                    \n",
       "                .geemap-dark .jupyter-button {\n",
       "                    --jp-layout-color3: #383838;\n",
       "                }\n",
       "                \n",
       "                .geemap-colab {\n",
       "                    background-color: var(--colab-primary-surface-color, white);\n",
       "                }\n",
       "                    \n",
       "                .geemap-colab .jupyter-button {\n",
       "                    --jp-layout-color3: var(--colab-primary-surface-color, white);\n",
       "                }\n",
       "            </style>\n",
       "            "
      ],
      "text/plain": [
       "<IPython.core.display.HTML object>"
      ]
     },
     "metadata": {},
     "output_type": "display_data"
    }
   ],
   "source": [
    "# set time-window for interpolation (how far will interpolate)\n",
    "# source: https://spatialthoughts.com/2021/11/08/temporal-interpolation-gee/\n",
    "days = ee.Number(10) \n",
    "\n",
    "# convert to milliseconds (for gap filling step)\n",
    "millis = days.multiply(1000*60*60*24)"
   ]
  },
  {
   "cell_type": "code",
   "execution_count": 10,
   "id": "88920f40",
   "metadata": {},
   "outputs": [
    {
     "data": {
      "text/html": [
       "\n",
       "            <style>\n",
       "                .geemap-dark {\n",
       "                    --jp-widgets-color: white;\n",
       "                    --jp-widgets-label-color: white;\n",
       "                    --jp-ui-font-color1: white;\n",
       "                    --jp-layout-color2: #454545;\n",
       "                    background-color: #383838;\n",
       "                }\n",
       "                    \n",
       "                .geemap-dark .jupyter-button {\n",
       "                    --jp-layout-color3: #383838;\n",
       "                }\n",
       "                \n",
       "                .geemap-colab {\n",
       "                    background-color: var(--colab-primary-surface-color, white);\n",
       "                }\n",
       "                    \n",
       "                .geemap-colab .jupyter-button {\n",
       "                    --jp-layout-color3: var(--colab-primary-surface-color, white);\n",
       "                }\n",
       "            </style>\n",
       "            "
      ],
      "text/plain": [
       "<IPython.core.display.HTML object>"
      ]
     },
     "metadata": {},
     "output_type": "display_data"
    }
   ],
   "source": [
    "# get output folder paths for current MODIS images and images from week prior\n",
    "# source: https://github.com/gee-community/geemap/blob/master/examples/notebooks/11_export_image.ipynb\n",
    "out_dir = os.path.join(os.path.expanduser('~'), 'Documents/MSc_Thesis/data/modis_ssf')\n",
    "#out_dir_lag = os.path.join(os.path.expanduser('~'), 'Documents/MSc_Thesis/data/modis_ssf/lag')"
   ]
  },
  {
   "cell_type": "markdown",
   "id": "eacfdcd4-fe02-43b0-9b39-13f584661a27",
   "metadata": {},
   "source": [
    "### MODIS Datasets"
   ]
  },
  {
   "cell_type": "code",
   "execution_count": 11,
   "id": "a6946b4f-75e1-472d-b3e5-6bdf37314e5b",
   "metadata": {},
   "outputs": [
    {
     "data": {
      "text/html": [
       "\n",
       "            <style>\n",
       "                .geemap-dark {\n",
       "                    --jp-widgets-color: white;\n",
       "                    --jp-widgets-label-color: white;\n",
       "                    --jp-ui-font-color1: white;\n",
       "                    --jp-layout-color2: #454545;\n",
       "                    background-color: #383838;\n",
       "                }\n",
       "                    \n",
       "                .geemap-dark .jupyter-button {\n",
       "                    --jp-layout-color3: #383838;\n",
       "                }\n",
       "                \n",
       "                .geemap-colab {\n",
       "                    background-color: var(--colab-primary-surface-color, white);\n",
       "                }\n",
       "                    \n",
       "                .geemap-colab .jupyter-button {\n",
       "                    --jp-layout-color3: var(--colab-primary-surface-color, white);\n",
       "                }\n",
       "            </style>\n",
       "            "
      ],
      "text/plain": [
       "<IPython.core.display.HTML object>"
      ]
     },
     "metadata": {},
     "output_type": "display_data"
    }
   ],
   "source": [
    "# import MODIS 250m dataset \n",
    "# take larger time range to include images for gap filling of cloudmasked pixels \n",
    "# source: https://developers.google.com/earth-engine/apidocs/ee-date-advance#colab-python\n",
    "modis_250 = ee.ImageCollection('MODIS/061/MOD09GQ') \\\n",
    "        .filterDate(first_date.advance(days.multiply(-1), 'day'), last_date.advance(days, 'day')) \\\n",
    "        .filterBounds(enp_geom)\n",
    "\n",
    "# import MODIS 500m dataset (contains information for cloudmasking)\n",
    "modis_500 = ee.ImageCollection('MODIS/006/MOD09GA') \\\n",
    "        .filterDate(first_date.advance(days.multiply(-1), 'day'), last_date.advance(days, 'day'))  \\\n",
    "        .filterBounds(enp_geom)"
   ]
  },
  {
   "cell_type": "code",
   "execution_count": 12,
   "id": "564a61ac-85cd-4d47-ac11-493cdbe35b39",
   "metadata": {},
   "outputs": [
    {
     "data": {
      "text/html": [
       "\n",
       "            <style>\n",
       "                .geemap-dark {\n",
       "                    --jp-widgets-color: white;\n",
       "                    --jp-widgets-label-color: white;\n",
       "                    --jp-ui-font-color1: white;\n",
       "                    --jp-layout-color2: #454545;\n",
       "                    background-color: #383838;\n",
       "                }\n",
       "                    \n",
       "                .geemap-dark .jupyter-button {\n",
       "                    --jp-layout-color3: #383838;\n",
       "                }\n",
       "                \n",
       "                .geemap-colab {\n",
       "                    background-color: var(--colab-primary-surface-color, white);\n",
       "                }\n",
       "                    \n",
       "                .geemap-colab .jupyter-button {\n",
       "                    --jp-layout-color3: var(--colab-primary-surface-color, white);\n",
       "                }\n",
       "            </style>\n",
       "            "
      ],
      "text/plain": [
       "<IPython.core.display.HTML object>"
      ]
     },
     "metadata": {},
     "output_type": "display_data"
    }
   ],
   "source": [
    "# combine datasets\n",
    "# pixel with certain MODIS 500m value can be selected for MODIS 250m \n",
    "# source: https://gis.stackexchange.com/questions/308456/get-a-mask-for-modis-250m-mod09gq-using-modis-500m-mod09ga-in-google-earth\n",
    "modis_combined = modis_500.combine(modis_250)\n",
    "\n",
    "# new name of MODIS 250m bands (to avoid having two of similar name)\n",
    "modisBands = ['sur_refl_b01_1', 'sur_refl_b02_1']\n",
    "renamedBands = ['red', 'nir']"
   ]
  },
  {
   "cell_type": "markdown",
   "id": "94474ae3",
   "metadata": {},
   "source": [
    "## Functions"
   ]
  },
  {
   "cell_type": "code",
   "execution_count": 13,
   "id": "46c92a75-fb7c-42e8-a769-3c6319d25c90",
   "metadata": {},
   "outputs": [
    {
     "data": {
      "text/html": [
       "\n",
       "            <style>\n",
       "                .geemap-dark {\n",
       "                    --jp-widgets-color: white;\n",
       "                    --jp-widgets-label-color: white;\n",
       "                    --jp-ui-font-color1: white;\n",
       "                    --jp-layout-color2: #454545;\n",
       "                    background-color: #383838;\n",
       "                }\n",
       "                    \n",
       "                .geemap-dark .jupyter-button {\n",
       "                    --jp-layout-color3: #383838;\n",
       "                }\n",
       "                \n",
       "                .geemap-colab {\n",
       "                    background-color: var(--colab-primary-surface-color, white);\n",
       "                }\n",
       "                    \n",
       "                .geemap-colab .jupyter-button {\n",
       "                    --jp-layout-color3: var(--colab-primary-surface-color, white);\n",
       "                }\n",
       "            </style>\n",
       "            "
      ],
      "text/plain": [
       "<IPython.core.display.HTML object>"
      ]
     },
     "metadata": {},
     "output_type": "display_data"
    }
   ],
   "source": [
    "# function to extract and combined relevant QA band bits/flags \n",
    "# source: https://mygeoblog.com/2017/09/08/modis-cloud-masking/\n",
    "def getQABits(image, start_bit, end_bit, band_name):\n",
    "    pattern = 0\n",
    "    \n",
    "    # for each bit/flag of the QA band --> assign new value to its bits \n",
    "    # so each flag will have a different value and the pixel will be the sum of all flags \n",
    "    for i in range(start_bit, end_bit):\n",
    "        pattern += math.pow(2,i)\n",
    "    # return single band image of extracted QA bits\n",
    "    # source: https://developers.google.com/earth-engine/apidocs/ee-image-bitwiseand\n",
    "    return image.select([0], [band_name]) \\\n",
    "                .bitwiseAnd(pattern) \\\n",
    "                .rightShift(start_bit)\n",
    "    "
   ]
  },
  {
   "cell_type": "code",
   "execution_count": 14,
   "id": "f40ba57d-710f-4ec7-87de-0e02fb5585ab",
   "metadata": {},
   "outputs": [
    {
     "data": {
      "text/html": [
       "\n",
       "            <style>\n",
       "                .geemap-dark {\n",
       "                    --jp-widgets-color: white;\n",
       "                    --jp-widgets-label-color: white;\n",
       "                    --jp-ui-font-color1: white;\n",
       "                    --jp-layout-color2: #454545;\n",
       "                    background-color: #383838;\n",
       "                }\n",
       "                    \n",
       "                .geemap-dark .jupyter-button {\n",
       "                    --jp-layout-color3: #383838;\n",
       "                }\n",
       "                \n",
       "                .geemap-colab {\n",
       "                    background-color: var(--colab-primary-surface-color, white);\n",
       "                }\n",
       "                    \n",
       "                .geemap-colab .jupyter-button {\n",
       "                    --jp-layout-color3: var(--colab-primary-surface-color, white);\n",
       "                }\n",
       "            </style>\n",
       "            "
      ],
      "text/plain": [
       "<IPython.core.display.HTML object>"
      ]
     },
     "metadata": {},
     "output_type": "display_data"
    }
   ],
   "source": [
    "# function to mask out cloudy pixels \n",
    "# source: https://gis.stackexchange.com/questions/308456/get-a-mask-for-modis-250m-mod09gq-using-modis-500m-mod09ga-in-google-earth\n",
    "# source: https://mygeoblog.com/2017/09/08/modis-cloud-masking/\n",
    "def maskClouds(image):\n",
    "    # selects the MODIS 500m QA band \n",
    "    QA = image.select('state_1km')\n",
    "\n",
    "    # creates a cloud&shadow flag from specified bits --> in this case: 'Cloud state' and 'Cloud shadow'\n",
    "    pixelQuality = getQABits(QA, 0, 2, 'cloud_and_shadow_quality_flag')\n",
    "\n",
    "    # returns image masking out cloudy pixels \n",
    "    return image.updateMask(pixelQuality.eq(0))"
   ]
  },
  {
   "cell_type": "code",
   "execution_count": 15,
   "id": "50dab794-03dc-4300-b25e-5d9acbb1263f",
   "metadata": {},
   "outputs": [
    {
     "data": {
      "text/html": [
       "\n",
       "            <style>\n",
       "                .geemap-dark {\n",
       "                    --jp-widgets-color: white;\n",
       "                    --jp-widgets-label-color: white;\n",
       "                    --jp-ui-font-color1: white;\n",
       "                    --jp-layout-color2: #454545;\n",
       "                    background-color: #383838;\n",
       "                }\n",
       "                    \n",
       "                .geemap-dark .jupyter-button {\n",
       "                    --jp-layout-color3: #383838;\n",
       "                }\n",
       "                \n",
       "                .geemap-colab {\n",
       "                    background-color: var(--colab-primary-surface-color, white);\n",
       "                }\n",
       "                    \n",
       "                .geemap-colab .jupyter-button {\n",
       "                    --jp-layout-color3: var(--colab-primary-surface-color, white);\n",
       "                }\n",
       "            </style>\n",
       "            "
      ],
      "text/plain": [
       "<IPython.core.display.HTML object>"
      ]
     },
     "metadata": {},
     "output_type": "display_data"
    }
   ],
   "source": [
    "# function to add timestamp band to image\n",
    "# source: https://spatialthoughts.com/2021/11/08/temporal-interpolation-gee/\n",
    "def addTimestamp(image): \n",
    "    # create new image where pixel value = time of original image\n",
    "    timeImage = image.metadata('system:time_start').rename('timestamp')\n",
    "\n",
    "    # mask new time image with original image to remove cloudmasked pixels\n",
    "    timeImageMasked = timeImage.updateMask(image.mask().select(0))\n",
    "\n",
    "    # return original image with time image as new band \n",
    "    return image.addBands(timeImageMasked)"
   ]
  },
  {
   "cell_type": "code",
   "execution_count": 16,
   "id": "0f4b93d2-261c-4ace-bb2e-56a87d1fe90f",
   "metadata": {},
   "outputs": [
    {
     "data": {
      "text/html": [
       "\n",
       "            <style>\n",
       "                .geemap-dark {\n",
       "                    --jp-widgets-color: white;\n",
       "                    --jp-widgets-label-color: white;\n",
       "                    --jp-ui-font-color1: white;\n",
       "                    --jp-layout-color2: #454545;\n",
       "                    background-color: #383838;\n",
       "                }\n",
       "                    \n",
       "                .geemap-dark .jupyter-button {\n",
       "                    --jp-layout-color3: #383838;\n",
       "                }\n",
       "                \n",
       "                .geemap-colab {\n",
       "                    background-color: var(--colab-primary-surface-color, white);\n",
       "                }\n",
       "                    \n",
       "                .geemap-colab .jupyter-button {\n",
       "                    --jp-layout-color3: var(--colab-primary-surface-color, white);\n",
       "                }\n",
       "            </style>\n",
       "            "
      ],
      "text/plain": [
       "<IPython.core.display.HTML object>"
      ]
     },
     "metadata": {},
     "output_type": "display_data"
    }
   ],
   "source": [
    "# function that takes image and replaces masked pixels with linearly interpolated values from bef/aft images\n",
    "def interpolateImage(image):\n",
    "    image = ee.Image(image)\n",
    "\n",
    "    # get list of before/after images from image property\n",
    "    beforeImages = ee.List(image.get('before'))\n",
    "    afterImages = ee.List(image.get('after'))\n",
    "\n",
    "    # create image collection of before/after images\n",
    "    # mosaic() combines images into one image accordint to their position in collection \n",
    "    #  image first has all pixels from last image in collection \n",
    "    #  gaps filled with second to last image from collection ...\n",
    "    beforeMosaic = ee.ImageCollection.fromImages(beforeImages).mosaic()\n",
    "    afterMosaic = ee.ImageCollection.fromImages(afterImages).mosaic()\n",
    "\n",
    "    # rename time band of images \n",
    "    time_bef = beforeMosaic.select('timestamp').rename('time_bef')\n",
    "    time_aft = afterMosaic.select('timestamp').rename('time_aft')\n",
    "    time0 = image.metadata('system:time_start').rename('time0')\n",
    "\n",
    "    # combine all three single band time images into one image with three time bands \n",
    "    timeImage = ee.Image.cat([time_bef, time_aft, time0])\n",
    "\n",
    "    # compute image of interpolated surface reflectance values \n",
    "    timeRatio = timeImage.expression('(time0 - time_bef) / (time_aft - time_bef)', \\\n",
    "                    {'time0': timeImage.select('time0'), \n",
    "                     'time_bef': timeImage.select('time_bef'), \n",
    "                     'time_aft': timeImage.select('time_aft')})\n",
    "\n",
    "    interpolated = beforeMosaic.add((afterMosaic.subtract(beforeMosaic).multiply(timeRatio)))\n",
    "\n",
    "    # replace masked pixels in current image with pixels from interpolated mosaic\n",
    "    result = image.unmask(interpolated)\n",
    "\n",
    "    # return gap-filled image\n",
    "    return result.copyProperties(image, ['system:time_start'])"
   ]
  },
  {
   "cell_type": "code",
   "execution_count": 18,
   "id": "0e27b3e3",
   "metadata": {},
   "outputs": [
    {
     "data": {
      "text/html": [
       "\n",
       "            <style>\n",
       "                .geemap-dark {\n",
       "                    --jp-widgets-color: white;\n",
       "                    --jp-widgets-label-color: white;\n",
       "                    --jp-ui-font-color1: white;\n",
       "                    --jp-layout-color2: #454545;\n",
       "                    background-color: #383838;\n",
       "                }\n",
       "                    \n",
       "                .geemap-dark .jupyter-button {\n",
       "                    --jp-layout-color3: #383838;\n",
       "                }\n",
       "                \n",
       "                .geemap-colab {\n",
       "                    background-color: var(--colab-primary-surface-color, white);\n",
       "                }\n",
       "                    \n",
       "                .geemap-colab .jupyter-button {\n",
       "                    --jp-layout-color3: var(--colab-primary-surface-color, white);\n",
       "                }\n",
       "            </style>\n",
       "            "
      ],
      "text/plain": [
       "<IPython.core.display.HTML object>"
      ]
     },
     "metadata": {},
     "output_type": "display_data"
    }
   ],
   "source": [
    "# function to reproject (elephant fixes reprojected from 4326 to 32733 same needs to be done to images) \n",
    "def reprojectModis(image):\n",
    "    return image.reproject('EPSG:32733', None, 250)\n"
   ]
  },
  {
   "cell_type": "code",
   "execution_count": 17,
   "id": "d4bca1b3",
   "metadata": {},
   "outputs": [
    {
     "data": {
      "text/html": [
       "\n",
       "            <style>\n",
       "                .geemap-dark {\n",
       "                    --jp-widgets-color: white;\n",
       "                    --jp-widgets-label-color: white;\n",
       "                    --jp-ui-font-color1: white;\n",
       "                    --jp-layout-color2: #454545;\n",
       "                    background-color: #383838;\n",
       "                }\n",
       "                    \n",
       "                .geemap-dark .jupyter-button {\n",
       "                    --jp-layout-color3: #383838;\n",
       "                }\n",
       "                \n",
       "                .geemap-colab {\n",
       "                    background-color: var(--colab-primary-surface-color, white);\n",
       "                }\n",
       "                    \n",
       "                .geemap-colab .jupyter-button {\n",
       "                    --jp-layout-color3: var(--colab-primary-surface-color, white);\n",
       "                }\n",
       "            </style>\n",
       "            "
      ],
      "text/plain": [
       "<IPython.core.display.HTML object>"
      ]
     },
     "metadata": {},
     "output_type": "display_data"
    }
   ],
   "source": [
    "# function to clip image to study area\n",
    "def clipToAOI(image): \n",
    "    result = image.clip(bbox)\n",
    "    return result.copyProperties(image, ['system:id'])"
   ]
  },
  {
   "cell_type": "code",
   "execution_count": 27,
   "id": "69221a53-e424-4bc0-8eb9-9efe3582409f",
   "metadata": {},
   "outputs": [
    {
     "data": {
      "text/html": [
       "\n",
       "            <style>\n",
       "                .geemap-dark {\n",
       "                    --jp-widgets-color: white;\n",
       "                    --jp-widgets-label-color: white;\n",
       "                    --jp-ui-font-color1: white;\n",
       "                    --jp-layout-color2: #454545;\n",
       "                    background-color: #383838;\n",
       "                }\n",
       "                    \n",
       "                .geemap-dark .jupyter-button {\n",
       "                    --jp-layout-color3: #383838;\n",
       "                }\n",
       "                \n",
       "                .geemap-colab {\n",
       "                    background-color: var(--colab-primary-surface-color, white);\n",
       "                }\n",
       "                    \n",
       "                .geemap-colab .jupyter-button {\n",
       "                    --jp-layout-color3: var(--colab-primary-surface-color, white);\n",
       "                }\n",
       "            </style>\n",
       "            "
      ],
      "text/plain": [
       "<IPython.core.display.HTML object>"
      ]
     },
     "metadata": {},
     "output_type": "display_data"
    }
   ],
   "source": [
    "# function to calculate NDVI \n",
    "def addNDVI(image): \n",
    "    ndvi = image.normalizedDifference(['nir', 'red']).rename('NDVI')\n",
    "    return image.addBands(ndvi)"
   ]
  },
  {
   "cell_type": "markdown",
   "id": "b5883619-2fd0-4a2e-a807-d15ec9f45a2b",
   "metadata": {},
   "source": [
    "## Mask Clouds and Cloud Shadows "
   ]
  },
  {
   "cell_type": "code",
   "execution_count": 20,
   "id": "190fab7a-f353-4314-ab41-7c5eef8a67d2",
   "metadata": {},
   "outputs": [
    {
     "data": {
      "text/html": [
       "\n",
       "            <style>\n",
       "                .geemap-dark {\n",
       "                    --jp-widgets-color: white;\n",
       "                    --jp-widgets-label-color: white;\n",
       "                    --jp-ui-font-color1: white;\n",
       "                    --jp-layout-color2: #454545;\n",
       "                    background-color: #383838;\n",
       "                }\n",
       "                    \n",
       "                .geemap-dark .jupyter-button {\n",
       "                    --jp-layout-color3: #383838;\n",
       "                }\n",
       "                \n",
       "                .geemap-colab {\n",
       "                    background-color: var(--colab-primary-surface-color, white);\n",
       "                }\n",
       "                    \n",
       "                .geemap-colab .jupyter-button {\n",
       "                    --jp-layout-color3: var(--colab-primary-surface-color, white);\n",
       "                }\n",
       "            </style>\n",
       "            "
      ],
      "text/plain": [
       "<IPython.core.display.HTML object>"
      ]
     },
     "metadata": {},
     "output_type": "display_data"
    }
   ],
   "source": [
    "# create cloud free MODIS 250m dataset \n",
    "# source: https://mygeoblog.com/2017/09/08/modis-cloud-masking/ \n",
    "# source: https://gis.stackexchange.com/questions/308456/get-a-mask-for-modis-250m-mod09gq-using-modis-500m-mod09ga-in-google-earth\n",
    "\n",
    "modis_cloudFree = modis_combined.map(maskClouds).select(modisBands, renamedBands)"
   ]
  },
  {
   "cell_type": "markdown",
   "id": "9b0835dc-17c7-40c1-aefe-011cf1623b45",
   "metadata": {},
   "source": [
    "## Gap Filling - Linear Interpolation "
   ]
  },
  {
   "cell_type": "code",
   "execution_count": 21,
   "id": "132b1617-a29e-4d1b-9f08-c6d0b9026594",
   "metadata": {},
   "outputs": [
    {
     "data": {
      "text/html": [
       "\n",
       "            <style>\n",
       "                .geemap-dark {\n",
       "                    --jp-widgets-color: white;\n",
       "                    --jp-widgets-label-color: white;\n",
       "                    --jp-ui-font-color1: white;\n",
       "                    --jp-layout-color2: #454545;\n",
       "                    background-color: #383838;\n",
       "                }\n",
       "                    \n",
       "                .geemap-dark .jupyter-button {\n",
       "                    --jp-layout-color3: #383838;\n",
       "                }\n",
       "                \n",
       "                .geemap-colab {\n",
       "                    background-color: var(--colab-primary-surface-color, white);\n",
       "                }\n",
       "                    \n",
       "                .geemap-colab .jupyter-button {\n",
       "                    --jp-layout-color3: var(--colab-primary-surface-color, white);\n",
       "                }\n",
       "            </style>\n",
       "            "
      ],
      "text/plain": [
       "<IPython.core.display.HTML object>"
      ]
     },
     "metadata": {},
     "output_type": "display_data"
    }
   ],
   "source": [
    "# add timestamp band to each image \n",
    "modis_cloudFree_withTime = modis_cloudFree.map(addTimestamp)"
   ]
  },
  {
   "cell_type": "code",
   "execution_count": 22,
   "id": "807ed4a1-f41e-4a32-8306-43741abc48fc",
   "metadata": {},
   "outputs": [
    {
     "data": {
      "text/html": [
       "\n",
       "            <style>\n",
       "                .geemap-dark {\n",
       "                    --jp-widgets-color: white;\n",
       "                    --jp-widgets-label-color: white;\n",
       "                    --jp-ui-font-color1: white;\n",
       "                    --jp-layout-color2: #454545;\n",
       "                    background-color: #383838;\n",
       "                }\n",
       "                    \n",
       "                .geemap-dark .jupyter-button {\n",
       "                    --jp-layout-color3: #383838;\n",
       "                }\n",
       "                \n",
       "                .geemap-colab {\n",
       "                    background-color: var(--colab-primary-surface-color, white);\n",
       "                }\n",
       "                    \n",
       "                .geemap-colab .jupyter-button {\n",
       "                    --jp-layout-color3: var(--colab-primary-surface-color, white);\n",
       "                }\n",
       "            </style>\n",
       "            "
      ],
      "text/plain": [
       "<IPython.core.display.HTML object>"
      ]
     },
     "metadata": {},
     "output_type": "display_data"
    }
   ],
   "source": [
    "# following tutorial: https://spatialthoughts.com/2021/11/08/temporal-interpolation-gee/\n",
    "# define filter to only retrieve images within the specified time-window\n",
    "maxDiffFilter = ee.Filter.maxDifference(difference = millis, \n",
    "                                        leftField = 'system:time_start', \n",
    "                                        rightField = 'system:time_start')\n",
    "\n",
    "# define filters that compare given image timestamp against other image timestamps\n",
    "# NOTE: leftField compared against rightField --> so in first filter = leftField smaller than rightField\n",
    "greaterEqFilter = ee.Filter.greaterThanOrEquals(leftField = 'system:time_start', \n",
    "                                                rightField = 'system:time_start')\n",
    "\n",
    "lessEqFilter = ee.Filter.lessThanOrEquals(leftField = 'system:time_start', \n",
    "                                          rightField = 'system:time_start')\n",
    "\n",
    "# combined filters --> find all images before/after image that are within time-window\n",
    "filter_before = ee.Filter.And(maxDiffFilter, greaterEqFilter)\n",
    "filter_after = ee.Filter.And(maxDiffFilter, lessEqFilter)\n"
   ]
  },
  {
   "cell_type": "code",
   "execution_count": 23,
   "id": "39569e15-6b36-4e29-8234-0882f84c2c6a",
   "metadata": {},
   "outputs": [
    {
     "data": {
      "text/html": [
       "\n",
       "            <style>\n",
       "                .geemap-dark {\n",
       "                    --jp-widgets-color: white;\n",
       "                    --jp-widgets-label-color: white;\n",
       "                    --jp-ui-font-color1: white;\n",
       "                    --jp-layout-color2: #454545;\n",
       "                    background-color: #383838;\n",
       "                }\n",
       "                    \n",
       "                .geemap-dark .jupyter-button {\n",
       "                    --jp-layout-color3: #383838;\n",
       "                }\n",
       "                \n",
       "                .geemap-colab {\n",
       "                    background-color: var(--colab-primary-surface-color, white);\n",
       "                }\n",
       "                    \n",
       "                .geemap-colab .jupyter-button {\n",
       "                    --jp-layout-color3: var(--colab-primary-surface-color, white);\n",
       "                }\n",
       "            </style>\n",
       "            "
      ],
      "text/plain": [
       "<IPython.core.display.HTML object>"
      ]
     },
     "metadata": {},
     "output_type": "display_data"
    }
   ],
   "source": [
    "# set join parameters\n",
    "# pairs each image to group of matching elements from the second collection \n",
    "# saves the matching elements as new property with matchesKey name, ordered by date\n",
    "# order set to have the closest image as last element in list\n",
    "# source: https://spatialthoughts.com/2021/11/08/temporal-interpolation-gee/\n",
    "# source: https://developers.google.com/earth-engine/apidocs/ee-join-saveall\n",
    "join_before = ee.Join.saveAll(\n",
    "    matchesKey = 'before', \n",
    "    ordering = 'system:time_start', \n",
    "    ascending = True)\n",
    "\n",
    "join_after = ee.Join.saveAll(\n",
    "    matchesKey = 'after', \n",
    "    ordering = 'system:time_start', \n",
    "    ascending = False)"
   ]
  },
  {
   "cell_type": "code",
   "execution_count": 25,
   "id": "703f3347-750f-4559-a277-dabfd88cc11a",
   "metadata": {},
   "outputs": [
    {
     "data": {
      "text/html": [
       "\n",
       "            <style>\n",
       "                .geemap-dark {\n",
       "                    --jp-widgets-color: white;\n",
       "                    --jp-widgets-label-color: white;\n",
       "                    --jp-ui-font-color1: white;\n",
       "                    --jp-layout-color2: #454545;\n",
       "                    background-color: #383838;\n",
       "                }\n",
       "                    \n",
       "                .geemap-dark .jupyter-button {\n",
       "                    --jp-layout-color3: #383838;\n",
       "                }\n",
       "                \n",
       "                .geemap-colab {\n",
       "                    background-color: var(--colab-primary-surface-color, white);\n",
       "                }\n",
       "                    \n",
       "                .geemap-colab .jupyter-button {\n",
       "                    --jp-layout-color3: var(--colab-primary-surface-color, white);\n",
       "                }\n",
       "            </style>\n",
       "            "
      ],
      "text/plain": [
       "<IPython.core.display.HTML object>"
      ]
     },
     "metadata": {},
     "output_type": "display_data"
    }
   ],
   "source": [
    "# join the cloudfree MODIS 250m collection with itself to get all previous/post images within time-window\n",
    "# results in image collection where each image has a property that lists all images preceeding/following image within time-window\n",
    "# source: https://spatialthoughts.com/2021/11/08/temporal-interpolation-gee/\n",
    "modis_joined_temp = join_before.apply(\n",
    "    primary = modis_cloudFree_withTime, \n",
    "    secondary = modis_cloudFree_withTime, \n",
    "    condition = filter_before)\n",
    "\n",
    "modis_joined = join_after.apply(\n",
    "    primary = modis_joined_temp, \n",
    "    secondary = modis_joined_temp, \n",
    "    condition = filter_after)\n"
   ]
  },
  {
   "cell_type": "code",
   "execution_count": 26,
   "id": "e153bed2-a1eb-42a2-9b5d-f6584b8efba3",
   "metadata": {},
   "outputs": [
    {
     "data": {
      "text/html": [
       "\n",
       "            <style>\n",
       "                .geemap-dark {\n",
       "                    --jp-widgets-color: white;\n",
       "                    --jp-widgets-label-color: white;\n",
       "                    --jp-ui-font-color1: white;\n",
       "                    --jp-layout-color2: #454545;\n",
       "                    background-color: #383838;\n",
       "                }\n",
       "                    \n",
       "                .geemap-dark .jupyter-button {\n",
       "                    --jp-layout-color3: #383838;\n",
       "                }\n",
       "                \n",
       "                .geemap-colab {\n",
       "                    background-color: var(--colab-primary-surface-color, white);\n",
       "                }\n",
       "                    \n",
       "                .geemap-colab .jupyter-button {\n",
       "                    --jp-layout-color3: var(--colab-primary-surface-color, white);\n",
       "                }\n",
       "            </style>\n",
       "            "
      ],
      "text/plain": [
       "<IPython.core.display.HTML object>"
      ]
     },
     "metadata": {},
     "output_type": "display_data"
    }
   ],
   "source": [
    "# interpolate all images from MODIS 250m image collection\n",
    "modis_interpolated = ee.ImageCollection(modis_joined.map(interpolateImage))"
   ]
  },
  {
   "cell_type": "markdown",
   "id": "3219a219",
   "metadata": {},
   "source": [
    "## Visualization Parameters (can remove this section when cleaning final code)"
   ]
  },
  {
   "cell_type": "code",
   "execution_count": 42,
   "id": "73c56a1d",
   "metadata": {},
   "outputs": [
    {
     "data": {
      "text/html": [
       "\n",
       "            <style>\n",
       "                .geemap-dark {\n",
       "                    --jp-widgets-color: white;\n",
       "                    --jp-widgets-label-color: white;\n",
       "                    --jp-ui-font-color1: white;\n",
       "                    --jp-layout-color2: #454545;\n",
       "                    background-color: #383838;\n",
       "                }\n",
       "                    \n",
       "                .geemap-dark .jupyter-button {\n",
       "                    --jp-layout-color3: #383838;\n",
       "                }\n",
       "                \n",
       "                .geemap-colab {\n",
       "                    background-color: var(--colab-primary-surface-color, white);\n",
       "                }\n",
       "                    \n",
       "                .geemap-colab .jupyter-button {\n",
       "                    --jp-layout-color3: var(--colab-primary-surface-color, white);\n",
       "                }\n",
       "            </style>\n",
       "            "
      ],
      "text/plain": [
       "<IPython.core.display.HTML object>"
      ]
     },
     "metadata": {},
     "output_type": "display_data"
    }
   ],
   "source": [
    "# define visualization parameters\n",
    "visualization_modis = {\n",
    "  'min': -100.0,\n",
    "  'max': 8000.0,\n",
    "  'bands': ['nir', 'nir', 'red'],\n",
    "}"
   ]
  },
  {
   "cell_type": "code",
   "execution_count": 44,
   "id": "86ef791b",
   "metadata": {},
   "outputs": [
    {
     "data": {
      "text/html": [
       "\n",
       "            <style>\n",
       "                .geemap-dark {\n",
       "                    --jp-widgets-color: white;\n",
       "                    --jp-widgets-label-color: white;\n",
       "                    --jp-ui-font-color1: white;\n",
       "                    --jp-layout-color2: #454545;\n",
       "                    background-color: #383838;\n",
       "                }\n",
       "                    \n",
       "                .geemap-dark .jupyter-button {\n",
       "                    --jp-layout-color3: #383838;\n",
       "                }\n",
       "                \n",
       "                .geemap-colab {\n",
       "                    background-color: var(--colab-primary-surface-color, white);\n",
       "                }\n",
       "                    \n",
       "                .geemap-colab .jupyter-button {\n",
       "                    --jp-layout-color3: var(--colab-primary-surface-color, white);\n",
       "                }\n",
       "            </style>\n",
       "            "
      ],
      "text/plain": [
       "<IPython.core.display.HTML object>"
      ]
     },
     "metadata": {},
     "output_type": "display_data"
    }
   ],
   "source": [
    "# initialization and set up of the map\n",
    "test = modis_cloudFree.filterDate('2008-10-30', '2008-10-31').median()\n",
    "test = test.clip(enp_geom)\n",
    "\n",
    "Map = geemap.Map()\n",
    "Map.centerObject(enp_geom)\n",
    "Map.add_layer(enp_geom, None, 'Etosha National Park')\n",
    "Map.add_layer(test, visualization_modis, 'Cloudfree MODIS')\n",
    "#Map"
   ]
  },
  {
   "cell_type": "markdown",
   "id": "71c502a7",
   "metadata": {},
   "source": [
    "## Loop"
   ]
  },
  {
   "cell_type": "code",
   "execution_count": 28,
   "id": "df21c7ba",
   "metadata": {},
   "outputs": [
    {
     "data": {
      "text/html": [
       "\n",
       "            <style>\n",
       "                .geemap-dark {\n",
       "                    --jp-widgets-color: white;\n",
       "                    --jp-widgets-label-color: white;\n",
       "                    --jp-ui-font-color1: white;\n",
       "                    --jp-layout-color2: #454545;\n",
       "                    background-color: #383838;\n",
       "                }\n",
       "                    \n",
       "                .geemap-dark .jupyter-button {\n",
       "                    --jp-layout-color3: #383838;\n",
       "                }\n",
       "                \n",
       "                .geemap-colab {\n",
       "                    background-color: var(--colab-primary-surface-color, white);\n",
       "                }\n",
       "                    \n",
       "                .geemap-colab .jupyter-button {\n",
       "                    --jp-layout-color3: var(--colab-primary-surface-color, white);\n",
       "                }\n",
       "            </style>\n",
       "            "
      ],
      "text/plain": [
       "<IPython.core.display.HTML object>"
      ]
     },
     "metadata": {},
     "output_type": "display_data"
    },
    {
     "name": "stdout",
     "output_type": "stream",
     "text": [
      "Total number of images: 1\n",
      "\n",
      "Exporting 1/1: /home/osboxes/Documents/MSc_Thesis/data/modis_ssf/2008_11_06.tif\n",
      "Generating URL ...\n",
      "Downloading data from https://earthengine.googleapis.com/v1/projects/earthengine-legacy/thumbnails/ff81bfb1165058ba44cc489ba4b3a68b-0da4328feae7cb98515bfb38de21abd6:getPixels\n",
      "Please wait ...\n",
      "Data downloaded to /home/osboxes/Documents/MSc_Thesis/data/modis_ssf/2008_11_06.tif\n",
      "\n",
      "\n",
      "Total number of images: 1\n",
      "\n",
      "Exporting 1/1: /home/osboxes/Documents/MSc_Thesis/data/modis_ssf/2008_10_30.tif\n",
      "Generating URL ...\n",
      "Downloading data from https://earthengine.googleapis.com/v1/projects/earthengine-legacy/thumbnails/c31f167982113173ffd715b98b67b1f5-7dd1ce9c17cc12fc34c37c1068d373e9:getPixels\n",
      "Please wait ...\n",
      "Data downloaded to /home/osboxes/Documents/MSc_Thesis/data/modis_ssf/2008_10_30.tif\n",
      "\n",
      "\n",
      "Total number of images: 1\n",
      "\n",
      "Exporting 1/1: /home/osboxes/Documents/MSc_Thesis/data/modis_ssf/2008_11_07.tif\n",
      "Generating URL ...\n",
      "Downloading data from https://earthengine.googleapis.com/v1/projects/earthengine-legacy/thumbnails/5776b0252838b4df1c4a9b92069213d4-81fef9c0f86d0c3a6a7d305233982a08:getPixels\n",
      "Please wait ...\n",
      "Data downloaded to /home/osboxes/Documents/MSc_Thesis/data/modis_ssf/2008_11_07.tif\n",
      "\n",
      "\n",
      "Total number of images: 1\n",
      "\n",
      "Exporting 1/1: /home/osboxes/Documents/MSc_Thesis/data/modis_ssf/2008_10_31.tif\n",
      "Generating URL ...\n",
      "Downloading data from https://earthengine.googleapis.com/v1/projects/earthengine-legacy/thumbnails/f9b4db7074fd897d354953de045d6e23-97c11cb1e3fbc8354a6b5faae881bd53:getPixels\n",
      "Please wait ...\n",
      "Data downloaded to /home/osboxes/Documents/MSc_Thesis/data/modis_ssf/2008_10_31.tif\n",
      "\n",
      "\n",
      "Total number of images: 1\n",
      "\n",
      "Exporting 1/1: /home/osboxes/Documents/MSc_Thesis/data/modis_ssf/2008_11_08.tif\n",
      "Generating URL ...\n",
      "Downloading data from https://earthengine.googleapis.com/v1/projects/earthengine-legacy/thumbnails/bbb68df85a00157f14ae2b70b813546f-d07d42ae445c5432a2b3e7b7ce5d164d:getPixels\n",
      "Please wait ...\n",
      "Data downloaded to /home/osboxes/Documents/MSc_Thesis/data/modis_ssf/2008_11_08.tif\n",
      "\n",
      "\n",
      "Total number of images: 1\n",
      "\n",
      "Exporting 1/1: /home/osboxes/Documents/MSc_Thesis/data/modis_ssf/2008_11_01.tif\n",
      "Generating URL ...\n",
      "Downloading data from https://earthengine.googleapis.com/v1/projects/earthengine-legacy/thumbnails/cc15cce8c65598229614b67473150230-1812273b151f0408ea3fb14bda68a14e:getPixels\n",
      "Please wait ...\n",
      "Data downloaded to /home/osboxes/Documents/MSc_Thesis/data/modis_ssf/2008_11_01.tif\n",
      "\n",
      "\n",
      "Total number of images: 1\n",
      "\n",
      "Exporting 1/1: /home/osboxes/Documents/MSc_Thesis/data/modis_ssf/2008_11_09.tif\n",
      "Generating URL ...\n",
      "Downloading data from https://earthengine.googleapis.com/v1/projects/earthengine-legacy/thumbnails/828aec485be52e962457fde7463a0ca9-c010dceeef54e87f3a959d104cd144ab:getPixels\n",
      "Please wait ...\n",
      "Data downloaded to /home/osboxes/Documents/MSc_Thesis/data/modis_ssf/2008_11_09.tif\n",
      "\n",
      "\n",
      "Total number of images: 1\n",
      "\n",
      "Exporting 1/1: /home/osboxes/Documents/MSc_Thesis/data/modis_ssf/2008_11_02.tif\n",
      "Generating URL ...\n",
      "Downloading data from https://earthengine.googleapis.com/v1/projects/earthengine-legacy/thumbnails/f02cb6aad1d02cb9eeb1b31ebe0f4531-269d4dd220dffae7c9f7f89e2631421d:getPixels\n",
      "Please wait ...\n",
      "Data downloaded to /home/osboxes/Documents/MSc_Thesis/data/modis_ssf/2008_11_02.tif\n",
      "\n",
      "\n",
      "Total number of images: 1\n",
      "\n",
      "Exporting 1/1: /home/osboxes/Documents/MSc_Thesis/data/modis_ssf/2008_11_10.tif\n",
      "Generating URL ...\n",
      "Downloading data from https://earthengine.googleapis.com/v1/projects/earthengine-legacy/thumbnails/4b2fbe34b80a825f3f4d08895b6dd356-17d34d5af784798f132cd029e2e36b5e:getPixels\n",
      "Please wait ...\n",
      "Data downloaded to /home/osboxes/Documents/MSc_Thesis/data/modis_ssf/2008_11_10.tif\n",
      "\n",
      "\n",
      "Total number of images: 1\n",
      "\n",
      "Exporting 1/1: /home/osboxes/Documents/MSc_Thesis/data/modis_ssf/2008_11_03.tif\n",
      "Generating URL ...\n",
      "Downloading data from https://earthengine.googleapis.com/v1/projects/earthengine-legacy/thumbnails/24a498ae623e83245965cf89252758e6-dac1f3786884155cb30497aef0080878:getPixels\n",
      "Please wait ...\n",
      "Data downloaded to /home/osboxes/Documents/MSc_Thesis/data/modis_ssf/2008_11_03.tif\n",
      "\n",
      "\n",
      "Total number of images: 1\n",
      "\n",
      "Exporting 1/1: /home/osboxes/Documents/MSc_Thesis/data/modis_ssf/2008_11_11.tif\n",
      "Generating URL ...\n",
      "Downloading data from https://earthengine.googleapis.com/v1/projects/earthengine-legacy/thumbnails/ade071a5816366cfb8c027d349c4273a-655d3225c9164b32c7100ec1366fbba3:getPixels\n",
      "Please wait ...\n",
      "Data downloaded to /home/osboxes/Documents/MSc_Thesis/data/modis_ssf/2008_11_11.tif\n",
      "\n",
      "\n",
      "Total number of images: 1\n",
      "\n",
      "Exporting 1/1: /home/osboxes/Documents/MSc_Thesis/data/modis_ssf/2008_11_04.tif\n",
      "Generating URL ...\n",
      "Downloading data from https://earthengine.googleapis.com/v1/projects/earthengine-legacy/thumbnails/ea828d45f018914c3268f4d7d8927f1b-0f202e152025255ffd0b20f4929758d7:getPixels\n",
      "Please wait ...\n",
      "Data downloaded to /home/osboxes/Documents/MSc_Thesis/data/modis_ssf/2008_11_04.tif\n",
      "\n",
      "\n",
      "Total number of images: 1\n",
      "\n",
      "Exporting 1/1: /home/osboxes/Documents/MSc_Thesis/data/modis_ssf/2008_11_12.tif\n",
      "Generating URL ...\n",
      "Downloading data from https://earthengine.googleapis.com/v1/projects/earthengine-legacy/thumbnails/993d206e0490c69f6d50cc7dbc22ecd6-0a57992114bd83d6b5cee70e265d192f:getPixels\n",
      "Please wait ...\n",
      "Data downloaded to /home/osboxes/Documents/MSc_Thesis/data/modis_ssf/2008_11_12.tif\n",
      "\n",
      "\n",
      "Total number of images: 1\n",
      "\n",
      "Exporting 1/1: /home/osboxes/Documents/MSc_Thesis/data/modis_ssf/2008_11_05.tif\n",
      "Generating URL ...\n",
      "Downloading data from https://earthengine.googleapis.com/v1/projects/earthengine-legacy/thumbnails/b6472ffd68750a7145dbf15154633eaa-ef54a504fbfb19e3335298db63d71ffd:getPixels\n",
      "Please wait ...\n",
      "Data downloaded to /home/osboxes/Documents/MSc_Thesis/data/modis_ssf/2008_11_05.tif\n",
      "\n",
      "\n"
     ]
    }
   ],
   "source": [
    "# loop for all table entries \n",
    "# 1. get dates\n",
    "# 2. get coordinates \n",
    "# 3. turn into geometry\n",
    "# 4. get MODIS image\n",
    "# 5. clip and reproject \n",
    "# 6. visualize\n",
    "\n",
    "for i in range(len(extents_lut)-1):\n",
    "    # select entry\n",
    "    extent = extents_lut.iloc[i]\n",
    "    \n",
    "    # retrieve extent dates \n",
    "    start_date = extent.loc['start_date']\n",
    "    end_date = extent.loc['end_date']\n",
    "    \n",
    "    start_date_prev_week = extent.loc['start_date_prev_week']\n",
    "    end_date_prev_week = extent.loc['end_date_prev_week']\n",
    "    \n",
    "    # retrieve extent coordinates \n",
    "    # source: https://sparkbyexamples.com/pandas/pandas-get-cell-value-from-dataframe/?utm_content=cmp-true\n",
    "    # source: https://stackoverflow.com/questions/75203044/how-to-create-polygon-from-bbox-data-in-pythonv\n",
    "    coords = [[[extent.loc['xmin'], extent.loc['ymin']],\n",
    "              [extent.loc['xmin'], extent.loc['ymax']],\n",
    "              [extent.loc['xmax'], extent.loc['ymax']],\n",
    "              [extent.loc['xmax'], extent.loc['ymin']]]]\n",
    "\n",
    "    # create geometry from coordinates\n",
    "    bbox = ee.Geometry.Polygon(coords, proj = 'EPSG:32733', evenOdd = False)\n",
    "    \n",
    "    # retrieve MODIS 250m image for geometry\n",
    "    modis = modis_interpolated \\\n",
    "        .filterDate(start_date, end_date) \\\n",
    "        .filterBounds(enp_geom) \\\n",
    "        .select(['nir', 'red']) \n",
    "    \n",
    "    modis_prev_week = modis_interpolated \\\n",
    "        .filterDate(start_date_prev_week, end_date_prev_week) \\\n",
    "        .filterBounds(enp_geom) \\\n",
    "        .select(['nir', 'red']) \n",
    "    \n",
    "    # reproject image\n",
    "    modis_reproj = modis.map(reprojectModis)\n",
    "    \n",
    "    modis_prev_week_reproj = modis_prev_week.map(reprojectModis)\n",
    "    \n",
    "    # clip image\n",
    "    modis_clipped = modis_reproj.map(clipToAOI)\n",
    "    \n",
    "    modis_prev_week_clipped = modis_prev_week_reproj.map(clipToAOI)\n",
    "\n",
    "    # calculate NDVI \n",
    "    modis_ndvi = modis_clipped.map(addNDVI).select(['NDVI'])\n",
    "\n",
    "    modis_ndvi_prev_week = modis_prev_week_clipped.map(addNDVI).select(['NDVI'])\n",
    "    \n",
    "    \n",
    "    # map image\n",
    "    #Map.add_layer(modis_clipped, visualization_modis, 'MODIS image')\n",
    "    \n",
    "    # export MODIS image to local repository \n",
    "    # source: https://github.com/gee-community/geemap/blob/master/examples/notebooks/11_export_image.ipynb\n",
    "    geemap.ee_export_image_collection(modis_ndvi, out_dir = out_dir, region = large_region)\n",
    "    \n",
    "    geemap.ee_export_image_collection(modis_ndvi_prev_week, out_dir = out_dir, region = large_region)\n",
    "    "
   ]
  }
 ],
 "metadata": {
  "kernelspec": {
   "display_name": "Python 3 (ipykernel)",
   "language": "python",
   "name": "python3"
  },
  "language_info": {
   "codemirror_mode": {
    "name": "ipython",
    "version": 3
   },
   "file_extension": ".py",
   "mimetype": "text/x-python",
   "name": "python",
   "nbconvert_exporter": "python",
   "pygments_lexer": "ipython3",
   "version": "3.10.13"
  }
 },
 "nbformat": 4,
 "nbformat_minor": 5
}
